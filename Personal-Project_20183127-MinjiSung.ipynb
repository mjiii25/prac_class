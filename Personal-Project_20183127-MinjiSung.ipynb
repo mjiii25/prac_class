{
  "nbformat": 4,
  "nbformat_minor": 0,
  "metadata": {
    "colab": {
      "name": "Untitled7.ipynb",
      "provenance": [],
      "authorship_tag": "ABX9TyOziN+aWkb1EdUDt6mRtGzU",
      "include_colab_link": true
    },
    "kernelspec": {
      "name": "python3",
      "display_name": "Python 3"
    },
    "language_info": {
      "name": "python"
    },
    "accelerator": "GPU"
  },
  "cells": [
    {
      "cell_type": "markdown",
      "metadata": {
        "id": "view-in-github",
        "colab_type": "text"
      },
      "source": [
        "<a href=\"https://colab.research.google.com/github/mjiii25/prac_class/blob/main/Personal-Project_20183127-MinjiSung.ipynb\" target=\"_parent\"><img src=\"https://colab.research.google.com/assets/colab-badge.svg\" alt=\"Open In Colab\"/></a>"
      ]
    },
    {
      "cell_type": "markdown",
      "metadata": {
        "id": "ESL33esHwnEu"
      },
      "source": [
        "# **서울 지역의 클러스터링(Clustering) 구역별 데이터 분석**\n",
        "\n"
      ]
    },
    {
      "cell_type": "code",
      "metadata": {
        "id": "kzm_d0L6L0zU"
      },
      "source": [
        "#[참고] https://www.dacon.io/codeshare/1358?page=1&dtype=vote&s_id=21\n",
        "#[연습] https://colab.research.google.com/drive/1Y4KiL6qxs4kJZHzTHorYIRV3bHdol95h#scrollTo=f4J8Zj8V_D_Q"
      ],
      "execution_count": null,
      "outputs": []
    },
    {
      "cell_type": "code",
      "metadata": {
        "id": "PO3G_aKHMEUV"
      },
      "source": [
        "import numpy as np\n",
        "import pandas as pd\n",
        "import seaborn as sns\n",
        "import warnings\n",
        "import math\n",
        "from matplotlib import rcParams\n",
        "import matplotlib.pyplot as plt\n",
        "import string\n",
        "from matplotlib import font_manager,rc\n",
        "import datetime\n",
        "\n",
        "rc('font',family='AppleGothic')\n",
        "plt.rcParams['axes.unicode_minus']=False"
      ],
      "execution_count": 3,
      "outputs": []
    },
    {
      "cell_type": "markdown",
      "metadata": {
        "id": "svatSjSYwwhn"
      },
      "source": [
        "## 서울 지역별 클러스터링\n",
        "\n",
        "- 위도와 경도의 정보를 담고 있는 Region.csv 이용\n",
        "- 위도와 경도를 이용해 서울 지역구를 몇 개의 클러스팅으로 구분"
      ]
    },
    {
      "cell_type": "code",
      "metadata": {
        "colab": {
          "base_uri": "https://localhost:8080/"
        },
        "id": "hiJOCZNzebdy",
        "outputId": "0b497abd-f8be-4af2-d327-f732ccd0295e"
      },
      "source": [
        "from google.colab import drive\n",
        "drive.mount('/content/drive')"
      ],
      "execution_count": 4,
      "outputs": [
        {
          "output_type": "stream",
          "text": [
            "Mounted at /content/drive\n"
          ],
          "name": "stdout"
        }
      ]
    },
    {
      "cell_type": "code",
      "metadata": {
        "colab": {
          "base_uri": "https://localhost:8080/",
          "height": 419
        },
        "id": "VdoVDaIjMYq9",
        "outputId": "a2a79a88-4d1e-4048-cd8a-583bea434aee"
      },
      "source": [
        "Region=pd.read_csv('/content/drive/MyDrive/Region.csv')\n",
        "Region"
      ],
      "execution_count": 5,
      "outputs": [
        {
          "output_type": "execute_result",
          "data": {
            "text/html": [
              "<div>\n",
              "<style scoped>\n",
              "    .dataframe tbody tr th:only-of-type {\n",
              "        vertical-align: middle;\n",
              "    }\n",
              "\n",
              "    .dataframe tbody tr th {\n",
              "        vertical-align: top;\n",
              "    }\n",
              "\n",
              "    .dataframe thead th {\n",
              "        text-align: right;\n",
              "    }\n",
              "</style>\n",
              "<table border=\"1\" class=\"dataframe\">\n",
              "  <thead>\n",
              "    <tr style=\"text-align: right;\">\n",
              "      <th></th>\n",
              "      <th>code</th>\n",
              "      <th>province</th>\n",
              "      <th>city</th>\n",
              "      <th>latitude</th>\n",
              "      <th>longitude</th>\n",
              "      <th>elementary_school_count</th>\n",
              "      <th>kindergarten_count</th>\n",
              "      <th>university_count</th>\n",
              "      <th>academy_ratio</th>\n",
              "      <th>elderly_population_ratio</th>\n",
              "      <th>elderly_alone_ratio</th>\n",
              "      <th>nursing_home_count</th>\n",
              "    </tr>\n",
              "  </thead>\n",
              "  <tbody>\n",
              "    <tr>\n",
              "      <th>0</th>\n",
              "      <td>10000</td>\n",
              "      <td>서울</td>\n",
              "      <td>서울</td>\n",
              "      <td>37.566953</td>\n",
              "      <td>126.977977</td>\n",
              "      <td>607</td>\n",
              "      <td>830</td>\n",
              "      <td>48</td>\n",
              "      <td>1.44</td>\n",
              "      <td>15.38</td>\n",
              "      <td>5.8</td>\n",
              "      <td>22739</td>\n",
              "    </tr>\n",
              "    <tr>\n",
              "      <th>1</th>\n",
              "      <td>10010</td>\n",
              "      <td>서울</td>\n",
              "      <td>강남구</td>\n",
              "      <td>37.518421</td>\n",
              "      <td>127.047222</td>\n",
              "      <td>33</td>\n",
              "      <td>38</td>\n",
              "      <td>0</td>\n",
              "      <td>4.18</td>\n",
              "      <td>13.17</td>\n",
              "      <td>4.3</td>\n",
              "      <td>3088</td>\n",
              "    </tr>\n",
              "    <tr>\n",
              "      <th>2</th>\n",
              "      <td>10020</td>\n",
              "      <td>서울</td>\n",
              "      <td>강동구</td>\n",
              "      <td>37.530492</td>\n",
              "      <td>127.123837</td>\n",
              "      <td>27</td>\n",
              "      <td>32</td>\n",
              "      <td>0</td>\n",
              "      <td>1.54</td>\n",
              "      <td>14.55</td>\n",
              "      <td>5.4</td>\n",
              "      <td>1023</td>\n",
              "    </tr>\n",
              "    <tr>\n",
              "      <th>3</th>\n",
              "      <td>10030</td>\n",
              "      <td>서울</td>\n",
              "      <td>강북구</td>\n",
              "      <td>37.639938</td>\n",
              "      <td>127.025508</td>\n",
              "      <td>14</td>\n",
              "      <td>21</td>\n",
              "      <td>0</td>\n",
              "      <td>0.67</td>\n",
              "      <td>19.49</td>\n",
              "      <td>8.5</td>\n",
              "      <td>628</td>\n",
              "    </tr>\n",
              "    <tr>\n",
              "      <th>4</th>\n",
              "      <td>10040</td>\n",
              "      <td>서울</td>\n",
              "      <td>강서구</td>\n",
              "      <td>37.551166</td>\n",
              "      <td>126.849506</td>\n",
              "      <td>36</td>\n",
              "      <td>56</td>\n",
              "      <td>1</td>\n",
              "      <td>1.17</td>\n",
              "      <td>14.39</td>\n",
              "      <td>5.7</td>\n",
              "      <td>1080</td>\n",
              "    </tr>\n",
              "    <tr>\n",
              "      <th>...</th>\n",
              "      <td>...</td>\n",
              "      <td>...</td>\n",
              "      <td>...</td>\n",
              "      <td>...</td>\n",
              "      <td>...</td>\n",
              "      <td>...</td>\n",
              "      <td>...</td>\n",
              "      <td>...</td>\n",
              "      <td>...</td>\n",
              "      <td>...</td>\n",
              "      <td>...</td>\n",
              "      <td>...</td>\n",
              "    </tr>\n",
              "    <tr>\n",
              "      <th>239</th>\n",
              "      <td>61160</td>\n",
              "      <td>경상남도</td>\n",
              "      <td>하만</td>\n",
              "      <td>35.272481</td>\n",
              "      <td>128.406540</td>\n",
              "      <td>16</td>\n",
              "      <td>20</td>\n",
              "      <td>0</td>\n",
              "      <td>1.19</td>\n",
              "      <td>23.74</td>\n",
              "      <td>14.7</td>\n",
              "      <td>94</td>\n",
              "    </tr>\n",
              "    <tr>\n",
              "      <th>240</th>\n",
              "      <td>61170</td>\n",
              "      <td>경상남도</td>\n",
              "      <td>함양</td>\n",
              "      <td>35.520541</td>\n",
              "      <td>127.725177</td>\n",
              "      <td>13</td>\n",
              "      <td>12</td>\n",
              "      <td>0</td>\n",
              "      <td>1.01</td>\n",
              "      <td>32.65</td>\n",
              "      <td>20.9</td>\n",
              "      <td>83</td>\n",
              "    </tr>\n",
              "    <tr>\n",
              "      <th>241</th>\n",
              "      <td>61180</td>\n",
              "      <td>경상남도</td>\n",
              "      <td>합천</td>\n",
              "      <td>35.566702</td>\n",
              "      <td>128.165870</td>\n",
              "      <td>17</td>\n",
              "      <td>15</td>\n",
              "      <td>0</td>\n",
              "      <td>0.71</td>\n",
              "      <td>38.44</td>\n",
              "      <td>24.7</td>\n",
              "      <td>96</td>\n",
              "    </tr>\n",
              "    <tr>\n",
              "      <th>242</th>\n",
              "      <td>70000</td>\n",
              "      <td>제주도</td>\n",
              "      <td>제주도</td>\n",
              "      <td>33.488936</td>\n",
              "      <td>126.500423</td>\n",
              "      <td>113</td>\n",
              "      <td>123</td>\n",
              "      <td>4</td>\n",
              "      <td>1.53</td>\n",
              "      <td>15.10</td>\n",
              "      <td>6.4</td>\n",
              "      <td>1245</td>\n",
              "    </tr>\n",
              "    <tr>\n",
              "      <th>243</th>\n",
              "      <td>80000</td>\n",
              "      <td>대한민국</td>\n",
              "      <td>대한민국</td>\n",
              "      <td>37.566953</td>\n",
              "      <td>126.977977</td>\n",
              "      <td>6087</td>\n",
              "      <td>8837</td>\n",
              "      <td>340</td>\n",
              "      <td>1.56</td>\n",
              "      <td>15.67</td>\n",
              "      <td>7.2</td>\n",
              "      <td>94865</td>\n",
              "    </tr>\n",
              "  </tbody>\n",
              "</table>\n",
              "<p>244 rows × 12 columns</p>\n",
              "</div>"
            ],
            "text/plain": [
              "      code province  ... elderly_alone_ratio  nursing_home_count\n",
              "0    10000       서울  ...                 5.8               22739\n",
              "1    10010       서울  ...                 4.3                3088\n",
              "2    10020       서울  ...                 5.4                1023\n",
              "3    10030       서울  ...                 8.5                 628\n",
              "4    10040       서울  ...                 5.7                1080\n",
              "..     ...      ...  ...                 ...                 ...\n",
              "239  61160     경상남도  ...                14.7                  94\n",
              "240  61170     경상남도  ...                20.9                  83\n",
              "241  61180     경상남도  ...                24.7                  96\n",
              "242  70000      제주도  ...                 6.4                1245\n",
              "243  80000     대한민국  ...                 7.2               94865\n",
              "\n",
              "[244 rows x 12 columns]"
            ]
          },
          "metadata": {
            "tags": []
          },
          "execution_count": 5
        }
      ]
    },
    {
      "cell_type": "code",
      "metadata": {
        "id": "TfClcuN9MepH"
      },
      "source": [
        "df=Region[['province', 'city', 'latitude', 'longitude']]\n",
        "df=df[df.province=='서울']\n",
        "df=df.drop(index=0)"
      ],
      "execution_count": 6,
      "outputs": []
    },
    {
      "cell_type": "markdown",
      "metadata": {
        "id": "WxmP8DzpxJ0Q"
      },
      "source": [
        "단, 모든 자치구가 포홤된 것은 아님! (구별 동향 분석에 큰 지장 없음)"
      ]
    },
    {
      "cell_type": "code",
      "metadata": {
        "colab": {
          "base_uri": "https://localhost:8080/",
          "height": 1000
        },
        "id": "T3duwmStMpeR",
        "outputId": "b0f4ae4a-1072-4923-d998-001f7fa5c09e"
      },
      "source": [
        "fig,ax = plt.subplots(figsize=(5,5))\n",
        "df.drop(columns='province').plot.scatter(x='longitude',y='latitude',ax=ax)\n",
        "for ind in df.index:\n",
        "  ax.annotate(df.loc[ind]['city'], (df.loc[ind]['longitude'], df.loc[ind]['latitude']))"
      ],
      "execution_count": 7,
      "outputs": [
        {
          "output_type": "stream",
          "text": [
            "findfont: Font family ['AppleGothic'] not found. Falling back to DejaVu Sans.\n",
            "/usr/local/lib/python3.7/dist-packages/matplotlib/backends/backend_agg.py:214: RuntimeWarning: Glyph 44053 missing from current font.\n",
            "  font.set_text(s, 0.0, flags=flags)\n",
            "/usr/local/lib/python3.7/dist-packages/matplotlib/backends/backend_agg.py:214: RuntimeWarning: Glyph 45224 missing from current font.\n",
            "  font.set_text(s, 0.0, flags=flags)\n",
            "/usr/local/lib/python3.7/dist-packages/matplotlib/backends/backend_agg.py:214: RuntimeWarning: Glyph 44396 missing from current font.\n",
            "  font.set_text(s, 0.0, flags=flags)\n",
            "/usr/local/lib/python3.7/dist-packages/matplotlib/backends/backend_agg.py:183: RuntimeWarning: Glyph 44053 missing from current font.\n",
            "  font.set_text(s, 0, flags=flags)\n",
            "/usr/local/lib/python3.7/dist-packages/matplotlib/backends/backend_agg.py:183: RuntimeWarning: Glyph 45224 missing from current font.\n",
            "  font.set_text(s, 0, flags=flags)\n",
            "/usr/local/lib/python3.7/dist-packages/matplotlib/backends/backend_agg.py:183: RuntimeWarning: Glyph 44396 missing from current font.\n",
            "  font.set_text(s, 0, flags=flags)\n",
            "/usr/local/lib/python3.7/dist-packages/matplotlib/backends/backend_agg.py:214: RuntimeWarning: Glyph 46041 missing from current font.\n",
            "  font.set_text(s, 0.0, flags=flags)\n",
            "/usr/local/lib/python3.7/dist-packages/matplotlib/backends/backend_agg.py:183: RuntimeWarning: Glyph 46041 missing from current font.\n",
            "  font.set_text(s, 0, flags=flags)\n",
            "/usr/local/lib/python3.7/dist-packages/matplotlib/backends/backend_agg.py:214: RuntimeWarning: Glyph 48513 missing from current font.\n",
            "  font.set_text(s, 0.0, flags=flags)\n",
            "/usr/local/lib/python3.7/dist-packages/matplotlib/backends/backend_agg.py:183: RuntimeWarning: Glyph 48513 missing from current font.\n",
            "  font.set_text(s, 0, flags=flags)\n",
            "/usr/local/lib/python3.7/dist-packages/matplotlib/backends/backend_agg.py:214: RuntimeWarning: Glyph 49436 missing from current font.\n",
            "  font.set_text(s, 0.0, flags=flags)\n",
            "/usr/local/lib/python3.7/dist-packages/matplotlib/backends/backend_agg.py:183: RuntimeWarning: Glyph 49436 missing from current font.\n",
            "  font.set_text(s, 0, flags=flags)\n",
            "/usr/local/lib/python3.7/dist-packages/matplotlib/backends/backend_agg.py:214: RuntimeWarning: Glyph 44288 missing from current font.\n",
            "  font.set_text(s, 0.0, flags=flags)\n",
            "/usr/local/lib/python3.7/dist-packages/matplotlib/backends/backend_agg.py:214: RuntimeWarning: Glyph 50501 missing from current font.\n",
            "  font.set_text(s, 0.0, flags=flags)\n",
            "/usr/local/lib/python3.7/dist-packages/matplotlib/backends/backend_agg.py:183: RuntimeWarning: Glyph 44288 missing from current font.\n",
            "  font.set_text(s, 0, flags=flags)\n",
            "/usr/local/lib/python3.7/dist-packages/matplotlib/backends/backend_agg.py:183: RuntimeWarning: Glyph 50501 missing from current font.\n",
            "  font.set_text(s, 0, flags=flags)\n",
            "/usr/local/lib/python3.7/dist-packages/matplotlib/backends/backend_agg.py:214: RuntimeWarning: Glyph 44305 missing from current font.\n",
            "  font.set_text(s, 0.0, flags=flags)\n",
            "/usr/local/lib/python3.7/dist-packages/matplotlib/backends/backend_agg.py:214: RuntimeWarning: Glyph 51652 missing from current font.\n",
            "  font.set_text(s, 0.0, flags=flags)\n",
            "/usr/local/lib/python3.7/dist-packages/matplotlib/backends/backend_agg.py:183: RuntimeWarning: Glyph 44305 missing from current font.\n",
            "  font.set_text(s, 0, flags=flags)\n",
            "/usr/local/lib/python3.7/dist-packages/matplotlib/backends/backend_agg.py:183: RuntimeWarning: Glyph 51652 missing from current font.\n",
            "  font.set_text(s, 0, flags=flags)\n",
            "/usr/local/lib/python3.7/dist-packages/matplotlib/backends/backend_agg.py:214: RuntimeWarning: Glyph 47196 missing from current font.\n",
            "  font.set_text(s, 0.0, flags=flags)\n",
            "/usr/local/lib/python3.7/dist-packages/matplotlib/backends/backend_agg.py:183: RuntimeWarning: Glyph 47196 missing from current font.\n",
            "  font.set_text(s, 0, flags=flags)\n",
            "/usr/local/lib/python3.7/dist-packages/matplotlib/backends/backend_agg.py:214: RuntimeWarning: Glyph 44552 missing from current font.\n",
            "  font.set_text(s, 0.0, flags=flags)\n",
            "/usr/local/lib/python3.7/dist-packages/matplotlib/backends/backend_agg.py:214: RuntimeWarning: Glyph 52380 missing from current font.\n",
            "  font.set_text(s, 0.0, flags=flags)\n",
            "/usr/local/lib/python3.7/dist-packages/matplotlib/backends/backend_agg.py:183: RuntimeWarning: Glyph 44552 missing from current font.\n",
            "  font.set_text(s, 0, flags=flags)\n",
            "/usr/local/lib/python3.7/dist-packages/matplotlib/backends/backend_agg.py:183: RuntimeWarning: Glyph 52380 missing from current font.\n",
            "  font.set_text(s, 0, flags=flags)\n",
            "/usr/local/lib/python3.7/dist-packages/matplotlib/backends/backend_agg.py:214: RuntimeWarning: Glyph 45432 missing from current font.\n",
            "  font.set_text(s, 0.0, flags=flags)\n",
            "/usr/local/lib/python3.7/dist-packages/matplotlib/backends/backend_agg.py:214: RuntimeWarning: Glyph 50896 missing from current font.\n",
            "  font.set_text(s, 0.0, flags=flags)\n",
            "/usr/local/lib/python3.7/dist-packages/matplotlib/backends/backend_agg.py:183: RuntimeWarning: Glyph 45432 missing from current font.\n",
            "  font.set_text(s, 0, flags=flags)\n",
            "/usr/local/lib/python3.7/dist-packages/matplotlib/backends/backend_agg.py:183: RuntimeWarning: Glyph 50896 missing from current font.\n",
            "  font.set_text(s, 0, flags=flags)\n",
            "/usr/local/lib/python3.7/dist-packages/matplotlib/backends/backend_agg.py:214: RuntimeWarning: Glyph 46020 missing from current font.\n",
            "  font.set_text(s, 0.0, flags=flags)\n",
            "/usr/local/lib/python3.7/dist-packages/matplotlib/backends/backend_agg.py:214: RuntimeWarning: Glyph 48393 missing from current font.\n",
            "  font.set_text(s, 0.0, flags=flags)\n",
            "/usr/local/lib/python3.7/dist-packages/matplotlib/backends/backend_agg.py:183: RuntimeWarning: Glyph 46020 missing from current font.\n",
            "  font.set_text(s, 0, flags=flags)\n",
            "/usr/local/lib/python3.7/dist-packages/matplotlib/backends/backend_agg.py:183: RuntimeWarning: Glyph 48393 missing from current font.\n",
            "  font.set_text(s, 0, flags=flags)\n",
            "/usr/local/lib/python3.7/dist-packages/matplotlib/backends/backend_agg.py:214: RuntimeWarning: Glyph 45824 missing from current font.\n",
            "  font.set_text(s, 0.0, flags=flags)\n",
            "/usr/local/lib/python3.7/dist-packages/matplotlib/backends/backend_agg.py:214: RuntimeWarning: Glyph 47928 missing from current font.\n",
            "  font.set_text(s, 0.0, flags=flags)\n",
            "/usr/local/lib/python3.7/dist-packages/matplotlib/backends/backend_agg.py:183: RuntimeWarning: Glyph 45824 missing from current font.\n",
            "  font.set_text(s, 0, flags=flags)\n",
            "/usr/local/lib/python3.7/dist-packages/matplotlib/backends/backend_agg.py:183: RuntimeWarning: Glyph 47928 missing from current font.\n",
            "  font.set_text(s, 0, flags=flags)\n",
            "/usr/local/lib/python3.7/dist-packages/matplotlib/backends/backend_agg.py:214: RuntimeWarning: Glyph 47560 missing from current font.\n",
            "  font.set_text(s, 0.0, flags=flags)\n",
            "/usr/local/lib/python3.7/dist-packages/matplotlib/backends/backend_agg.py:214: RuntimeWarning: Glyph 54252 missing from current font.\n",
            "  font.set_text(s, 0.0, flags=flags)\n",
            "/usr/local/lib/python3.7/dist-packages/matplotlib/backends/backend_agg.py:183: RuntimeWarning: Glyph 47560 missing from current font.\n",
            "  font.set_text(s, 0, flags=flags)\n",
            "/usr/local/lib/python3.7/dist-packages/matplotlib/backends/backend_agg.py:183: RuntimeWarning: Glyph 54252 missing from current font.\n",
            "  font.set_text(s, 0, flags=flags)\n",
            "/usr/local/lib/python3.7/dist-packages/matplotlib/backends/backend_agg.py:214: RuntimeWarning: Glyph 52488 missing from current font.\n",
            "  font.set_text(s, 0.0, flags=flags)\n",
            "/usr/local/lib/python3.7/dist-packages/matplotlib/backends/backend_agg.py:183: RuntimeWarning: Glyph 52488 missing from current font.\n",
            "  font.set_text(s, 0, flags=flags)\n",
            "/usr/local/lib/python3.7/dist-packages/matplotlib/backends/backend_agg.py:214: RuntimeWarning: Glyph 49457 missing from current font.\n",
            "  font.set_text(s, 0.0, flags=flags)\n",
            "/usr/local/lib/python3.7/dist-packages/matplotlib/backends/backend_agg.py:183: RuntimeWarning: Glyph 49457 missing from current font.\n",
            "  font.set_text(s, 0, flags=flags)\n",
            "/usr/local/lib/python3.7/dist-packages/matplotlib/backends/backend_agg.py:214: RuntimeWarning: Glyph 49569 missing from current font.\n",
            "  font.set_text(s, 0.0, flags=flags)\n",
            "/usr/local/lib/python3.7/dist-packages/matplotlib/backends/backend_agg.py:214: RuntimeWarning: Glyph 54028 missing from current font.\n",
            "  font.set_text(s, 0.0, flags=flags)\n",
            "/usr/local/lib/python3.7/dist-packages/matplotlib/backends/backend_agg.py:183: RuntimeWarning: Glyph 49569 missing from current font.\n",
            "  font.set_text(s, 0, flags=flags)\n",
            "/usr/local/lib/python3.7/dist-packages/matplotlib/backends/backend_agg.py:183: RuntimeWarning: Glyph 54028 missing from current font.\n",
            "  font.set_text(s, 0, flags=flags)\n",
            "/usr/local/lib/python3.7/dist-packages/matplotlib/backends/backend_agg.py:214: RuntimeWarning: Glyph 50577 missing from current font.\n",
            "  font.set_text(s, 0.0, flags=flags)\n",
            "/usr/local/lib/python3.7/dist-packages/matplotlib/backends/backend_agg.py:183: RuntimeWarning: Glyph 50577 missing from current font.\n",
            "  font.set_text(s, 0, flags=flags)\n",
            "/usr/local/lib/python3.7/dist-packages/matplotlib/backends/backend_agg.py:214: RuntimeWarning: Glyph 50689 missing from current font.\n",
            "  font.set_text(s, 0.0, flags=flags)\n",
            "/usr/local/lib/python3.7/dist-packages/matplotlib/backends/backend_agg.py:214: RuntimeWarning: Glyph 46321 missing from current font.\n",
            "  font.set_text(s, 0.0, flags=flags)\n",
            "/usr/local/lib/python3.7/dist-packages/matplotlib/backends/backend_agg.py:183: RuntimeWarning: Glyph 50689 missing from current font.\n",
            "  font.set_text(s, 0, flags=flags)\n",
            "/usr/local/lib/python3.7/dist-packages/matplotlib/backends/backend_agg.py:183: RuntimeWarning: Glyph 46321 missing from current font.\n",
            "  font.set_text(s, 0, flags=flags)\n",
            "/usr/local/lib/python3.7/dist-packages/matplotlib/backends/backend_agg.py:214: RuntimeWarning: Glyph 50857 missing from current font.\n",
            "  font.set_text(s, 0.0, flags=flags)\n",
            "/usr/local/lib/python3.7/dist-packages/matplotlib/backends/backend_agg.py:214: RuntimeWarning: Glyph 49328 missing from current font.\n",
            "  font.set_text(s, 0.0, flags=flags)\n",
            "/usr/local/lib/python3.7/dist-packages/matplotlib/backends/backend_agg.py:183: RuntimeWarning: Glyph 50857 missing from current font.\n",
            "  font.set_text(s, 0, flags=flags)\n",
            "/usr/local/lib/python3.7/dist-packages/matplotlib/backends/backend_agg.py:183: RuntimeWarning: Glyph 49328 missing from current font.\n",
            "  font.set_text(s, 0, flags=flags)\n",
            "/usr/local/lib/python3.7/dist-packages/matplotlib/backends/backend_agg.py:214: RuntimeWarning: Glyph 51008 missing from current font.\n",
            "  font.set_text(s, 0.0, flags=flags)\n",
            "/usr/local/lib/python3.7/dist-packages/matplotlib/backends/backend_agg.py:214: RuntimeWarning: Glyph 54217 missing from current font.\n",
            "  font.set_text(s, 0.0, flags=flags)\n",
            "/usr/local/lib/python3.7/dist-packages/matplotlib/backends/backend_agg.py:183: RuntimeWarning: Glyph 51008 missing from current font.\n",
            "  font.set_text(s, 0, flags=flags)\n",
            "/usr/local/lib/python3.7/dist-packages/matplotlib/backends/backend_agg.py:183: RuntimeWarning: Glyph 54217 missing from current font.\n",
            "  font.set_text(s, 0, flags=flags)\n",
            "/usr/local/lib/python3.7/dist-packages/matplotlib/backends/backend_agg.py:214: RuntimeWarning: Glyph 51333 missing from current font.\n",
            "  font.set_text(s, 0.0, flags=flags)\n",
            "/usr/local/lib/python3.7/dist-packages/matplotlib/backends/backend_agg.py:183: RuntimeWarning: Glyph 51333 missing from current font.\n",
            "  font.set_text(s, 0, flags=flags)\n",
            "/usr/local/lib/python3.7/dist-packages/matplotlib/backends/backend_agg.py:214: RuntimeWarning: Glyph 51473 missing from current font.\n",
            "  font.set_text(s, 0.0, flags=flags)\n",
            "/usr/local/lib/python3.7/dist-packages/matplotlib/backends/backend_agg.py:183: RuntimeWarning: Glyph 51473 missing from current font.\n",
            "  font.set_text(s, 0, flags=flags)\n",
            "/usr/local/lib/python3.7/dist-packages/matplotlib/backends/backend_agg.py:214: RuntimeWarning: Glyph 46993 missing from current font.\n",
            "  font.set_text(s, 0.0, flags=flags)\n",
            "/usr/local/lib/python3.7/dist-packages/matplotlib/backends/backend_agg.py:183: RuntimeWarning: Glyph 46993 missing from current font.\n",
            "  font.set_text(s, 0, flags=flags)\n"
          ],
          "name": "stderr"
        },
        {
          "output_type": "display_data",
          "data": {
            "image/png": "[encoded data removed]",
            "text/plain": [
              "<Figure size 360x360 with 1 Axes>"
            ]
          },
          "metadata": {
            "tags": [],
            "needs_background": "light"
          }
        }
      ]
    },
    {
      "cell_type": "markdown",
      "metadata": {
        "id": "5lG7rWoLxwnL"
      },
      "source": [
        "클러스터링을 통해 서울 자치구를 여러 개의 구역으로 나눈다. 이를 위해 가장 널리 쓰이는 kmeans를 사용하고, 클러스터의 개수를 4로 설정한다."
      ]
    },
    {
      "cell_type": "code",
      "metadata": {
        "id": "2XQC041Cf92c"
      },
      "source": [
        "#clustering\n",
        "\n",
        "from sklearn.cluster import KMeans\n",
        "kmeans = KMeans(n_clusters=4, random_state=2020).fit(df[['longitude','latitude']])\n",
        "labels = kmeans.labels_\n",
        "centers = kmeans.cluster_centers_"
      ],
      "execution_count": 8,
      "outputs": []
    },
    {
      "cell_type": "markdown",
      "metadata": {
        "id": "STrgWXjOx_li"
      },
      "source": [
        "클러스터링 후 각 구역이 [0,1,2,3] 중 하나로 할당된다."
      ]
    },
    {
      "cell_type": "code",
      "metadata": {
        "colab": {
          "base_uri": "https://localhost:8080/",
          "height": 514
        },
        "id": "n3lrwrfagOv3",
        "outputId": "c002d51a-d609-4d2c-b2d6-4854618cda62"
      },
      "source": [
        "df['clustering'] = labels\n",
        "df.head(15)"
      ],
      "execution_count": 9,
      "outputs": [
        {
          "output_type": "execute_result",
          "data": {
            "text/html": [
              "<div>\n",
              "<style scoped>\n",
              "    .dataframe tbody tr th:only-of-type {\n",
              "        vertical-align: middle;\n",
              "    }\n",
              "\n",
              "    .dataframe tbody tr th {\n",
              "        vertical-align: top;\n",
              "    }\n",
              "\n",
              "    .dataframe thead th {\n",
              "        text-align: right;\n",
              "    }\n",
              "</style>\n",
              "<table border=\"1\" class=\"dataframe\">\n",
              "  <thead>\n",
              "    <tr style=\"text-align: right;\">\n",
              "      <th></th>\n",
              "      <th>province</th>\n",
              "      <th>city</th>\n",
              "      <th>latitude</th>\n",
              "      <th>longitude</th>\n",
              "      <th>clustering</th>\n",
              "    </tr>\n",
              "  </thead>\n",
              "  <tbody>\n",
              "    <tr>\n",
              "      <th>1</th>\n",
              "      <td>서울</td>\n",
              "      <td>강남구</td>\n",
              "      <td>37.518421</td>\n",
              "      <td>127.047222</td>\n",
              "      <td>0</td>\n",
              "    </tr>\n",
              "    <tr>\n",
              "      <th>2</th>\n",
              "      <td>서울</td>\n",
              "      <td>강동구</td>\n",
              "      <td>37.530492</td>\n",
              "      <td>127.123837</td>\n",
              "      <td>0</td>\n",
              "    </tr>\n",
              "    <tr>\n",
              "      <th>3</th>\n",
              "      <td>서울</td>\n",
              "      <td>강북구</td>\n",
              "      <td>37.639938</td>\n",
              "      <td>127.025508</td>\n",
              "      <td>2</td>\n",
              "    </tr>\n",
              "    <tr>\n",
              "      <th>4</th>\n",
              "      <td>서울</td>\n",
              "      <td>강서구</td>\n",
              "      <td>37.551166</td>\n",
              "      <td>126.849506</td>\n",
              "      <td>1</td>\n",
              "    </tr>\n",
              "    <tr>\n",
              "      <th>5</th>\n",
              "      <td>서울</td>\n",
              "      <td>관악구</td>\n",
              "      <td>37.478290</td>\n",
              "      <td>126.951502</td>\n",
              "      <td>1</td>\n",
              "    </tr>\n",
              "    <tr>\n",
              "      <th>6</th>\n",
              "      <td>서울</td>\n",
              "      <td>광진구</td>\n",
              "      <td>37.538712</td>\n",
              "      <td>127.082366</td>\n",
              "      <td>0</td>\n",
              "    </tr>\n",
              "    <tr>\n",
              "      <th>7</th>\n",
              "      <td>서울</td>\n",
              "      <td>구로구</td>\n",
              "      <td>37.495632</td>\n",
              "      <td>126.887650</td>\n",
              "      <td>1</td>\n",
              "    </tr>\n",
              "    <tr>\n",
              "      <th>8</th>\n",
              "      <td>서울</td>\n",
              "      <td>금천구</td>\n",
              "      <td>37.456852</td>\n",
              "      <td>126.895229</td>\n",
              "      <td>1</td>\n",
              "    </tr>\n",
              "    <tr>\n",
              "      <th>9</th>\n",
              "      <td>서울</td>\n",
              "      <td>노원구</td>\n",
              "      <td>37.654259</td>\n",
              "      <td>127.056294</td>\n",
              "      <td>2</td>\n",
              "    </tr>\n",
              "    <tr>\n",
              "      <th>10</th>\n",
              "      <td>서울</td>\n",
              "      <td>도봉구</td>\n",
              "      <td>37.668952</td>\n",
              "      <td>127.047082</td>\n",
              "      <td>2</td>\n",
              "    </tr>\n",
              "    <tr>\n",
              "      <th>11</th>\n",
              "      <td>서울</td>\n",
              "      <td>동대문구</td>\n",
              "      <td>37.574552</td>\n",
              "      <td>127.039721</td>\n",
              "      <td>0</td>\n",
              "    </tr>\n",
              "    <tr>\n",
              "      <th>12</th>\n",
              "      <td>서울</td>\n",
              "      <td>동구 구</td>\n",
              "      <td>37.510571</td>\n",
              "      <td>126.963604</td>\n",
              "      <td>3</td>\n",
              "    </tr>\n",
              "    <tr>\n",
              "      <th>13</th>\n",
              "      <td>서울</td>\n",
              "      <td>마포구</td>\n",
              "      <td>37.566283</td>\n",
              "      <td>126.901644</td>\n",
              "      <td>1</td>\n",
              "    </tr>\n",
              "    <tr>\n",
              "      <th>14</th>\n",
              "      <td>서울</td>\n",
              "      <td>서대문구</td>\n",
              "      <td>37.579428</td>\n",
              "      <td>126.936771</td>\n",
              "      <td>3</td>\n",
              "    </tr>\n",
              "    <tr>\n",
              "      <th>15</th>\n",
              "      <td>서울</td>\n",
              "      <td>서초구</td>\n",
              "      <td>37.483804</td>\n",
              "      <td>127.032693</td>\n",
              "      <td>0</td>\n",
              "    </tr>\n",
              "  </tbody>\n",
              "</table>\n",
              "</div>"
            ],
            "text/plain": [
              "   province  city   latitude   longitude  clustering\n",
              "1        서울   강남구  37.518421  127.047222           0\n",
              "2        서울   강동구  37.530492  127.123837           0\n",
              "3        서울   강북구  37.639938  127.025508           2\n",
              "4        서울   강서구  37.551166  126.849506           1\n",
              "5        서울   관악구  37.478290  126.951502           1\n",
              "6        서울   광진구  37.538712  127.082366           0\n",
              "7        서울   구로구  37.495632  126.887650           1\n",
              "8        서울   금천구  37.456852  126.895229           1\n",
              "9        서울   노원구  37.654259  127.056294           2\n",
              "10       서울   도봉구  37.668952  127.047082           2\n",
              "11       서울  동대문구  37.574552  127.039721           0\n",
              "12       서울  동구 구  37.510571  126.963604           3\n",
              "13       서울   마포구  37.566283  126.901644           1\n",
              "14       서울  서대문구  37.579428  126.936771           3\n",
              "15       서울   서초구  37.483804  127.032693           0"
            ]
          },
          "metadata": {
            "tags": []
          },
          "execution_count": 9
        }
      ]
    },
    {
      "cell_type": "markdown",
      "metadata": {
        "id": "uuF0ScvUyHMq"
      },
      "source": [
        "클러스터링에 의한 지역구 구분을 명확하게 하기 위해 서로 다른 색으로 표시한다."
      ]
    },
    {
      "cell_type": "code",
      "metadata": {
        "colab": {
          "base_uri": "https://localhost:8080/",
          "height": 1000
        },
        "id": "ghwTe81OgVOa",
        "outputId": "faff1da4-8ec9-45e9-a3d0-53ae6d25c347"
      },
      "source": [
        "fig,ax = plt.subplots(figsize=(7,7))\n",
        "\n",
        "df_temp = df[df['clustering'] == 0]\n",
        "df_temp.plot.scatter(x='longitude', y='latitude', ax=ax, color = 'Red')\n",
        "\n",
        "df_temp = df[df['clustering'] == 1]\n",
        "df_temp.plot.scatter(x='longitude', y='latitude', ax=ax, color = 'Orange')\n",
        "\n",
        "df_temp = df[df['clustering'] == 2]\n",
        "df_temp.plot.scatter(x='longitude', y='latitude', ax=ax, color = 'Green')\n",
        "\n",
        "df_temp = df[df['clustering'] == 3]\n",
        "df_temp.plot.scatter(x='longitude', y='latitude', ax=ax, color = 'Blue')\n",
        "\n",
        "for ind in df.index:\n",
        "  ax.annotate(df.loc[ind]['city'], (df.loc[ind]['longitude'], df.loc[ind]['latitude']))"
      ],
      "execution_count": 10,
      "outputs": [
        {
          "output_type": "stream",
          "text": [
            "/usr/local/lib/python3.7/dist-packages/matplotlib/backends/backend_agg.py:214: RuntimeWarning: Glyph 44053 missing from current font.\n",
            "  font.set_text(s, 0.0, flags=flags)\n",
            "/usr/local/lib/python3.7/dist-packages/matplotlib/backends/backend_agg.py:214: RuntimeWarning: Glyph 45224 missing from current font.\n",
            "  font.set_text(s, 0.0, flags=flags)\n",
            "/usr/local/lib/python3.7/dist-packages/matplotlib/backends/backend_agg.py:214: RuntimeWarning: Glyph 44396 missing from current font.\n",
            "  font.set_text(s, 0.0, flags=flags)\n",
            "/usr/local/lib/python3.7/dist-packages/matplotlib/backends/backend_agg.py:183: RuntimeWarning: Glyph 44053 missing from current font.\n",
            "  font.set_text(s, 0, flags=flags)\n",
            "/usr/local/lib/python3.7/dist-packages/matplotlib/backends/backend_agg.py:183: RuntimeWarning: Glyph 45224 missing from current font.\n",
            "  font.set_text(s, 0, flags=flags)\n",
            "/usr/local/lib/python3.7/dist-packages/matplotlib/backends/backend_agg.py:183: RuntimeWarning: Glyph 44396 missing from current font.\n",
            "  font.set_text(s, 0, flags=flags)\n",
            "/usr/local/lib/python3.7/dist-packages/matplotlib/backends/backend_agg.py:214: RuntimeWarning: Glyph 46041 missing from current font.\n",
            "  font.set_text(s, 0.0, flags=flags)\n",
            "/usr/local/lib/python3.7/dist-packages/matplotlib/backends/backend_agg.py:183: RuntimeWarning: Glyph 46041 missing from current font.\n",
            "  font.set_text(s, 0, flags=flags)\n",
            "/usr/local/lib/python3.7/dist-packages/matplotlib/backends/backend_agg.py:214: RuntimeWarning: Glyph 48513 missing from current font.\n",
            "  font.set_text(s, 0.0, flags=flags)\n",
            "/usr/local/lib/python3.7/dist-packages/matplotlib/backends/backend_agg.py:183: RuntimeWarning: Glyph 48513 missing from current font.\n",
            "  font.set_text(s, 0, flags=flags)\n",
            "/usr/local/lib/python3.7/dist-packages/matplotlib/backends/backend_agg.py:214: RuntimeWarning: Glyph 49436 missing from current font.\n",
            "  font.set_text(s, 0.0, flags=flags)\n",
            "/usr/local/lib/python3.7/dist-packages/matplotlib/backends/backend_agg.py:183: RuntimeWarning: Glyph 49436 missing from current font.\n",
            "  font.set_text(s, 0, flags=flags)\n",
            "/usr/local/lib/python3.7/dist-packages/matplotlib/backends/backend_agg.py:214: RuntimeWarning: Glyph 44288 missing from current font.\n",
            "  font.set_text(s, 0.0, flags=flags)\n",
            "/usr/local/lib/python3.7/dist-packages/matplotlib/backends/backend_agg.py:214: RuntimeWarning: Glyph 50501 missing from current font.\n",
            "  font.set_text(s, 0.0, flags=flags)\n",
            "/usr/local/lib/python3.7/dist-packages/matplotlib/backends/backend_agg.py:183: RuntimeWarning: Glyph 44288 missing from current font.\n",
            "  font.set_text(s, 0, flags=flags)\n",
            "/usr/local/lib/python3.7/dist-packages/matplotlib/backends/backend_agg.py:183: RuntimeWarning: Glyph 50501 missing from current font.\n",
            "  font.set_text(s, 0, flags=flags)\n",
            "/usr/local/lib/python3.7/dist-packages/matplotlib/backends/backend_agg.py:214: RuntimeWarning: Glyph 44305 missing from current font.\n",
            "  font.set_text(s, 0.0, flags=flags)\n",
            "/usr/local/lib/python3.7/dist-packages/matplotlib/backends/backend_agg.py:214: RuntimeWarning: Glyph 51652 missing from current font.\n",
            "  font.set_text(s, 0.0, flags=flags)\n",
            "/usr/local/lib/python3.7/dist-packages/matplotlib/backends/backend_agg.py:183: RuntimeWarning: Glyph 44305 missing from current font.\n",
            "  font.set_text(s, 0, flags=flags)\n",
            "/usr/local/lib/python3.7/dist-packages/matplotlib/backends/backend_agg.py:183: RuntimeWarning: Glyph 51652 missing from current font.\n",
            "  font.set_text(s, 0, flags=flags)\n",
            "/usr/local/lib/python3.7/dist-packages/matplotlib/backends/backend_agg.py:214: RuntimeWarning: Glyph 47196 missing from current font.\n",
            "  font.set_text(s, 0.0, flags=flags)\n",
            "/usr/local/lib/python3.7/dist-packages/matplotlib/backends/backend_agg.py:183: RuntimeWarning: Glyph 47196 missing from current font.\n",
            "  font.set_text(s, 0, flags=flags)\n",
            "/usr/local/lib/python3.7/dist-packages/matplotlib/backends/backend_agg.py:214: RuntimeWarning: Glyph 44552 missing from current font.\n",
            "  font.set_text(s, 0.0, flags=flags)\n",
            "/usr/local/lib/python3.7/dist-packages/matplotlib/backends/backend_agg.py:214: RuntimeWarning: Glyph 52380 missing from current font.\n",
            "  font.set_text(s, 0.0, flags=flags)\n",
            "/usr/local/lib/python3.7/dist-packages/matplotlib/backends/backend_agg.py:183: RuntimeWarning: Glyph 44552 missing from current font.\n",
            "  font.set_text(s, 0, flags=flags)\n",
            "/usr/local/lib/python3.7/dist-packages/matplotlib/backends/backend_agg.py:183: RuntimeWarning: Glyph 52380 missing from current font.\n",
            "  font.set_text(s, 0, flags=flags)\n",
            "/usr/local/lib/python3.7/dist-packages/matplotlib/backends/backend_agg.py:214: RuntimeWarning: Glyph 45432 missing from current font.\n",
            "  font.set_text(s, 0.0, flags=flags)\n",
            "/usr/local/lib/python3.7/dist-packages/matplotlib/backends/backend_agg.py:214: RuntimeWarning: Glyph 50896 missing from current font.\n",
            "  font.set_text(s, 0.0, flags=flags)\n",
            "/usr/local/lib/python3.7/dist-packages/matplotlib/backends/backend_agg.py:183: RuntimeWarning: Glyph 45432 missing from current font.\n",
            "  font.set_text(s, 0, flags=flags)\n",
            "/usr/local/lib/python3.7/dist-packages/matplotlib/backends/backend_agg.py:183: RuntimeWarning: Glyph 50896 missing from current font.\n",
            "  font.set_text(s, 0, flags=flags)\n",
            "/usr/local/lib/python3.7/dist-packages/matplotlib/backends/backend_agg.py:214: RuntimeWarning: Glyph 46020 missing from current font.\n",
            "  font.set_text(s, 0.0, flags=flags)\n",
            "/usr/local/lib/python3.7/dist-packages/matplotlib/backends/backend_agg.py:214: RuntimeWarning: Glyph 48393 missing from current font.\n",
            "  font.set_text(s, 0.0, flags=flags)\n",
            "/usr/local/lib/python3.7/dist-packages/matplotlib/backends/backend_agg.py:183: RuntimeWarning: Glyph 46020 missing from current font.\n",
            "  font.set_text(s, 0, flags=flags)\n",
            "/usr/local/lib/python3.7/dist-packages/matplotlib/backends/backend_agg.py:183: RuntimeWarning: Glyph 48393 missing from current font.\n",
            "  font.set_text(s, 0, flags=flags)\n",
            "/usr/local/lib/python3.7/dist-packages/matplotlib/backends/backend_agg.py:214: RuntimeWarning: Glyph 45824 missing from current font.\n",
            "  font.set_text(s, 0.0, flags=flags)\n",
            "/usr/local/lib/python3.7/dist-packages/matplotlib/backends/backend_agg.py:214: RuntimeWarning: Glyph 47928 missing from current font.\n",
            "  font.set_text(s, 0.0, flags=flags)\n",
            "/usr/local/lib/python3.7/dist-packages/matplotlib/backends/backend_agg.py:183: RuntimeWarning: Glyph 45824 missing from current font.\n",
            "  font.set_text(s, 0, flags=flags)\n",
            "/usr/local/lib/python3.7/dist-packages/matplotlib/backends/backend_agg.py:183: RuntimeWarning: Glyph 47928 missing from current font.\n",
            "  font.set_text(s, 0, flags=flags)\n",
            "/usr/local/lib/python3.7/dist-packages/matplotlib/backends/backend_agg.py:214: RuntimeWarning: Glyph 47560 missing from current font.\n",
            "  font.set_text(s, 0.0, flags=flags)\n",
            "/usr/local/lib/python3.7/dist-packages/matplotlib/backends/backend_agg.py:214: RuntimeWarning: Glyph 54252 missing from current font.\n",
            "  font.set_text(s, 0.0, flags=flags)\n",
            "/usr/local/lib/python3.7/dist-packages/matplotlib/backends/backend_agg.py:183: RuntimeWarning: Glyph 47560 missing from current font.\n",
            "  font.set_text(s, 0, flags=flags)\n",
            "/usr/local/lib/python3.7/dist-packages/matplotlib/backends/backend_agg.py:183: RuntimeWarning: Glyph 54252 missing from current font.\n",
            "  font.set_text(s, 0, flags=flags)\n",
            "/usr/local/lib/python3.7/dist-packages/matplotlib/backends/backend_agg.py:214: RuntimeWarning: Glyph 52488 missing from current font.\n",
            "  font.set_text(s, 0.0, flags=flags)\n",
            "/usr/local/lib/python3.7/dist-packages/matplotlib/backends/backend_agg.py:183: RuntimeWarning: Glyph 52488 missing from current font.\n",
            "  font.set_text(s, 0, flags=flags)\n",
            "/usr/local/lib/python3.7/dist-packages/matplotlib/backends/backend_agg.py:214: RuntimeWarning: Glyph 49457 missing from current font.\n",
            "  font.set_text(s, 0.0, flags=flags)\n",
            "/usr/local/lib/python3.7/dist-packages/matplotlib/backends/backend_agg.py:183: RuntimeWarning: Glyph 49457 missing from current font.\n",
            "  font.set_text(s, 0, flags=flags)\n",
            "/usr/local/lib/python3.7/dist-packages/matplotlib/backends/backend_agg.py:214: RuntimeWarning: Glyph 49569 missing from current font.\n",
            "  font.set_text(s, 0.0, flags=flags)\n",
            "/usr/local/lib/python3.7/dist-packages/matplotlib/backends/backend_agg.py:214: RuntimeWarning: Glyph 54028 missing from current font.\n",
            "  font.set_text(s, 0.0, flags=flags)\n",
            "/usr/local/lib/python3.7/dist-packages/matplotlib/backends/backend_agg.py:183: RuntimeWarning: Glyph 49569 missing from current font.\n",
            "  font.set_text(s, 0, flags=flags)\n",
            "/usr/local/lib/python3.7/dist-packages/matplotlib/backends/backend_agg.py:183: RuntimeWarning: Glyph 54028 missing from current font.\n",
            "  font.set_text(s, 0, flags=flags)\n",
            "/usr/local/lib/python3.7/dist-packages/matplotlib/backends/backend_agg.py:214: RuntimeWarning: Glyph 50577 missing from current font.\n",
            "  font.set_text(s, 0.0, flags=flags)\n",
            "/usr/local/lib/python3.7/dist-packages/matplotlib/backends/backend_agg.py:183: RuntimeWarning: Glyph 50577 missing from current font.\n",
            "  font.set_text(s, 0, flags=flags)\n",
            "/usr/local/lib/python3.7/dist-packages/matplotlib/backends/backend_agg.py:214: RuntimeWarning: Glyph 50689 missing from current font.\n",
            "  font.set_text(s, 0.0, flags=flags)\n",
            "/usr/local/lib/python3.7/dist-packages/matplotlib/backends/backend_agg.py:214: RuntimeWarning: Glyph 46321 missing from current font.\n",
            "  font.set_text(s, 0.0, flags=flags)\n",
            "/usr/local/lib/python3.7/dist-packages/matplotlib/backends/backend_agg.py:183: RuntimeWarning: Glyph 50689 missing from current font.\n",
            "  font.set_text(s, 0, flags=flags)\n",
            "/usr/local/lib/python3.7/dist-packages/matplotlib/backends/backend_agg.py:183: RuntimeWarning: Glyph 46321 missing from current font.\n",
            "  font.set_text(s, 0, flags=flags)\n",
            "/usr/local/lib/python3.7/dist-packages/matplotlib/backends/backend_agg.py:214: RuntimeWarning: Glyph 50857 missing from current font.\n",
            "  font.set_text(s, 0.0, flags=flags)\n",
            "/usr/local/lib/python3.7/dist-packages/matplotlib/backends/backend_agg.py:214: RuntimeWarning: Glyph 49328 missing from current font.\n",
            "  font.set_text(s, 0.0, flags=flags)\n",
            "/usr/local/lib/python3.7/dist-packages/matplotlib/backends/backend_agg.py:183: RuntimeWarning: Glyph 50857 missing from current font.\n",
            "  font.set_text(s, 0, flags=flags)\n",
            "/usr/local/lib/python3.7/dist-packages/matplotlib/backends/backend_agg.py:183: RuntimeWarning: Glyph 49328 missing from current font.\n",
            "  font.set_text(s, 0, flags=flags)\n",
            "/usr/local/lib/python3.7/dist-packages/matplotlib/backends/backend_agg.py:214: RuntimeWarning: Glyph 51008 missing from current font.\n",
            "  font.set_text(s, 0.0, flags=flags)\n",
            "/usr/local/lib/python3.7/dist-packages/matplotlib/backends/backend_agg.py:214: RuntimeWarning: Glyph 54217 missing from current font.\n",
            "  font.set_text(s, 0.0, flags=flags)\n",
            "/usr/local/lib/python3.7/dist-packages/matplotlib/backends/backend_agg.py:183: RuntimeWarning: Glyph 51008 missing from current font.\n",
            "  font.set_text(s, 0, flags=flags)\n",
            "/usr/local/lib/python3.7/dist-packages/matplotlib/backends/backend_agg.py:183: RuntimeWarning: Glyph 54217 missing from current font.\n",
            "  font.set_text(s, 0, flags=flags)\n",
            "/usr/local/lib/python3.7/dist-packages/matplotlib/backends/backend_agg.py:214: RuntimeWarning: Glyph 51333 missing from current font.\n",
            "  font.set_text(s, 0.0, flags=flags)\n",
            "/usr/local/lib/python3.7/dist-packages/matplotlib/backends/backend_agg.py:183: RuntimeWarning: Glyph 51333 missing from current font.\n",
            "  font.set_text(s, 0, flags=flags)\n",
            "/usr/local/lib/python3.7/dist-packages/matplotlib/backends/backend_agg.py:214: RuntimeWarning: Glyph 51473 missing from current font.\n",
            "  font.set_text(s, 0.0, flags=flags)\n",
            "/usr/local/lib/python3.7/dist-packages/matplotlib/backends/backend_agg.py:183: RuntimeWarning: Glyph 51473 missing from current font.\n",
            "  font.set_text(s, 0, flags=flags)\n",
            "/usr/local/lib/python3.7/dist-packages/matplotlib/backends/backend_agg.py:214: RuntimeWarning: Glyph 46993 missing from current font.\n",
            "  font.set_text(s, 0.0, flags=flags)\n",
            "/usr/local/lib/python3.7/dist-packages/matplotlib/backends/backend_agg.py:183: RuntimeWarning: Glyph 46993 missing from current font.\n",
            "  font.set_text(s, 0, flags=flags)\n"
          ],
          "name": "stderr"
        },
        {
          "output_type": "display_data",
          "data": {
            "image/png": "[encoded data removed]",
            "text/plain": [
              "<Figure size 504x504 with 1 Axes>"
            ]
          },
          "metadata": {
            "tags": [],
            "needs_background": "light"
          }
        }
      ]
    },
    {
      "cell_type": "markdown",
      "metadata": {
        "id": "LEcSs0fwyP3W"
      },
      "source": [
        "[0,1,2,3]이라는 라벨을 각 클러스터의 대표적인 지역구 이름으로 수정한다.\n",
        "\n",
        "- 빨간색 - 강남구외\n",
        "- 노랑색 - 강서구외\n",
        "- 초록색 - 강북구외\n",
        "- 파랑색 - 종로구외"
      ]
    },
    {
      "cell_type": "code",
      "metadata": {
        "colab": {
          "base_uri": "https://localhost:8080/",
          "height": 669
        },
        "id": "s0XEBua1g_Vy",
        "outputId": "849f7fcb-d132-4e64-97e1-ef21615d77d8"
      },
      "source": [
        "df.loc[:,'clustering'] = df.clustering.replace([0,1,2,3], ['강남구외', '강서구외', '강북구외', '종로구외'])\n",
        "df.head(20)"
      ],
      "execution_count": 11,
      "outputs": [
        {
          "output_type": "execute_result",
          "data": {
            "text/html": [
              "<div>\n",
              "<style scoped>\n",
              "    .dataframe tbody tr th:only-of-type {\n",
              "        vertical-align: middle;\n",
              "    }\n",
              "\n",
              "    .dataframe tbody tr th {\n",
              "        vertical-align: top;\n",
              "    }\n",
              "\n",
              "    .dataframe thead th {\n",
              "        text-align: right;\n",
              "    }\n",
              "</style>\n",
              "<table border=\"1\" class=\"dataframe\">\n",
              "  <thead>\n",
              "    <tr style=\"text-align: right;\">\n",
              "      <th></th>\n",
              "      <th>province</th>\n",
              "      <th>city</th>\n",
              "      <th>latitude</th>\n",
              "      <th>longitude</th>\n",
              "      <th>clustering</th>\n",
              "    </tr>\n",
              "  </thead>\n",
              "  <tbody>\n",
              "    <tr>\n",
              "      <th>1</th>\n",
              "      <td>서울</td>\n",
              "      <td>강남구</td>\n",
              "      <td>37.518421</td>\n",
              "      <td>127.047222</td>\n",
              "      <td>강남구외</td>\n",
              "    </tr>\n",
              "    <tr>\n",
              "      <th>2</th>\n",
              "      <td>서울</td>\n",
              "      <td>강동구</td>\n",
              "      <td>37.530492</td>\n",
              "      <td>127.123837</td>\n",
              "      <td>강남구외</td>\n",
              "    </tr>\n",
              "    <tr>\n",
              "      <th>3</th>\n",
              "      <td>서울</td>\n",
              "      <td>강북구</td>\n",
              "      <td>37.639938</td>\n",
              "      <td>127.025508</td>\n",
              "      <td>강북구외</td>\n",
              "    </tr>\n",
              "    <tr>\n",
              "      <th>4</th>\n",
              "      <td>서울</td>\n",
              "      <td>강서구</td>\n",
              "      <td>37.551166</td>\n",
              "      <td>126.849506</td>\n",
              "      <td>강서구외</td>\n",
              "    </tr>\n",
              "    <tr>\n",
              "      <th>5</th>\n",
              "      <td>서울</td>\n",
              "      <td>관악구</td>\n",
              "      <td>37.478290</td>\n",
              "      <td>126.951502</td>\n",
              "      <td>강서구외</td>\n",
              "    </tr>\n",
              "    <tr>\n",
              "      <th>6</th>\n",
              "      <td>서울</td>\n",
              "      <td>광진구</td>\n",
              "      <td>37.538712</td>\n",
              "      <td>127.082366</td>\n",
              "      <td>강남구외</td>\n",
              "    </tr>\n",
              "    <tr>\n",
              "      <th>7</th>\n",
              "      <td>서울</td>\n",
              "      <td>구로구</td>\n",
              "      <td>37.495632</td>\n",
              "      <td>126.887650</td>\n",
              "      <td>강서구외</td>\n",
              "    </tr>\n",
              "    <tr>\n",
              "      <th>8</th>\n",
              "      <td>서울</td>\n",
              "      <td>금천구</td>\n",
              "      <td>37.456852</td>\n",
              "      <td>126.895229</td>\n",
              "      <td>강서구외</td>\n",
              "    </tr>\n",
              "    <tr>\n",
              "      <th>9</th>\n",
              "      <td>서울</td>\n",
              "      <td>노원구</td>\n",
              "      <td>37.654259</td>\n",
              "      <td>127.056294</td>\n",
              "      <td>강북구외</td>\n",
              "    </tr>\n",
              "    <tr>\n",
              "      <th>10</th>\n",
              "      <td>서울</td>\n",
              "      <td>도봉구</td>\n",
              "      <td>37.668952</td>\n",
              "      <td>127.047082</td>\n",
              "      <td>강북구외</td>\n",
              "    </tr>\n",
              "    <tr>\n",
              "      <th>11</th>\n",
              "      <td>서울</td>\n",
              "      <td>동대문구</td>\n",
              "      <td>37.574552</td>\n",
              "      <td>127.039721</td>\n",
              "      <td>강남구외</td>\n",
              "    </tr>\n",
              "    <tr>\n",
              "      <th>12</th>\n",
              "      <td>서울</td>\n",
              "      <td>동구 구</td>\n",
              "      <td>37.510571</td>\n",
              "      <td>126.963604</td>\n",
              "      <td>종로구외</td>\n",
              "    </tr>\n",
              "    <tr>\n",
              "      <th>13</th>\n",
              "      <td>서울</td>\n",
              "      <td>마포구</td>\n",
              "      <td>37.566283</td>\n",
              "      <td>126.901644</td>\n",
              "      <td>강서구외</td>\n",
              "    </tr>\n",
              "    <tr>\n",
              "      <th>14</th>\n",
              "      <td>서울</td>\n",
              "      <td>서대문구</td>\n",
              "      <td>37.579428</td>\n",
              "      <td>126.936771</td>\n",
              "      <td>종로구외</td>\n",
              "    </tr>\n",
              "    <tr>\n",
              "      <th>15</th>\n",
              "      <td>서울</td>\n",
              "      <td>서초구</td>\n",
              "      <td>37.483804</td>\n",
              "      <td>127.032693</td>\n",
              "      <td>강남구외</td>\n",
              "    </tr>\n",
              "    <tr>\n",
              "      <th>16</th>\n",
              "      <td>서울</td>\n",
              "      <td>성동구</td>\n",
              "      <td>37.563277</td>\n",
              "      <td>127.036647</td>\n",
              "      <td>강남구외</td>\n",
              "    </tr>\n",
              "    <tr>\n",
              "      <th>17</th>\n",
              "      <td>서울</td>\n",
              "      <td>성북구</td>\n",
              "      <td>37.589562</td>\n",
              "      <td>127.016700</td>\n",
              "      <td>종로구외</td>\n",
              "    </tr>\n",
              "    <tr>\n",
              "      <th>18</th>\n",
              "      <td>서울</td>\n",
              "      <td>송파구</td>\n",
              "      <td>37.514620</td>\n",
              "      <td>127.106141</td>\n",
              "      <td>강남구외</td>\n",
              "    </tr>\n",
              "    <tr>\n",
              "      <th>19</th>\n",
              "      <td>서울</td>\n",
              "      <td>양천구</td>\n",
              "      <td>37.517189</td>\n",
              "      <td>126.866618</td>\n",
              "      <td>강서구외</td>\n",
              "    </tr>\n",
              "    <tr>\n",
              "      <th>20</th>\n",
              "      <td>서울</td>\n",
              "      <td>영등포구</td>\n",
              "      <td>37.526505</td>\n",
              "      <td>126.896190</td>\n",
              "      <td>강서구외</td>\n",
              "    </tr>\n",
              "  </tbody>\n",
              "</table>\n",
              "</div>"
            ],
            "text/plain": [
              "   province  city   latitude   longitude clustering\n",
              "1        서울   강남구  37.518421  127.047222       강남구외\n",
              "2        서울   강동구  37.530492  127.123837       강남구외\n",
              "3        서울   강북구  37.639938  127.025508       강북구외\n",
              "4        서울   강서구  37.551166  126.849506       강서구외\n",
              "5        서울   관악구  37.478290  126.951502       강서구외\n",
              "6        서울   광진구  37.538712  127.082366       강남구외\n",
              "7        서울   구로구  37.495632  126.887650       강서구외\n",
              "8        서울   금천구  37.456852  126.895229       강서구외\n",
              "9        서울   노원구  37.654259  127.056294       강북구외\n",
              "10       서울   도봉구  37.668952  127.047082       강북구외\n",
              "11       서울  동대문구  37.574552  127.039721       강남구외\n",
              "12       서울  동구 구  37.510571  126.963604       종로구외\n",
              "13       서울   마포구  37.566283  126.901644       강서구외\n",
              "14       서울  서대문구  37.579428  126.936771       종로구외\n",
              "15       서울   서초구  37.483804  127.032693       강남구외\n",
              "16       서울   성동구  37.563277  127.036647       강남구외\n",
              "17       서울   성북구  37.589562  127.016700       종로구외\n",
              "18       서울   송파구  37.514620  127.106141       강남구외\n",
              "19       서울   양천구  37.517189  126.866618       강서구외\n",
              "20       서울  영등포구  37.526505  126.896190       강서구외"
            ]
          },
          "metadata": {
            "tags": []
          },
          "execution_count": 11
        }
      ]
    },
    {
      "cell_type": "code",
      "metadata": {
        "id": "QHibGtnohQN-"
      },
      "source": [
        "region = df"
      ],
      "execution_count": 12,
      "outputs": []
    },
    {
      "cell_type": "markdown",
      "metadata": {
        "id": "2wd3TW0qynor"
      },
      "source": [
        "\n",
        "\n",
        "\n",
        "\n",
        "# 전처리\n",
        "\n"
      ]
    },
    {
      "cell_type": "code",
      "metadata": {
        "id": "362wvBIAhSe1"
      },
      "source": [
        "fpopl = pd.read_csv('/content/drive/MyDrive/fpopl.csv')\n",
        "card = pd.read_csv('/content/drive/MyDrive/card_20200717.csv')"
      ],
      "execution_count": 13,
      "outputs": []
    },
    {
      "cell_type": "markdown",
      "metadata": {
        "id": "bGA-SY_tyrN7"
      },
      "source": [
        "## 전처리1 : 행정구역코드를 바탕으로 유동인구 및 카드 데이터에 대해 서울지역구 column 추가하기\n",
        "\n",
        "fpopl과 pop 모두 행정구역 정보가 코드로만 나와있기 때문에 서울 지역구 column을 손수 알아낼 필요가 있다."
      ]
    },
    {
      "cell_type": "code",
      "metadata": {
        "colab": {
          "base_uri": "https://localhost:8080/",
          "height": 204
        },
        "id": "KKhKmA0IhoHT",
        "outputId": "7b3f0e5b-0157-4554-d1b4-e7edf3632fd7"
      },
      "source": [
        "fpopl.head()"
      ],
      "execution_count": 14,
      "outputs": [
        {
          "output_type": "execute_result",
          "data": {
            "text/html": [
              "<div>\n",
              "<style scoped>\n",
              "    .dataframe tbody tr th:only-of-type {\n",
              "        vertical-align: middle;\n",
              "    }\n",
              "\n",
              "    .dataframe tbody tr th {\n",
              "        vertical-align: top;\n",
              "    }\n",
              "\n",
              "    .dataframe thead th {\n",
              "        text-align: right;\n",
              "    }\n",
              "</style>\n",
              "<table border=\"1\" class=\"dataframe\">\n",
              "  <thead>\n",
              "    <tr style=\"text-align: right;\">\n",
              "      <th></th>\n",
              "      <th>base_ymd</th>\n",
              "      <th>tmzon_se_code</th>\n",
              "      <th>sexdstn_se_code</th>\n",
              "      <th>agrde_se_code</th>\n",
              "      <th>adstrd_code</th>\n",
              "      <th>popltn_cascnt</th>\n",
              "    </tr>\n",
              "  </thead>\n",
              "  <tbody>\n",
              "    <tr>\n",
              "      <th>0</th>\n",
              "      <td>20200101</td>\n",
              "      <td>0</td>\n",
              "      <td>M</td>\n",
              "      <td>age_00</td>\n",
              "      <td>11650560</td>\n",
              "      <td>15</td>\n",
              "    </tr>\n",
              "    <tr>\n",
              "      <th>1</th>\n",
              "      <td>20200101</td>\n",
              "      <td>0</td>\n",
              "      <td>M</td>\n",
              "      <td>age_00</td>\n",
              "      <td>11590620</td>\n",
              "      <td>6</td>\n",
              "    </tr>\n",
              "    <tr>\n",
              "      <th>2</th>\n",
              "      <td>20200101</td>\n",
              "      <td>0</td>\n",
              "      <td>M</td>\n",
              "      <td>age_00</td>\n",
              "      <td>11560710</td>\n",
              "      <td>4</td>\n",
              "    </tr>\n",
              "    <tr>\n",
              "      <th>3</th>\n",
              "      <td>20200101</td>\n",
              "      <td>0</td>\n",
              "      <td>M</td>\n",
              "      <td>age_00</td>\n",
              "      <td>11470680</td>\n",
              "      <td>12</td>\n",
              "    </tr>\n",
              "    <tr>\n",
              "      <th>4</th>\n",
              "      <td>20200101</td>\n",
              "      <td>0</td>\n",
              "      <td>M</td>\n",
              "      <td>age_00</td>\n",
              "      <td>11350665</td>\n",
              "      <td>6</td>\n",
              "    </tr>\n",
              "  </tbody>\n",
              "</table>\n",
              "</div>"
            ],
            "text/plain": [
              "   base_ymd  tmzon_se_code  ... adstrd_code popltn_cascnt\n",
              "0  20200101              0  ...    11650560            15\n",
              "1  20200101              0  ...    11590620             6\n",
              "2  20200101              0  ...    11560710             4\n",
              "3  20200101              0  ...    11470680            12\n",
              "4  20200101              0  ...    11350665             6\n",
              "\n",
              "[5 rows x 6 columns]"
            ]
          },
          "metadata": {
            "tags": []
          },
          "execution_count": 14
        }
      ]
    },
    {
      "cell_type": "code",
      "metadata": {
        "colab": {
          "base_uri": "https://localhost:8080/",
          "height": 204
        },
        "id": "Y35svoKjhrUB",
        "outputId": "2c62f615-f683-4947-cc7e-99875128415b"
      },
      "source": [
        "card.head()"
      ],
      "execution_count": 15,
      "outputs": [
        {
          "output_type": "execute_result",
          "data": {
            "text/html": [
              "<div>\n",
              "<style scoped>\n",
              "    .dataframe tbody tr th:only-of-type {\n",
              "        vertical-align: middle;\n",
              "    }\n",
              "\n",
              "    .dataframe tbody tr th {\n",
              "        vertical-align: top;\n",
              "    }\n",
              "\n",
              "    .dataframe thead th {\n",
              "        text-align: right;\n",
              "    }\n",
              "</style>\n",
              "<table border=\"1\" class=\"dataframe\">\n",
              "  <thead>\n",
              "    <tr style=\"text-align: right;\">\n",
              "      <th></th>\n",
              "      <th>receipt_dttm</th>\n",
              "      <th>adstrd_code</th>\n",
              "      <th>adstrd_nm</th>\n",
              "      <th>mrhst_induty_cl_code</th>\n",
              "      <th>mrhst_induty_cl_nm</th>\n",
              "      <th>selng_cascnt</th>\n",
              "      <th>salamt</th>\n",
              "    </tr>\n",
              "  </thead>\n",
              "  <tbody>\n",
              "    <tr>\n",
              "      <th>0</th>\n",
              "      <td>20200104</td>\n",
              "      <td>1174066000</td>\n",
              "      <td>성내3동</td>\n",
              "      <td>7041</td>\n",
              "      <td>약국</td>\n",
              "      <td>463</td>\n",
              "      <td>5843230</td>\n",
              "    </tr>\n",
              "    <tr>\n",
              "      <th>1</th>\n",
              "      <td>20200104</td>\n",
              "      <td>1174066000</td>\n",
              "      <td>성내3동</td>\n",
              "      <td>7022</td>\n",
              "      <td>치과의원</td>\n",
              "      <td>33</td>\n",
              "      <td>7835550</td>\n",
              "    </tr>\n",
              "    <tr>\n",
              "      <th>2</th>\n",
              "      <td>20200104</td>\n",
              "      <td>1174066000</td>\n",
              "      <td>성내3동</td>\n",
              "      <td>7021</td>\n",
              "      <td>한의원</td>\n",
              "      <td>53</td>\n",
              "      <td>4589800</td>\n",
              "    </tr>\n",
              "    <tr>\n",
              "      <th>3</th>\n",
              "      <td>20200104</td>\n",
              "      <td>1174066000</td>\n",
              "      <td>성내3동</td>\n",
              "      <td>7020</td>\n",
              "      <td>의원</td>\n",
              "      <td>339</td>\n",
              "      <td>9267240</td>\n",
              "    </tr>\n",
              "    <tr>\n",
              "      <th>4</th>\n",
              "      <td>20200104</td>\n",
              "      <td>1174066000</td>\n",
              "      <td>성내3동</td>\n",
              "      <td>6110</td>\n",
              "      <td>자동차정비</td>\n",
              "      <td>19</td>\n",
              "      <td>4441000</td>\n",
              "    </tr>\n",
              "  </tbody>\n",
              "</table>\n",
              "</div>"
            ],
            "text/plain": [
              "   receipt_dttm  adstrd_code  ... selng_cascnt   salamt\n",
              "0      20200104   1174066000  ...          463  5843230\n",
              "1      20200104   1174066000  ...           33  7835550\n",
              "2      20200104   1174066000  ...           53  4589800\n",
              "3      20200104   1174066000  ...          339  9267240\n",
              "4      20200104   1174066000  ...           19  4441000\n",
              "\n",
              "[5 rows x 7 columns]"
            ]
          },
          "metadata": {
            "tags": []
          },
          "execution_count": 15
        }
      ]
    },
    {
      "cell_type": "markdown",
      "metadata": {
        "id": "w2FOFgvqzCvh"
      },
      "source": [
        "astrd_master.csv 파일을 통해 지역구 코드에 대한 정보를 파악할 수 있다.\n",
        "앞 4자리가 서울지역의 구를 나타내므로 해당 코드와 대응하는 구를 파악한다."
      ]
    },
    {
      "cell_type": "code",
      "metadata": {
        "colab": {
          "base_uri": "https://localhost:8080/",
          "height": 419
        },
        "id": "eoIIN_7ThuK9",
        "outputId": "2dcc1707-b9c0-4f46-ec0d-fc019c633084"
      },
      "source": [
        "adstrd = pd.read_csv('/content/drive/MyDrive/adstrd_master.csv')\n",
        "adstrd"
      ],
      "execution_count": 16,
      "outputs": [
        {
          "output_type": "execute_result",
          "data": {
            "text/html": [
              "<div>\n",
              "<style scoped>\n",
              "    .dataframe tbody tr th:only-of-type {\n",
              "        vertical-align: middle;\n",
              "    }\n",
              "\n",
              "    .dataframe tbody tr th {\n",
              "        vertical-align: top;\n",
              "    }\n",
              "\n",
              "    .dataframe thead th {\n",
              "        text-align: right;\n",
              "    }\n",
              "</style>\n",
              "<table border=\"1\" class=\"dataframe\">\n",
              "  <thead>\n",
              "    <tr style=\"text-align: right;\">\n",
              "      <th></th>\n",
              "      <th>adstrd_code</th>\n",
              "      <th>adstrd_nm</th>\n",
              "      <th>brtc_nm</th>\n",
              "      <th>signgu_nm</th>\n",
              "    </tr>\n",
              "  </thead>\n",
              "  <tbody>\n",
              "    <tr>\n",
              "      <th>0</th>\n",
              "      <td>11110515.0</td>\n",
              "      <td>청운효자동</td>\n",
              "      <td>서울특별시</td>\n",
              "      <td>종로구</td>\n",
              "    </tr>\n",
              "    <tr>\n",
              "      <th>1</th>\n",
              "      <td>11110530.0</td>\n",
              "      <td>사직동</td>\n",
              "      <td>서울특별시</td>\n",
              "      <td>종로구</td>\n",
              "    </tr>\n",
              "    <tr>\n",
              "      <th>2</th>\n",
              "      <td>11110540.0</td>\n",
              "      <td>삼청동</td>\n",
              "      <td>서울특별시</td>\n",
              "      <td>종로구</td>\n",
              "    </tr>\n",
              "    <tr>\n",
              "      <th>3</th>\n",
              "      <td>11110550.0</td>\n",
              "      <td>부암동</td>\n",
              "      <td>서울특별시</td>\n",
              "      <td>종로구</td>\n",
              "    </tr>\n",
              "    <tr>\n",
              "      <th>4</th>\n",
              "      <td>11110560.0</td>\n",
              "      <td>평창동</td>\n",
              "      <td>서울특별시</td>\n",
              "      <td>종로구</td>\n",
              "    </tr>\n",
              "    <tr>\n",
              "      <th>...</th>\n",
              "      <td>...</td>\n",
              "      <td>...</td>\n",
              "      <td>...</td>\n",
              "      <td>...</td>\n",
              "    </tr>\n",
              "    <tr>\n",
              "      <th>3488</th>\n",
              "      <td>50130580.0</td>\n",
              "      <td>서홍동</td>\n",
              "      <td>제주특별자치도</td>\n",
              "      <td>서귀포시</td>\n",
              "    </tr>\n",
              "    <tr>\n",
              "      <th>3489</th>\n",
              "      <td>50130590.0</td>\n",
              "      <td>대륜동</td>\n",
              "      <td>제주특별자치도</td>\n",
              "      <td>서귀포시</td>\n",
              "    </tr>\n",
              "    <tr>\n",
              "      <th>3490</th>\n",
              "      <td>50130600.0</td>\n",
              "      <td>대천동</td>\n",
              "      <td>제주특별자치도</td>\n",
              "      <td>서귀포시</td>\n",
              "    </tr>\n",
              "    <tr>\n",
              "      <th>3491</th>\n",
              "      <td>50130610.0</td>\n",
              "      <td>중문동</td>\n",
              "      <td>제주특별자치도</td>\n",
              "      <td>서귀포시</td>\n",
              "    </tr>\n",
              "    <tr>\n",
              "      <th>3492</th>\n",
              "      <td>50130620.0</td>\n",
              "      <td>예래동</td>\n",
              "      <td>제주특별자치도</td>\n",
              "      <td>서귀포시</td>\n",
              "    </tr>\n",
              "  </tbody>\n",
              "</table>\n",
              "<p>3493 rows × 4 columns</p>\n",
              "</div>"
            ],
            "text/plain": [
              "      adstrd_code adstrd_nm  brtc_nm signgu_nm\n",
              "0      11110515.0     청운효자동    서울특별시       종로구\n",
              "1      11110530.0       사직동    서울특별시       종로구\n",
              "2      11110540.0       삼청동    서울특별시       종로구\n",
              "3      11110550.0       부암동    서울특별시       종로구\n",
              "4      11110560.0       평창동    서울특별시       종로구\n",
              "...           ...       ...      ...       ...\n",
              "3488   50130580.0       서홍동  제주특별자치도      서귀포시\n",
              "3489   50130590.0       대륜동  제주특별자치도      서귀포시\n",
              "3490   50130600.0       대천동  제주특별자치도      서귀포시\n",
              "3491   50130610.0       중문동  제주특별자치도      서귀포시\n",
              "3492   50130620.0       예래동  제주특별자치도      서귀포시\n",
              "\n",
              "[3493 rows x 4 columns]"
            ]
          },
          "metadata": {
            "tags": []
          },
          "execution_count": 16
        }
      ]
    },
    {
      "cell_type": "code",
      "metadata": {
        "id": "dh0rXckth1Yx"
      },
      "source": [
        "signgu_unique = adstrd.loc[:, 'signgu_nm'].unique()\n",
        "\n",
        "def isNaN(num):\n",
        "  return num != num\n",
        "\n",
        "signgu_unique = [value for value in signgu_unique if not isNaN(value)]\n",
        "signgu_code = pd.DataFrame(np.full([len(signgu_unique),2], None), columns = ['signgu_nm', 'code'])\n",
        "\n",
        "for i in signgu_code.index:\n",
        "  signgu = adstrd[adstrd.loc[:, 'signgu_nm'] == signgu_unique[i]]\n",
        "  code = signgu.iloc[0]['adstrd_code']\n",
        "  first4 = int(str(code)[:4])\n",
        "  signgu_code.loc[i] = [signgu_unique[i],first4]"
      ],
      "execution_count": 17,
      "outputs": []
    },
    {
      "cell_type": "markdown",
      "metadata": {
        "id": "tazWh0ymzQyV"
      },
      "source": [
        "signgu_code에 지역구와 이에 대응하는 코드가 저장되었음을 확인할 수 있다."
      ]
    },
    {
      "cell_type": "code",
      "metadata": {
        "colab": {
          "base_uri": "https://localhost:8080/",
          "height": 204
        },
        "id": "1c_bDYHCi6kK",
        "outputId": "a9d60add-e2a8-4102-be7b-816de6a50be1"
      },
      "source": [
        "signgu_code.head()"
      ],
      "execution_count": 18,
      "outputs": [
        {
          "output_type": "execute_result",
          "data": {
            "text/html": [
              "<div>\n",
              "<style scoped>\n",
              "    .dataframe tbody tr th:only-of-type {\n",
              "        vertical-align: middle;\n",
              "    }\n",
              "\n",
              "    .dataframe tbody tr th {\n",
              "        vertical-align: top;\n",
              "    }\n",
              "\n",
              "    .dataframe thead th {\n",
              "        text-align: right;\n",
              "    }\n",
              "</style>\n",
              "<table border=\"1\" class=\"dataframe\">\n",
              "  <thead>\n",
              "    <tr style=\"text-align: right;\">\n",
              "      <th></th>\n",
              "      <th>signgu_nm</th>\n",
              "      <th>code</th>\n",
              "    </tr>\n",
              "  </thead>\n",
              "  <tbody>\n",
              "    <tr>\n",
              "      <th>0</th>\n",
              "      <td>종로구</td>\n",
              "      <td>1111</td>\n",
              "    </tr>\n",
              "    <tr>\n",
              "      <th>1</th>\n",
              "      <td>중구</td>\n",
              "      <td>1114</td>\n",
              "    </tr>\n",
              "    <tr>\n",
              "      <th>2</th>\n",
              "      <td>용산구</td>\n",
              "      <td>1117</td>\n",
              "    </tr>\n",
              "    <tr>\n",
              "      <th>3</th>\n",
              "      <td>성동구</td>\n",
              "      <td>1120</td>\n",
              "    </tr>\n",
              "    <tr>\n",
              "      <th>4</th>\n",
              "      <td>광진구</td>\n",
              "      <td>1121</td>\n",
              "    </tr>\n",
              "  </tbody>\n",
              "</table>\n",
              "</div>"
            ],
            "text/plain": [
              "  signgu_nm  code\n",
              "0       종로구  1111\n",
              "1        중구  1114\n",
              "2       용산구  1117\n",
              "3       성동구  1120\n",
              "4       광진구  1121"
            ]
          },
          "metadata": {
            "tags": []
          },
          "execution_count": 18
        }
      ]
    },
    {
      "cell_type": "markdown",
      "metadata": {
        "id": "35DtUAWrzYMK"
      },
      "source": [
        "signgu_code를 이용하여 signgu_nm column을 추가한다.\n"
      ]
    },
    {
      "cell_type": "code",
      "metadata": {
        "id": "crttB-P1i_A_"
      },
      "source": [
        "first4 = fpopl.loc[:,'adstrd_code'].apply(lambda x:int(str(x)[:4]))\n",
        "fpopl['signgu_nm'] = first4.replace(signgu_code.code.values, signgu_code.signgu_nm.values) \n",
        "########## '사용 가능한 RAM을 모두 사용한 후 세션이 다운되었습니다.'라는 경고문과 함께 이 부분에서부터 코드 실행이 되지 않습니다. "
      ],
      "execution_count": null,
      "outputs": []
    },
    {
      "cell_type": "code",
      "metadata": {
        "id": "Kz6L8II9jWHF"
      },
      "source": [
        "first4 = card.loc[:,'adstrd_code'].apply(lambda x:int(str(x)[:4]))\n",
        "card['signgu_nm'] = first4.replace(signgu_code.code.values, signgu_code.signgu_nm.values)"
      ],
      "execution_count": null,
      "outputs": []
    },
    {
      "cell_type": "markdown",
      "metadata": {
        "id": "O9BDEU61ze8d"
      },
      "source": [
        "결과적으로, fpopl과 card 각각의 data들이 어떤 구에 대한 정보인지를 파악할 수 있게 된다."
      ]
    },
    {
      "cell_type": "code",
      "metadata": {
        "colab": {
          "base_uri": "https://localhost:8080/",
          "height": 195
        },
        "id": "6wFHP-RmjnJc",
        "outputId": "08917898-8c8d-436d-db96-b0e908321ca1"
      },
      "source": [
        "fpopl.head()"
      ],
      "execution_count": null,
      "outputs": [
        {
          "output_type": "execute_result",
          "data": {
            "text/html": [
              "<div>\n",
              "<style scoped>\n",
              "    .dataframe tbody tr th:only-of-type {\n",
              "        vertical-align: middle;\n",
              "    }\n",
              "\n",
              "    .dataframe tbody tr th {\n",
              "        vertical-align: top;\n",
              "    }\n",
              "\n",
              "    .dataframe thead th {\n",
              "        text-align: right;\n",
              "    }\n",
              "</style>\n",
              "<table border=\"1\" class=\"dataframe\">\n",
              "  <thead>\n",
              "    <tr style=\"text-align: right;\">\n",
              "      <th></th>\n",
              "      <th>base_ymd</th>\n",
              "      <th>tmzon_se_code</th>\n",
              "      <th>sexdstn_se_code</th>\n",
              "      <th>agrde_se_code</th>\n",
              "      <th>adstrd_code</th>\n",
              "      <th>popltn_cascnt</th>\n",
              "    </tr>\n",
              "  </thead>\n",
              "  <tbody>\n",
              "    <tr>\n",
              "      <th>0</th>\n",
              "      <td>20200101</td>\n",
              "      <td>0</td>\n",
              "      <td>M</td>\n",
              "      <td>age_00</td>\n",
              "      <td>11650560</td>\n",
              "      <td>15</td>\n",
              "    </tr>\n",
              "    <tr>\n",
              "      <th>1</th>\n",
              "      <td>20200101</td>\n",
              "      <td>0</td>\n",
              "      <td>M</td>\n",
              "      <td>age_00</td>\n",
              "      <td>11590620</td>\n",
              "      <td>6</td>\n",
              "    </tr>\n",
              "    <tr>\n",
              "      <th>2</th>\n",
              "      <td>20200101</td>\n",
              "      <td>0</td>\n",
              "      <td>M</td>\n",
              "      <td>age_00</td>\n",
              "      <td>11560710</td>\n",
              "      <td>4</td>\n",
              "    </tr>\n",
              "    <tr>\n",
              "      <th>3</th>\n",
              "      <td>20200101</td>\n",
              "      <td>0</td>\n",
              "      <td>M</td>\n",
              "      <td>age_00</td>\n",
              "      <td>11470680</td>\n",
              "      <td>12</td>\n",
              "    </tr>\n",
              "    <tr>\n",
              "      <th>4</th>\n",
              "      <td>20200101</td>\n",
              "      <td>0</td>\n",
              "      <td>M</td>\n",
              "      <td>age_00</td>\n",
              "      <td>11350665</td>\n",
              "      <td>6</td>\n",
              "    </tr>\n",
              "  </tbody>\n",
              "</table>\n",
              "</div>"
            ],
            "text/plain": [
              "   base_ymd  tmzon_se_code  ... adstrd_code popltn_cascnt\n",
              "0  20200101              0  ...    11650560            15\n",
              "1  20200101              0  ...    11590620             6\n",
              "2  20200101              0  ...    11560710             4\n",
              "3  20200101              0  ...    11470680            12\n",
              "4  20200101              0  ...    11350665             6\n",
              "\n",
              "[5 rows x 6 columns]"
            ]
          },
          "metadata": {
            "tags": []
          },
          "execution_count": 18
        }
      ]
    },
    {
      "cell_type": "code",
      "metadata": {
        "id": "_n5QDrARjrBD"
      },
      "source": [
        "card.head()"
      ],
      "execution_count": null,
      "outputs": []
    },
    {
      "cell_type": "markdown",
      "metadata": {
        "id": "xVDmXt8nzuBj"
      },
      "source": [
        "## _전처리2 : 데이터 형식 가공하기_\n",
        "\n",
        "두 데이터 모두 날짜 형식을 8자리 숫자로 표기했는데, 이를 날짜 형식으로 바꾸고자 한다.\n",
        "\n",
        "** card의 경우, 매출(salamt) 부분이 string형으로 되어있으므로 이를 수치 데이터로 변환한다. 단어 데이터의 경우 0으로 처리한다."
      ]
    },
    {
      "cell_type": "code",
      "metadata": {
        "id": "BojRU0wYj5Sz"
      },
      "source": [
        "fpopl.head()"
      ],
      "execution_count": null,
      "outputs": []
    },
    {
      "cell_type": "code",
      "metadata": {
        "id": "0JWylQxVj7Qq"
      },
      "source": [
        "card.head()"
      ],
      "execution_count": null,
      "outputs": []
    },
    {
      "cell_type": "code",
      "metadata": {
        "id": "NBB8emJ0j9X5"
      },
      "source": [
        "def my_datetime(date):\n",
        "  return pd.Timestamp(str(date)).date()\n",
        "\n",
        "fpopl.base_ymd = fpopl.base_ymd.map(my_datetime)\n",
        "card.receipt_dttm = card.receipt_dttm.map(my_datetime)"
      ],
      "execution_count": null,
      "outputs": []
    },
    {
      "cell_type": "code",
      "metadata": {
        "id": "tSSbP8upkRdV"
      },
      "source": [
        "def to_numeric(string):\n",
        "  if string.isnumeric():\n",
        "    return int(string)\n",
        "  else:\n",
        "    return 0\n",
        "\n",
        "card.salamt = card.salamt.map(to_numeric)"
      ],
      "execution_count": null,
      "outputs": []
    },
    {
      "cell_type": "markdown",
      "metadata": {
        "id": "CqYjbIZo0KVo"
      },
      "source": [
        "## 전처리3 : 클러스터링 라벨 붙이기\n",
        "\n",
        "전처리 과정 전에 완성된 클러스터링을 해당 데이터에 적용한다."
      ]
    },
    {
      "cell_type": "code",
      "metadata": {
        "id": "8poFeXtgkeZE"
      },
      "source": [
        "fpopl['clustering'] = fpopl.signgu_nm.replace(region.city.values, region.clustering.values)\n",
        "card['clustering'] = card.signgu_nm.replace(region.city.values, region.clustering.values)"
      ],
      "execution_count": null,
      "outputs": []
    },
    {
      "cell_type": "code",
      "metadata": {
        "id": "Dx32F1wskrY8"
      },
      "source": [
        "fpopl.head()"
      ],
      "execution_count": null,
      "outputs": []
    },
    {
      "cell_type": "code",
      "metadata": {
        "id": "IojEt9DgktMJ"
      },
      "source": [
        "card.head()"
      ],
      "execution_count": null,
      "outputs": []
    },
    {
      "cell_type": "markdown",
      "metadata": {
        "id": "IwEyb1wo0VjA"
      },
      "source": [
        "# 구역별 시각화\n",
        "\n",
        "- 왼쪽위부터 시계방향으로 '종로구외', '강북구외', '강서구외', '강남구외'로 표시\n",
        "- 유동인구 및 매출에서 주말과 평일의 수치가 큰 차이를 보이는 점을 보완하기 위해 최근 7일 동안의 평균값으로 수치 표시\n",
        "\n",
        "### 유동인구 시각화\n",
        ": 구역별 및 날짜별 유동인구 시각화"
      ]
    },
    {
      "cell_type": "code",
      "metadata": {
        "colab": {
          "base_uri": "https://localhost:8080/",
          "height": 1000
        },
        "id": "64LH4tXUkvkD",
        "outputId": "a4dadada-4a7d-4c7f-ccab-be2d72c1d1d1"
      },
      "source": [
        "fig,axs = plt.subplots(2,2,figsize = (20,20))\n",
        "\n",
        "fpopl_gangnams = fpopl[fpopl.clustering == '강남구외']\n",
        "grouped_gangnams = fpopl_gangnams.drop(columns = ['tmzon_se_code', 'adstrd_code']).groupby(['signgu_nm', 'base_ymd']).sum()\n",
        "for gu in fpopl_gangnams.signgu_nm_unique():\n",
        "  groupe_gangnams.loc[gu,:].rolling(window = 7).mean()[::7].plot(ax=axs[1,1])\n",
        "axs[1,1].legend(fpopl_gangnams,signsu_nm.unique())\n",
        "\n",
        "axs[1,1].set_title('강남구외', fontsize = 20)\n",
        "axs[1,1].set_xlabel('날짜', fontsize = 15)\n",
        "axs[1,1].set_ylabel('유동 인구', fontsize = 15)\n",
        "\n",
        "\n",
        "fpopl_gangseos = fpopl[fpopl.clustering == '강서구외']\n",
        "grouped_gangseos = fpopl_gangseos.drop(columns = ['tmzon_se_code', 'adstrd_code']).groupby(['signgu_nm', 'base_ymd']).sum()\n",
        "for gu in fpopl_gangseos.signgu_nm_unique():\n",
        "  groupe_gangseos.loc[gu,:].rolling(window = 7).mean()[::7].plot(ax=axs[1,1])\n",
        "axs[1,1].legend(fpopl_gangseos,signsu_nm.unique())\n",
        "\n",
        "axs[1,1].set_title('강서구외', fontsize = 20)\n",
        "axs[1,1].set_xlabel('날짜', fontsize = 15)\n",
        "axs[1,1].set_ylabel('유동 인구', fontsize = 15)\n",
        "\n",
        "\n",
        "fpopl_gangbuks = fpopl[fpopl.clustering == '강북구외']\n",
        "grouped_gangbuks = fpopl_gangbuks.drop(columns = ['tmzon_se_code', 'adstrd_code']).groupby(['signgu_nm', 'base_ymd']).sum()\n",
        "for gu in fpopl_gangbuks.signgu_nm_unique():\n",
        "  groupe_gangbuks.loc[gu,:].rolling(window = 7).mean()[::7].plot(ax=axs[1,1])\n",
        "axs[1,1].legend(fpopl_gangbuks,signsu_nm.unique())\n",
        "\n",
        "axs[1,1].set_title('강북구외', fontsize = 20)\n",
        "axs[1,1].set_xlabel('날짜', fontsize = 15)\n",
        "axs[1,1].set_ylabel('유동 인구', fontsize = 15)\n",
        "\n",
        "\n",
        "fpopl_jongnos = fpopl[fpopl.clustering == '종로구외']\n",
        "grouped_jongnos = fpopl_jongnos.drop(columns = ['tmzon_se_code', 'adstrd_code']).groupby(['signgu_nm', 'base_ymd']).sum()\n",
        "for gu in fpopl_jongnos.signgu_nm_unique():\n",
        "  groupe_jongnos.loc[gu,:].rolling(window = 7).mean()[::7].plot(ax=axs[1,1])\n",
        "axs[1,1].legend(fpopl_jongnos,signsu_nm.unique())\n",
        "\n",
        "axs[1,1].set_title('종로구외', fontsize = 20)\n",
        "axs[1,1].set_xlabel('날짜', fontsize = 15)\n",
        "axs[1,1].set_ylabel('유동 인구', fontsize = 15)"
      ],
      "execution_count": null,
      "outputs": [
        {
          "output_type": "error",
          "ename": "AttributeError",
          "evalue": "ignored",
          "traceback": [
            "\u001b[0;31m---------------------------------------------------------------------------\u001b[0m",
            "\u001b[0;31mAttributeError\u001b[0m                            Traceback (most recent call last)",
            "\u001b[0;32m<ipython-input-25-e34cefaf3652>\u001b[0m in \u001b[0;36m<module>\u001b[0;34m()\u001b[0m\n\u001b[1;32m      1\u001b[0m \u001b[0mfig\u001b[0m\u001b[0;34m,\u001b[0m\u001b[0maxs\u001b[0m \u001b[0;34m=\u001b[0m \u001b[0mplt\u001b[0m\u001b[0;34m.\u001b[0m\u001b[0msubplots\u001b[0m\u001b[0;34m(\u001b[0m\u001b[0;36m2\u001b[0m\u001b[0;34m,\u001b[0m\u001b[0;36m2\u001b[0m\u001b[0;34m,\u001b[0m\u001b[0mfigsize\u001b[0m \u001b[0;34m=\u001b[0m \u001b[0;34m(\u001b[0m\u001b[0;36m20\u001b[0m\u001b[0;34m,\u001b[0m\u001b[0;36m20\u001b[0m\u001b[0;34m)\u001b[0m\u001b[0;34m)\u001b[0m\u001b[0;34m\u001b[0m\u001b[0;34m\u001b[0m\u001b[0m\n\u001b[1;32m      2\u001b[0m \u001b[0;34m\u001b[0m\u001b[0m\n\u001b[0;32m----> 3\u001b[0;31m \u001b[0mfpopl_gangnams\u001b[0m \u001b[0;34m=\u001b[0m \u001b[0mfpopl\u001b[0m\u001b[0;34m[\u001b[0m\u001b[0mfpopl\u001b[0m\u001b[0;34m.\u001b[0m\u001b[0mclustering\u001b[0m \u001b[0;34m==\u001b[0m \u001b[0;34m'강남구외'\u001b[0m\u001b[0;34m]\u001b[0m\u001b[0;34m\u001b[0m\u001b[0;34m\u001b[0m\u001b[0m\n\u001b[0m\u001b[1;32m      4\u001b[0m \u001b[0mgrouped_gangnams\u001b[0m \u001b[0;34m=\u001b[0m \u001b[0mfpopl_gangnams\u001b[0m\u001b[0;34m.\u001b[0m\u001b[0mdrop\u001b[0m\u001b[0;34m(\u001b[0m\u001b[0mcolumns\u001b[0m \u001b[0;34m=\u001b[0m \u001b[0;34m[\u001b[0m\u001b[0;34m'tmzon_se_code'\u001b[0m\u001b[0;34m,\u001b[0m \u001b[0;34m'adstrd_code'\u001b[0m\u001b[0;34m]\u001b[0m\u001b[0;34m)\u001b[0m\u001b[0;34m.\u001b[0m\u001b[0mgroupby\u001b[0m\u001b[0;34m(\u001b[0m\u001b[0;34m[\u001b[0m\u001b[0;34m'signgu_nm'\u001b[0m\u001b[0;34m,\u001b[0m \u001b[0;34m'base_ymd'\u001b[0m\u001b[0;34m]\u001b[0m\u001b[0;34m)\u001b[0m\u001b[0;34m.\u001b[0m\u001b[0msum\u001b[0m\u001b[0;34m(\u001b[0m\u001b[0;34m)\u001b[0m\u001b[0;34m\u001b[0m\u001b[0;34m\u001b[0m\u001b[0m\n\u001b[1;32m      5\u001b[0m \u001b[0;32mfor\u001b[0m \u001b[0mgu\u001b[0m \u001b[0;32min\u001b[0m \u001b[0mfpopl_gangnams\u001b[0m\u001b[0;34m.\u001b[0m\u001b[0msigngu_nm_unique\u001b[0m\u001b[0;34m(\u001b[0m\u001b[0;34m)\u001b[0m\u001b[0;34m:\u001b[0m\u001b[0;34m\u001b[0m\u001b[0;34m\u001b[0m\u001b[0m\n",
            "\u001b[0;32m/usr/local/lib/python3.7/dist-packages/pandas/core/generic.py\u001b[0m in \u001b[0;36m__getattr__\u001b[0;34m(self, name)\u001b[0m\n\u001b[1;32m   5139\u001b[0m             \u001b[0;32mif\u001b[0m \u001b[0mself\u001b[0m\u001b[0;34m.\u001b[0m\u001b[0m_info_axis\u001b[0m\u001b[0;34m.\u001b[0m\u001b[0m_can_hold_identifiers_and_holds_name\u001b[0m\u001b[0;34m(\u001b[0m\u001b[0mname\u001b[0m\u001b[0;34m)\u001b[0m\u001b[0;34m:\u001b[0m\u001b[0;34m\u001b[0m\u001b[0;34m\u001b[0m\u001b[0m\n\u001b[1;32m   5140\u001b[0m                 \u001b[0;32mreturn\u001b[0m \u001b[0mself\u001b[0m\u001b[0;34m[\u001b[0m\u001b[0mname\u001b[0m\u001b[0;34m]\u001b[0m\u001b[0;34m\u001b[0m\u001b[0;34m\u001b[0m\u001b[0m\n\u001b[0;32m-> 5141\u001b[0;31m             \u001b[0;32mreturn\u001b[0m \u001b[0mobject\u001b[0m\u001b[0;34m.\u001b[0m\u001b[0m__getattribute__\u001b[0m\u001b[0;34m(\u001b[0m\u001b[0mself\u001b[0m\u001b[0;34m,\u001b[0m \u001b[0mname\u001b[0m\u001b[0;34m)\u001b[0m\u001b[0;34m\u001b[0m\u001b[0;34m\u001b[0m\u001b[0m\n\u001b[0m\u001b[1;32m   5142\u001b[0m \u001b[0;34m\u001b[0m\u001b[0m\n\u001b[1;32m   5143\u001b[0m     \u001b[0;32mdef\u001b[0m \u001b[0m__setattr__\u001b[0m\u001b[0;34m(\u001b[0m\u001b[0mself\u001b[0m\u001b[0;34m,\u001b[0m \u001b[0mname\u001b[0m\u001b[0;34m:\u001b[0m \u001b[0mstr\u001b[0m\u001b[0;34m,\u001b[0m \u001b[0mvalue\u001b[0m\u001b[0;34m)\u001b[0m \u001b[0;34m->\u001b[0m \u001b[0;32mNone\u001b[0m\u001b[0;34m:\u001b[0m\u001b[0;34m\u001b[0m\u001b[0;34m\u001b[0m\u001b[0m\n",
            "\u001b[0;31mAttributeError\u001b[0m: 'DataFrame' object has no attribute 'clustering'"
          ]
        },
        {
          "output_type": "display_data",
          "data": {
            "image/png": "[encoded data removed]",
            "text/plain": [
              "<Figure size 1440x1440 with 4 Axes>"
            ]
          },
          "metadata": {
            "tags": [],
            "needs_background": "light"
          }
        }
      ]
    },
    {
      "cell_type": "markdown",
      "metadata": {
        "id": "E_NhZeeg0_Ep"
      },
      "source": [
        "### 분석 및 해석\n",
        "\n",
        ": 코로나19의 확산속도가 본격적으로 시작되었던 2월 말을 기준으로 서울 전지역이 침체되었다는 점이 뚜렷하게 관찰된다. 하지만, 거의 모든 클러스터에서 3월 이후로 유동인구가 점점 회복이 되어가는 모습을 보여주고 있다. '강서구외', '강북구외' 그리고 '강남구외' 지역은 6월에 코로나19 유행 이전의 수준을 갖게 되었지만, '종로구외' 지역은 아직 그 이전의 상태로 회복하지 못하고 있는 것으로 파악된다. 특히, '강북구외' 지역은 코로나19 유행 이후 오히려 유동인구가 늘어났다는 것을 확인할 수 있다."
      ]
    },
    {
      "cell_type": "markdown",
      "metadata": {
        "id": "EhtkZu_H16BT"
      },
      "source": [
        "\n",
        "### 카드 매출 시각화\n",
        ": 구역별 및 날짜별 카드 매출 (전 업종 합계)"
      ]
    },
    {
      "cell_type": "code",
      "metadata": {
        "id": "obCXQCxCuYh7"
      },
      "source": [
        "fig,axs=plt.subplots(2,2,figsize=(20,20))\n",
        "\n",
        "card_gangnams = card[card.clustering == '강남구외']\n",
        "grouped_gangnams = card_gangnams.drop(columns = ['mrhst_induty_cl_code','adstrd_code']).groupby(['signgu_nm','receipt_dttm']).sum()\n",
        "for gu in card_gangnams.signgu_nm.unique():\n",
        "  grouped_gangnams.loc[gu,:].rolling(window=7).mean()[::7].plot(ax=axs[1,1], rot=True)\n",
        "axs[1,1].legend(card_gangnams.signgu_nm.unique())\n",
        "\n",
        "axs[1,1].set_title('강남구외',fontsize=20)\n",
        "axs[1,1].set_xlabel('날짜',fontsize=15)\n",
        "axs[1,1].set_ylabel('카드 매출',fontsize=15)\n",
        "\n",
        "\n",
        "card_gangseos = card[card.clustering == '강서구외']\n",
        "grouped_gangseos = card_gangseos.drop(columns = ['mrhst_induty_cl_code','adstrd_code']).groupby(['signgu_nm','receipt_dttm']).sum()\n",
        "for gu in card_gangseos.signgu_nm.unique():\n",
        "  grouped_gangseos.loc[gu,:].rolling(window=7).mean()[::7].plot(ax=axs[1,1], rot=True)\n",
        "axs[1,1].legend(card_gangseos.signgu_nm.unique())\n",
        "\n",
        "axs[1,1].set_title('강서구외',fontsize=20)\n",
        "axs[1,1].set_xlabel('날짜',fontsize=15)\n",
        "axs[1,1].set_ylabel('카드 매출',fontsize=15)\n",
        "\n",
        "\n",
        "card_gangbuks = card[card.clustering == '강북구외']\n",
        "grouped_gangbuks = card_gangbuks.drop(columns = ['mrhst_induty_cl_code','adstrd_code']).groupby(['signgu_nm','receipt_dttm']).sum()\n",
        "for gu in card_gangbuks.signgu_nm.unique():\n",
        "  grouped_gangbuks.loc[gu,:].rolling(window=7).mean()[::7].plot(ax=axs[1,1], rot=True)\n",
        "axs[1,1].legend(card_gangbuks.signgu_nm.unique())\n",
        "\n",
        "axs[1,1].set_title('강북구외',fontsize=20)\n",
        "axs[1,1].set_xlabel('날짜',fontsize=15)\n",
        "axs[1,1].set_ylabel('카드 매출',fontsize=15)\n",
        "\n",
        "\n",
        "card_jongnos = card[card.clustering == '종로구외']\n",
        "grouped_jongnos = card_jongnos.drop(columns = ['mrhst_induty_cl_code','adstrd_code']).groupby(['signgu_nm','receipt_dttm']).sum()\n",
        "for gu in card_jongnos.signgu_nm.unique():\n",
        "  grouped_jongnos.loc[gu,:].rolling(window=7).mean()[::7].plot(ax=axs[1,1], rot=True)\n",
        "axs[1,1].legend(card_jongnos.signgu_nm.unique())\n",
        "\n",
        "axs[1,1].set_title('종로구외',fontsize=20)\n",
        "axs[1,1].set_xlabel('날짜',fontsize=15)\n",
        "axs[1,1].set_ylabel('카드 매출',fontsize=15)"
      ],
      "execution_count": null,
      "outputs": []
    },
    {
      "cell_type": "markdown",
      "metadata": {
        "id": "fZl7-fbu2Diy"
      },
      "source": [
        "### 분석 및 해석\n",
        "\n",
        ": 카드 매출이 대부분의 지역에서 큰 폭으로 변화하고 있음을 확인할 수 있다. 하지만, 이와 같은 현상이 코로나19로 인해 발생하는지의 여부는 명확하게 파악하기 어렵다.\n",
        " 코로나19의 1차 대유행이 일어났던 3월 직후에는 많은 지역구에서 매출 감소를 경험한 것으로 보인다. 이러한 추세는 4월에 들어서 다시 회복되는 모습을 보여주고 있으며, 심지어 '강북구외'와 '강남구외' 지역에서는 6월달에 들어서 코로나19 유행 이전 시기보다 더 많은 카드 매출을 기록하고 있기도 하다. 이러한 점으로 미루어봤을 때, 코로나19가 전체 업종의 매출에 큰 타격을 줬다고 단정짓는 데에는 한계가 있다."
      ]
    }
  ]
}