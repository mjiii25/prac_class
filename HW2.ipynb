{
  "nbformat": 4,
  "nbformat_minor": 0,
  "metadata": {
    "colab": {
      "name": "Untitled5.ipynb",
      "provenance": [],
      "authorship_tag": "ABX9TyMcjDy8U81EUCaf0TK836sQ",
      "include_colab_link": true
    },
    "kernelspec": {
      "name": "python3",
      "display_name": "Python 3"
    },
    "language_info": {
      "name": "python"
    },
    "accelerator": "GPU"
  },
  "cells": [
    {
      "cell_type": "markdown",
      "metadata": {
        "id": "view-in-github",
        "colab_type": "text"
      },
      "source": [
        "<a href=\"https://colab.research.google.com/github/mjiii25/prac_class/blob/main/HW2.ipynb\" target=\"_parent\"><img src=\"https://colab.research.google.com/assets/colab-badge.svg\" alt=\"Open In Colab\"/></a>"
      ]
    },
    {
      "cell_type": "markdown",
      "metadata": {
        "id": "7e4ELl3c59kC"
      },
      "source": [
        "# **Neural Network**"
      ]
    },
    {
      "cell_type": "code",
      "metadata": {
        "colab": {
          "base_uri": "https://localhost:8080/",
          "height": 35
        },
        "id": "MRPOGyZ_nwS1",
        "outputId": "6b675776-cf42-4e9c-9244-41f26181e2d6"
      },
      "source": [
        "import tensorflow\n",
        "tensorflow.keras.__version__"
      ],
      "execution_count": 4,
      "outputs": [
        {
          "output_type": "execute_result",
          "data": {
            "application/vnd.google.colaboratory.intrinsic+json": {
              "type": "string"
            },
            "text/plain": [
              "'2.4.0'"
            ]
          },
          "metadata": {
            "tags": []
          },
          "execution_count": 4
        }
      ]
    },
    {
      "cell_type": "code",
      "metadata": {
        "colab": {
          "base_uri": "https://localhost:8080/"
        },
        "id": "fuZ5efSPn_4v",
        "outputId": "617376dc-b484-405f-c1b5-198dc25c87ad"
      },
      "source": [
        "from tensorflow.keras.datasets import mnist\n",
        "(train_images, train_labels), (test_images, test_labels) = mnist.load_data()"
      ],
      "execution_count": 5,
      "outputs": [
        {
          "output_type": "stream",
          "text": [
            "Downloading data from https://storage.googleapis.com/tensorflow/tf-keras-datasets/mnist.npz\n",
            "11493376/11490434 [==============================] - 0s 0us/step\n"
          ],
          "name": "stdout"
        }
      ]
    },
    {
      "cell_type": "markdown",
      "metadata": {
        "id": "z8mVkFzMo1ei"
      },
      "source": [
        "- train_images, train_labels \n",
        ": training set (the data that the model will learn from)\n",
        "\n",
        "- test_images, test_labels : test set (the data that will be tested)"
      ]
    },
    {
      "cell_type": "markdown",
      "metadata": {
        "id": "R0TzTB8YpejO"
      },
      "source": [
        "##Training data"
      ]
    },
    {
      "cell_type": "code",
      "metadata": {
        "colab": {
          "base_uri": "https://localhost:8080/"
        },
        "id": "Vw_L4HKUpJ2r",
        "outputId": "10f9cb17-f096-4301-f169-b2cf1d526d80"
      },
      "source": [
        "train_images.shape"
      ],
      "execution_count": 6,
      "outputs": [
        {
          "output_type": "execute_result",
          "data": {
            "text/plain": [
              "(60000, 28, 28)"
            ]
          },
          "metadata": {
            "tags": []
          },
          "execution_count": 6
        }
      ]
    },
    {
      "cell_type": "code",
      "metadata": {
        "colab": {
          "base_uri": "https://localhost:8080/"
        },
        "id": "DU8EoSPlpvST",
        "outputId": "6e2adc3e-1674-4aae-ea24-fe94d840274d"
      },
      "source": [
        "len(train_labels)"
      ],
      "execution_count": 7,
      "outputs": [
        {
          "output_type": "execute_result",
          "data": {
            "text/plain": [
              "60000"
            ]
          },
          "metadata": {
            "tags": []
          },
          "execution_count": 7
        }
      ]
    },
    {
      "cell_type": "code",
      "metadata": {
        "colab": {
          "base_uri": "https://localhost:8080/"
        },
        "id": "C3l_4HDrp-wK",
        "outputId": "4f586846-aafb-473a-82c3-df2e8ca0dcf6"
      },
      "source": [
        "train_labels"
      ],
      "execution_count": 8,
      "outputs": [
        {
          "output_type": "execute_result",
          "data": {
            "text/plain": [
              "array([5, 0, 4, ..., 5, 6, 8], dtype=uint8)"
            ]
          },
          "metadata": {
            "tags": []
          },
          "execution_count": 8
        }
      ]
    },
    {
      "cell_type": "markdown",
      "metadata": {
        "id": "RIoIjh6uqBQe"
      },
      "source": [
        "## Test data\n"
      ]
    },
    {
      "cell_type": "code",
      "metadata": {
        "colab": {
          "base_uri": "https://localhost:8080/"
        },
        "id": "O9W7Q7muqDwy",
        "outputId": "fa54b6d6-4886-41c9-ec41-3740af9d75fa"
      },
      "source": [
        "test_images.shape"
      ],
      "execution_count": 9,
      "outputs": [
        {
          "output_type": "execute_result",
          "data": {
            "text/plain": [
              "(10000, 28, 28)"
            ]
          },
          "metadata": {
            "tags": []
          },
          "execution_count": 9
        }
      ]
    },
    {
      "cell_type": "code",
      "metadata": {
        "colab": {
          "base_uri": "https://localhost:8080/"
        },
        "id": "glo6uRqZqGnA",
        "outputId": "fb1d926d-57b0-44cd-d17c-cb85275a41c7"
      },
      "source": [
        "len(test_labels)"
      ],
      "execution_count": 10,
      "outputs": [
        {
          "output_type": "execute_result",
          "data": {
            "text/plain": [
              "10000"
            ]
          },
          "metadata": {
            "tags": []
          },
          "execution_count": 10
        }
      ]
    },
    {
      "cell_type": "code",
      "metadata": {
        "colab": {
          "base_uri": "https://localhost:8080/"
        },
        "id": "vcaWAWtQqJZL",
        "outputId": "2e133579-eabe-41df-d0a5-99b9248ee2f6"
      },
      "source": [
        "test_labels"
      ],
      "execution_count": 11,
      "outputs": [
        {
          "output_type": "execute_result",
          "data": {
            "text/plain": [
              "array([7, 2, 1, ..., 4, 5, 6], dtype=uint8)"
            ]
          },
          "metadata": {
            "tags": []
          },
          "execution_count": 11
        }
      ]
    },
    {
      "cell_type": "markdown",
      "metadata": {
        "id": "O0WmDko3qOk1"
      },
      "source": [
        "###_workflow_\n",
        "\n",
        "1. present neural network with the training data\n",
        "2. network learns to associate images and labels.\n",
        "3. ask the network to produce predictions for test data.\n",
        "4. verify if these predictions match the labels from test data."
      ]
    },
    {
      "cell_type": "markdown",
      "metadata": {
        "id": "yDxfutJtqpKv"
      },
      "source": [
        "##Building our network"
      ]
    },
    {
      "cell_type": "code",
      "metadata": {
        "id": "qaweAvK1qr02"
      },
      "source": [
        "from tensorflow.keras import models\n",
        "from tensorflow.keras import layers\n",
        "\n",
        "network = models.Sequential()\n",
        "network.add(layers.Dense(512, activation = 'relu', input_shape = (28*28,)))\n",
        "network.add(layers.Dense(10, activation = 'softmax'))"
      ],
      "execution_count": 12,
      "outputs": []
    },
    {
      "cell_type": "markdown",
      "metadata": {
        "id": "Dcpn6tWIrHmV"
      },
      "source": [
        "- layer : data-processing module working as a **_filter_** for data\n",
        "\n",
        "\n",
        "- [ our data ] two densely-connected neural layers\n",
        "  (1) relu (2) softmax"
      ]
    },
    {
      "cell_type": "markdown",
      "metadata": {
        "id": "BJTFkFnA3LoS"
      },
      "source": [
        "## Getting ready for training "
      ]
    },
    {
      "cell_type": "code",
      "metadata": {
        "id": "jjbXV0oJsHik"
      },
      "source": [
        "network.compile ( optimizer = 'rmsprop',\n",
        "                loss = 'categorical_crossentropy',\n",
        "                metrics = ['accuracy'])"
      ],
      "execution_count": 13,
      "outputs": []
    },
    {
      "cell_type": "markdown",
      "metadata": {
        "id": "JuKiZ5HF4rn4"
      },
      "source": [
        "1. Reshape into the shape that the network expects.\n",
        "\n",
        "2. Perform scaling so that all values are in the [0,1].\n",
        "\n",
        "\n"
      ]
    },
    {
      "cell_type": "code",
      "metadata": {
        "id": "jYvKYYUQ3toV"
      },
      "source": [
        "train_images = train_images.reshape((60000, 28 * 28))\n",
        "train_images = train_images.astype('float32') / 255\n",
        "\n",
        "test_images = test_images.reshape((10000, 28 * 28))\n",
        "test_images = test_images.astype('float32') / 255"
      ],
      "execution_count": 14,
      "outputs": []
    },
    {
      "cell_type": "markdown",
      "metadata": {
        "id": "BWxbARhR42YA"
      },
      "source": [
        "Categorically encode the labels."
      ]
    },
    {
      "cell_type": "code",
      "metadata": {
        "id": "ixDLnC3B4F1a"
      },
      "source": [
        "from tensorflow.keras.utils import to_categorical\n",
        "\n",
        "train_labels = to_categorical(train_labels)\n",
        "test_labels = to_categorical(test_labels)"
      ],
      "execution_count": 15,
      "outputs": []
    },
    {
      "cell_type": "markdown",
      "metadata": {
        "id": "rRmYtSWK5J-U"
      },
      "source": [
        "## Fit the Model to the Training Data"
      ]
    },
    {
      "cell_type": "code",
      "metadata": {
        "colab": {
          "base_uri": "https://localhost:8080/"
        },
        "id": "BVyD943J5BWD",
        "outputId": "bcb5d466-2e4f-4e8b-ff96-14e7f40b6ee9"
      },
      "source": [
        "network.fit( train_images, train_labels, epochs = 5, batch_size = 128)"
      ],
      "execution_count": 16,
      "outputs": [
        {
          "output_type": "stream",
          "text": [
            "Epoch 1/5\n",
            "469/469 [==============================] - 4s 3ms/step - loss: 0.4257 - accuracy: 0.8760\n",
            "Epoch 2/5\n",
            "469/469 [==============================] - 1s 3ms/step - loss: 0.1133 - accuracy: 0.9673\n",
            "Epoch 3/5\n",
            "469/469 [==============================] - 1s 3ms/step - loss: 0.0679 - accuracy: 0.9794\n",
            "Epoch 4/5\n",
            "469/469 [==============================] - 1s 3ms/step - loss: 0.0478 - accuracy: 0.9855\n",
            "Epoch 5/5\n",
            "469/469 [==============================] - 1s 3ms/step - loss: 0.0374 - accuracy: 0.9889\n"
          ],
          "name": "stdout"
        },
        {
          "output_type": "execute_result",
          "data": {
            "text/plain": [
              "<tensorflow.python.keras.callbacks.History at 0x7f81205d4d10>"
            ]
          },
          "metadata": {
            "tags": []
          },
          "execution_count": 16
        }
      ]
    },
    {
      "cell_type": "markdown",
      "metadata": {
        "id": "wtcw3HPi6df1"
      },
      "source": [
        ": test accuracy of training set = **98.9%**"
      ]
    },
    {
      "cell_type": "markdown",
      "metadata": {
        "id": "HSycEMHJ5bVK"
      },
      "source": [
        "## Checking How Much Our Model Performs Well on the Test Set\n",
        "\n",
        "\n"
      ]
    },
    {
      "cell_type": "code",
      "metadata": {
        "colab": {
          "base_uri": "https://localhost:8080/"
        },
        "id": "Ai64A1HD5g5h",
        "outputId": "56a6984c-f427-4d8e-b128-484a37fd7760"
      },
      "source": [
        "test_loss, test_acc = network.evaluate( test_images, test_labels)"
      ],
      "execution_count": 17,
      "outputs": [
        {
          "output_type": "stream",
          "text": [
            "313/313 [==============================] - 1s 2ms/step - loss: 0.0716 - accuracy: 0.9780\n"
          ],
          "name": "stdout"
        }
      ]
    },
    {
      "cell_type": "code",
      "metadata": {
        "colab": {
          "base_uri": "https://localhost:8080/"
        },
        "id": "3ZsS2e1P5oYc",
        "outputId": "7ff5dae8-05a5-4ff0-ec8a-7fba8d18b1ab"
      },
      "source": [
        "print('test_acc:', test_acc)"
      ],
      "execution_count": 18,
      "outputs": [
        {
          "output_type": "stream",
          "text": [
            "test_acc: 0.9779999852180481\n"
          ],
          "name": "stdout"
        }
      ]
    },
    {
      "cell_type": "markdown",
      "metadata": {
        "id": "W4IjXdET5uJl"
      },
      "source": [
        ": test accuracy of test set = **97.8%**"
      ]
    },
    {
      "cell_type": "markdown",
      "metadata": {
        "id": "_EoWw0FA6o05"
      },
      "source": [
        "## _Conclusion_\n",
        "\n",
        "Test accuracy of the test set is 97.8%, which is lower than that of training set. \n",
        "\n",
        "###→ **overfitting**\n",
        "\n",
        "###: machine learing model seems to perform worse on new data than on previous data \n"
      ]
    }
  ]
}