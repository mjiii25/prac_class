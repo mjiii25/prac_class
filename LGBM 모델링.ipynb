{
  "nbformat": 4,
  "nbformat_minor": 0,
  "metadata": {
    "colab": {
      "name": "Untitled14.ipynb",
      "provenance": [],
      "mount_file_id": "https://github.com/mjiii25/prac_class/blob/main/LGBM%20%EB%AA%A8%EB%8D%B8%EB%A7%81.ipynb",
      "authorship_tag": "ABX9TyOt+C1fcHVFqbBvCiIbji8e",
      "include_colab_link": true
    },
    "kernelspec": {
      "name": "python3",
      "display_name": "Python 3"
    },
    "language_info": {
      "name": "python"
    },
    "accelerator": "GPU"
  },
  "cells": [
    {
      "cell_type": "markdown",
      "metadata": {
        "id": "view-in-github",
        "colab_type": "text"
      },
      "source": [
        "<a href=\"https://colab.research.google.com/github/mjiii25/prac_class/blob/main/LGBM%20%EB%AA%A8%EB%8D%B8%EB%A7%81.ipynb\" target=\"_parent\"><img src=\"https://colab.research.google.com/assets/colab-badge.svg\" alt=\"Open In Colab\"/></a>"
      ]
    },
    {
      "cell_type": "code",
      "metadata": {
        "colab": {
          "base_uri": "https://localhost:8080/"
        },
        "id": "kgBA0wCTELqj",
        "outputId": "0686dfd3-e950-44ea-ceca-5d2c88e1d366"
      },
      "source": [
        "from google.colab import drive\n",
        "drive.mount('/content/drive')"
      ],
      "execution_count": 77,
      "outputs": [
        {
          "output_type": "stream",
          "text": [
            "Drive already mounted at /content/drive; to attempt to forcibly remount, call drive.mount(\"/content/drive\", force_remount=True).\n"
          ],
          "name": "stdout"
        }
      ]
    },
    {
      "cell_type": "code",
      "metadata": {
        "id": "z37KgUd6FkeP"
      },
      "source": [
        "import numpy as np\n",
        "import pandas as pd\n",
        "import math\n",
        "import os\n",
        "import matplotlib.pyplot as plt\n",
        "\n",
        "from sklearn.metrics import mean_absolute_error\n",
        "from lightgbm import LGBMRegressor\n",
        "from sklearn.model_selection import KFold"
      ],
      "execution_count": 100,
      "outputs": []
    },
    {
      "cell_type": "code",
      "metadata": {
        "id": "CRqef9E5Fz-K"
      },
      "source": [
        "train = pd.read_csv('/content/drive/MyDrive/energy/new_train.csv')\n",
        "test = pd.read_csv('/content/drive/MyDrive/energy/new_test.csv')\n",
        "submission = pd.read_csv('/content/drive/MyDrive/energy/sample_submission.csv')"
      ],
      "execution_count": 105,
      "outputs": []
    },
    {
      "cell_type": "code",
      "metadata": {
        "colab": {
          "base_uri": "https://localhost:8080/",
          "height": 383
        },
        "id": "m1Q47MJgGD1H",
        "outputId": "1ad1d5b9-0dd6-415a-b0bd-efb4c4f3697a"
      },
      "source": [
        "train.head()"
      ],
      "execution_count": 106,
      "outputs": [
        {
          "output_type": "execute_result",
          "data": {
            "text/html": [
              "<div>\n",
              "<style scoped>\n",
              "    .dataframe tbody tr th:only-of-type {\n",
              "        vertical-align: middle;\n",
              "    }\n",
              "\n",
              "    .dataframe tbody tr th {\n",
              "        vertical-align: top;\n",
              "    }\n",
              "\n",
              "    .dataframe thead th {\n",
              "        text-align: right;\n",
              "    }\n",
              "</style>\n",
              "<table border=\"1\" class=\"dataframe\">\n",
              "  <thead>\n",
              "    <tr style=\"text-align: right;\">\n",
              "      <th></th>\n",
              "      <th>num</th>\n",
              "      <th>date_time</th>\n",
              "      <th>target</th>\n",
              "      <th>temperature</th>\n",
              "      <th>windspeed</th>\n",
              "      <th>humidity</th>\n",
              "      <th>precipitation</th>\n",
              "      <th>insolation</th>\n",
              "      <th>nelec_cool</th>\n",
              "      <th>solar</th>\n",
              "      <th>hour</th>\n",
              "      <th>day</th>\n",
              "      <th>month</th>\n",
              "      <th>date</th>\n",
              "      <th>weekday</th>\n",
              "      <th>weekend</th>\n",
              "      <th>DI</th>\n",
              "      <th>DI_70</th>\n",
              "      <th>DI_75</th>\n",
              "      <th>DI_80</th>\n",
              "      <th>DI_83</th>\n",
              "      <th>DI_86</th>\n",
              "      <th>SL</th>\n",
              "      <th>CDH</th>\n",
              "      <th>TW</th>\n",
              "      <th>corona</th>\n",
              "    </tr>\n",
              "  </thead>\n",
              "  <tbody>\n",
              "    <tr>\n",
              "      <th>0</th>\n",
              "      <td>1</td>\n",
              "      <td>2020-06-01 00:00:00</td>\n",
              "      <td>8179.056</td>\n",
              "      <td>17.6</td>\n",
              "      <td>2.5</td>\n",
              "      <td>92.0</td>\n",
              "      <td>0.8</td>\n",
              "      <td>0.0</td>\n",
              "      <td>0.0</td>\n",
              "      <td>0.0</td>\n",
              "      <td>0</td>\n",
              "      <td>1</td>\n",
              "      <td>6</td>\n",
              "      <td>2020-06-01</td>\n",
              "      <td>0</td>\n",
              "      <td>0</td>\n",
              "      <td>63.43008</td>\n",
              "      <td>0</td>\n",
              "      <td>0</td>\n",
              "      <td>0</td>\n",
              "      <td>0</td>\n",
              "      <td>0</td>\n",
              "      <td>0.0</td>\n",
              "      <td>-8.4</td>\n",
              "      <td>18.973374</td>\n",
              "      <td>1</td>\n",
              "    </tr>\n",
              "    <tr>\n",
              "      <th>1</th>\n",
              "      <td>1</td>\n",
              "      <td>2020-06-01 01:00:00</td>\n",
              "      <td>8135.640</td>\n",
              "      <td>17.7</td>\n",
              "      <td>2.9</td>\n",
              "      <td>91.0</td>\n",
              "      <td>0.3</td>\n",
              "      <td>0.0</td>\n",
              "      <td>0.0</td>\n",
              "      <td>0.0</td>\n",
              "      <td>1</td>\n",
              "      <td>1</td>\n",
              "      <td>6</td>\n",
              "      <td>2020-06-01</td>\n",
              "      <td>0</td>\n",
              "      <td>0</td>\n",
              "      <td>63.56993</td>\n",
              "      <td>0</td>\n",
              "      <td>0</td>\n",
              "      <td>0</td>\n",
              "      <td>0</td>\n",
              "      <td>0</td>\n",
              "      <td>0.0</td>\n",
              "      <td>-16.7</td>\n",
              "      <td>18.960338</td>\n",
              "      <td>1</td>\n",
              "    </tr>\n",
              "    <tr>\n",
              "      <th>2</th>\n",
              "      <td>1</td>\n",
              "      <td>2020-06-01 02:00:00</td>\n",
              "      <td>8107.128</td>\n",
              "      <td>17.5</td>\n",
              "      <td>3.2</td>\n",
              "      <td>91.0</td>\n",
              "      <td>0.0</td>\n",
              "      <td>0.0</td>\n",
              "      <td>0.0</td>\n",
              "      <td>0.0</td>\n",
              "      <td>2</td>\n",
              "      <td>1</td>\n",
              "      <td>6</td>\n",
              "      <td>2020-06-01</td>\n",
              "      <td>0</td>\n",
              "      <td>0</td>\n",
              "      <td>63.22775</td>\n",
              "      <td>0</td>\n",
              "      <td>0</td>\n",
              "      <td>0</td>\n",
              "      <td>0</td>\n",
              "      <td>0</td>\n",
              "      <td>0.0</td>\n",
              "      <td>-25.2</td>\n",
              "      <td>18.658598</td>\n",
              "      <td>1</td>\n",
              "    </tr>\n",
              "    <tr>\n",
              "      <th>3</th>\n",
              "      <td>1</td>\n",
              "      <td>2020-06-01 03:00:00</td>\n",
              "      <td>8048.808</td>\n",
              "      <td>17.1</td>\n",
              "      <td>3.2</td>\n",
              "      <td>91.0</td>\n",
              "      <td>0.0</td>\n",
              "      <td>0.0</td>\n",
              "      <td>0.0</td>\n",
              "      <td>0.0</td>\n",
              "      <td>3</td>\n",
              "      <td>1</td>\n",
              "      <td>6</td>\n",
              "      <td>2020-06-01</td>\n",
              "      <td>0</td>\n",
              "      <td>0</td>\n",
              "      <td>62.54339</td>\n",
              "      <td>0</td>\n",
              "      <td>0</td>\n",
              "      <td>0</td>\n",
              "      <td>0</td>\n",
              "      <td>0</td>\n",
              "      <td>0.0</td>\n",
              "      <td>-34.1</td>\n",
              "      <td>18.218957</td>\n",
              "      <td>1</td>\n",
              "    </tr>\n",
              "    <tr>\n",
              "      <th>4</th>\n",
              "      <td>1</td>\n",
              "      <td>2020-06-01 04:00:00</td>\n",
              "      <td>8043.624</td>\n",
              "      <td>17.0</td>\n",
              "      <td>3.3</td>\n",
              "      <td>92.0</td>\n",
              "      <td>0.0</td>\n",
              "      <td>0.0</td>\n",
              "      <td>0.0</td>\n",
              "      <td>0.0</td>\n",
              "      <td>4</td>\n",
              "      <td>1</td>\n",
              "      <td>6</td>\n",
              "      <td>2020-06-01</td>\n",
              "      <td>0</td>\n",
              "      <td>0</td>\n",
              "      <td>62.39760</td>\n",
              "      <td>0</td>\n",
              "      <td>0</td>\n",
              "      <td>0</td>\n",
              "      <td>0</td>\n",
              "      <td>0</td>\n",
              "      <td>0.0</td>\n",
              "      <td>-43.1</td>\n",
              "      <td>18.081523</td>\n",
              "      <td>1</td>\n",
              "    </tr>\n",
              "  </tbody>\n",
              "</table>\n",
              "</div>"
            ],
            "text/plain": [
              "   num            date_time    target  ...   CDH         TW  corona\n",
              "0    1  2020-06-01 00:00:00  8179.056  ...  -8.4  18.973374       1\n",
              "1    1  2020-06-01 01:00:00  8135.640  ... -16.7  18.960338       1\n",
              "2    1  2020-06-01 02:00:00  8107.128  ... -25.2  18.658598       1\n",
              "3    1  2020-06-01 03:00:00  8048.808  ... -34.1  18.218957       1\n",
              "4    1  2020-06-01 04:00:00  8043.624  ... -43.1  18.081523       1\n",
              "\n",
              "[5 rows x 26 columns]"
            ]
          },
          "metadata": {
            "tags": []
          },
          "execution_count": 106
        }
      ]
    },
    {
      "cell_type": "code",
      "metadata": {
        "id": "pQYB8QzxDFuM",
        "colab": {
          "base_uri": "https://localhost:8080/"
        },
        "outputId": "6315ad16-6d67-46cd-dad6-900f91c61c93"
      },
      "source": [
        "train.shape"
      ],
      "execution_count": 107,
      "outputs": [
        {
          "output_type": "execute_result",
          "data": {
            "text/plain": [
              "(122400, 26)"
            ]
          },
          "metadata": {
            "tags": []
          },
          "execution_count": 107
        }
      ]
    },
    {
      "cell_type": "code",
      "metadata": {
        "id": "OBhQAFwrGHD6",
        "outputId": "926dadbc-97be-4dae-9ec4-27fb72a3e51d",
        "colab": {
          "base_uri": "https://localhost:8080/",
          "height": 383
        }
      },
      "source": [
        "test.head()"
      ],
      "execution_count": 108,
      "outputs": [
        {
          "output_type": "execute_result",
          "data": {
            "text/html": [
              "<div>\n",
              "<style scoped>\n",
              "    .dataframe tbody tr th:only-of-type {\n",
              "        vertical-align: middle;\n",
              "    }\n",
              "\n",
              "    .dataframe tbody tr th {\n",
              "        vertical-align: top;\n",
              "    }\n",
              "\n",
              "    .dataframe thead th {\n",
              "        text-align: right;\n",
              "    }\n",
              "</style>\n",
              "<table border=\"1\" class=\"dataframe\">\n",
              "  <thead>\n",
              "    <tr style=\"text-align: right;\">\n",
              "      <th></th>\n",
              "      <th>num</th>\n",
              "      <th>date_time</th>\n",
              "      <th>temperature</th>\n",
              "      <th>windspeed</th>\n",
              "      <th>humidity</th>\n",
              "      <th>precipitation</th>\n",
              "      <th>insolation</th>\n",
              "      <th>nelec_cool</th>\n",
              "      <th>solar</th>\n",
              "      <th>hour</th>\n",
              "      <th>day</th>\n",
              "      <th>month</th>\n",
              "      <th>date</th>\n",
              "      <th>weekday</th>\n",
              "      <th>weekend</th>\n",
              "      <th>DI</th>\n",
              "      <th>DI_70</th>\n",
              "      <th>DI_75</th>\n",
              "      <th>DI_80</th>\n",
              "      <th>DI_83</th>\n",
              "      <th>DI_86</th>\n",
              "      <th>SL</th>\n",
              "      <th>CDH</th>\n",
              "      <th>TW</th>\n",
              "      <th>corona</th>\n",
              "    </tr>\n",
              "  </thead>\n",
              "  <tbody>\n",
              "    <tr>\n",
              "      <th>0</th>\n",
              "      <td>1</td>\n",
              "      <td>2020-08-25 00:00:00</td>\n",
              "      <td>27.800000</td>\n",
              "      <td>1.500000</td>\n",
              "      <td>74.000000</td>\n",
              "      <td>0.0</td>\n",
              "      <td>0.0</td>\n",
              "      <td>0</td>\n",
              "      <td>0</td>\n",
              "      <td>0</td>\n",
              "      <td>25</td>\n",
              "      <td>8</td>\n",
              "      <td>2020-08-25</td>\n",
              "      <td>1</td>\n",
              "      <td>0</td>\n",
              "      <td>78.602280</td>\n",
              "      <td>0</td>\n",
              "      <td>1</td>\n",
              "      <td>0</td>\n",
              "      <td>0</td>\n",
              "      <td>0</td>\n",
              "      <td>0.0</td>\n",
              "      <td>1.800000</td>\n",
              "      <td>30.027122</td>\n",
              "      <td>2</td>\n",
              "    </tr>\n",
              "    <tr>\n",
              "      <th>1</th>\n",
              "      <td>1</td>\n",
              "      <td>2020-08-25 01:00:00</td>\n",
              "      <td>27.633333</td>\n",
              "      <td>1.366667</td>\n",
              "      <td>75.333333</td>\n",
              "      <td>0.0</td>\n",
              "      <td>0.0</td>\n",
              "      <td>0</td>\n",
              "      <td>0</td>\n",
              "      <td>1</td>\n",
              "      <td>25</td>\n",
              "      <td>8</td>\n",
              "      <td>2020-08-25</td>\n",
              "      <td>1</td>\n",
              "      <td>0</td>\n",
              "      <td>78.519273</td>\n",
              "      <td>0</td>\n",
              "      <td>1</td>\n",
              "      <td>0</td>\n",
              "      <td>0</td>\n",
              "      <td>0</td>\n",
              "      <td>0.0</td>\n",
              "      <td>3.433333</td>\n",
              "      <td>29.859547</td>\n",
              "      <td>2</td>\n",
              "    </tr>\n",
              "    <tr>\n",
              "      <th>2</th>\n",
              "      <td>1</td>\n",
              "      <td>2020-08-25 02:00:00</td>\n",
              "      <td>27.466667</td>\n",
              "      <td>1.233333</td>\n",
              "      <td>76.666667</td>\n",
              "      <td>0.0</td>\n",
              "      <td>0.0</td>\n",
              "      <td>0</td>\n",
              "      <td>0</td>\n",
              "      <td>2</td>\n",
              "      <td>25</td>\n",
              "      <td>8</td>\n",
              "      <td>2020-08-25</td>\n",
              "      <td>1</td>\n",
              "      <td>0</td>\n",
              "      <td>78.431867</td>\n",
              "      <td>0</td>\n",
              "      <td>1</td>\n",
              "      <td>0</td>\n",
              "      <td>0</td>\n",
              "      <td>0</td>\n",
              "      <td>0.0</td>\n",
              "      <td>4.900000</td>\n",
              "      <td>29.694705</td>\n",
              "      <td>2</td>\n",
              "    </tr>\n",
              "    <tr>\n",
              "      <th>3</th>\n",
              "      <td>1</td>\n",
              "      <td>2020-08-25 03:00:00</td>\n",
              "      <td>27.300000</td>\n",
              "      <td>1.100000</td>\n",
              "      <td>78.000000</td>\n",
              "      <td>0.0</td>\n",
              "      <td>0.0</td>\n",
              "      <td>0</td>\n",
              "      <td>0</td>\n",
              "      <td>3</td>\n",
              "      <td>25</td>\n",
              "      <td>8</td>\n",
              "      <td>2020-08-25</td>\n",
              "      <td>1</td>\n",
              "      <td>0</td>\n",
              "      <td>78.340060</td>\n",
              "      <td>0</td>\n",
              "      <td>1</td>\n",
              "      <td>0</td>\n",
              "      <td>0</td>\n",
              "      <td>0</td>\n",
              "      <td>0.0</td>\n",
              "      <td>6.200000</td>\n",
              "      <td>29.533017</td>\n",
              "      <td>2</td>\n",
              "    </tr>\n",
              "    <tr>\n",
              "      <th>4</th>\n",
              "      <td>1</td>\n",
              "      <td>2020-08-25 04:00:00</td>\n",
              "      <td>26.900000</td>\n",
              "      <td>1.166667</td>\n",
              "      <td>79.666667</td>\n",
              "      <td>0.0</td>\n",
              "      <td>0.0</td>\n",
              "      <td>0</td>\n",
              "      <td>0</td>\n",
              "      <td>4</td>\n",
              "      <td>25</td>\n",
              "      <td>8</td>\n",
              "      <td>2020-08-25</td>\n",
              "      <td>1</td>\n",
              "      <td>0</td>\n",
              "      <td>77.912697</td>\n",
              "      <td>0</td>\n",
              "      <td>1</td>\n",
              "      <td>0</td>\n",
              "      <td>0</td>\n",
              "      <td>0</td>\n",
              "      <td>0.0</td>\n",
              "      <td>7.100000</td>\n",
              "      <td>29.116617</td>\n",
              "      <td>2</td>\n",
              "    </tr>\n",
              "  </tbody>\n",
              "</table>\n",
              "</div>"
            ],
            "text/plain": [
              "   num            date_time  temperature  ...       CDH         TW  corona\n",
              "0    1  2020-08-25 00:00:00    27.800000  ...  1.800000  30.027122       2\n",
              "1    1  2020-08-25 01:00:00    27.633333  ...  3.433333  29.859547       2\n",
              "2    1  2020-08-25 02:00:00    27.466667  ...  4.900000  29.694705       2\n",
              "3    1  2020-08-25 03:00:00    27.300000  ...  6.200000  29.533017       2\n",
              "4    1  2020-08-25 04:00:00    26.900000  ...  7.100000  29.116617       2\n",
              "\n",
              "[5 rows x 25 columns]"
            ]
          },
          "metadata": {
            "tags": []
          },
          "execution_count": 108
        }
      ]
    },
    {
      "cell_type": "code",
      "metadata": {
        "id": "QZt4CIqxDTt3",
        "colab": {
          "base_uri": "https://localhost:8080/"
        },
        "outputId": "15eb0745-7b6e-4ff1-ad38-6d21f9d74ecf"
      },
      "source": [
        "test.shape"
      ],
      "execution_count": 109,
      "outputs": [
        {
          "output_type": "execute_result",
          "data": {
            "text/plain": [
              "(10080, 25)"
            ]
          },
          "metadata": {
            "tags": []
          },
          "execution_count": 109
        }
      ]
    },
    {
      "cell_type": "markdown",
      "metadata": {
        "id": "GqTgUs9BNliS"
      },
      "source": [
        "## 군집화 결과 (수연님)"
      ]
    },
    {
      "cell_type": "code",
      "metadata": {
        "colab": {
          "base_uri": "https://localhost:8080/"
        },
        "id": "JOeKxyvJNkxE",
        "outputId": "8e116712-72a1-4480-9353-4e6f1814bf99"
      },
      "source": [
        "# 1번 군집 \n",
        "list1 = [1, 31, 30, 60, 3, 5, 24,32, 33, 15]\n",
        "cl1 = train.drop(['date_time', 'date'], axis = 1)\n",
        "cl1 = cl1[cl1['num'].isin(list1)==True]\n",
        "#cl1 = train[train['num'].isin(list1)==True]\n",
        "print(train.shape, cl1.shape)\n",
        "print('1번 군집은 전체 데이터의 {0:.2f}'.format(cl1.shape[0]/train.shape[0] *100 )+' %를 차지함')"
      ],
      "execution_count": 138,
      "outputs": [
        {
          "output_type": "stream",
          "text": [
            "(122400, 26) (20400, 24)\n",
            "1번 군집은 전체 데이터의 16.67 %를 차지함\n"
          ],
          "name": "stdout"
        }
      ]
    },
    {
      "cell_type": "code",
      "metadata": {
        "colab": {
          "base_uri": "https://localhost:8080/"
        },
        "id": "yC_K7WIINqy2",
        "outputId": "66daa338-4808-42eb-aa60-45d844a2431f"
      },
      "source": [
        "# 2번 군집 \n",
        "list1 = [2, 6, 7, 8, 13, 14, 16, 17, 18, 22, 23, 25, 26, 27, 37, 46, 47, 48, 52, 53, 54, 55, 56, 57 ,35, 38, 43, 44, 39, 45]\n",
        "cl2 = train.drop(['date_time', 'date'], axis = 1)\n",
        "cl2 = cl2[cl2['num'].isin(list1)==True]\n",
        "#cl2 = train[train['num'].isin(list1)==True]\n",
        "print(train.shape, cl2.shape)\n",
        "print('2번 군집은 전체 데이터의 {0:.2f}'.format(cl2.shape[0]/train.shape[0] *100 )+' %를 차지함')"
      ],
      "execution_count": 139,
      "outputs": [
        {
          "output_type": "stream",
          "text": [
            "(122400, 26) (61200, 24)\n",
            "2번 군집은 전체 데이터의 50.00 %를 차지함\n"
          ],
          "name": "stdout"
        }
      ]
    },
    {
      "cell_type": "code",
      "metadata": {
        "colab": {
          "base_uri": "https://localhost:8080/"
        },
        "id": "tswREudpN7oL",
        "outputId": "74f783c2-bd17-44ff-fa76-83e3365edd22"
      },
      "source": [
        "# 3번 군집\n",
        "l2 = [19,20,21,29,36,40,41,49,50,58,59]\n",
        "cl3 = train.drop(['date_time', 'date'], axis = 1)\n",
        "cl3 = cl3[cl3['num'].isin(l2)==True]\n",
        "#cl3 = train[train['num'].isin(l2)==True]\n",
        "print(train.shape, cl3.shape)\n",
        "print('3번 군집은 전체 데이터의 {0:.2f}'.format(cl3.shape[0]/train.shape[0] *100 )+' %를 차지함')"
      ],
      "execution_count": 141,
      "outputs": [
        {
          "output_type": "stream",
          "text": [
            "(122400, 26) (22440, 24)\n",
            "3번 군집은 전체 데이터의 18.33 %를 차지함\n"
          ],
          "name": "stdout"
        }
      ]
    },
    {
      "cell_type": "code",
      "metadata": {
        "colab": {
          "base_uri": "https://localhost:8080/"
        },
        "id": "fyRTiyHaN91-",
        "outputId": "77f0a75e-ae57-42d4-fdf2-56a661418e75"
      },
      "source": [
        "# 4번 군집\n",
        "l3 = [14,9,10,11,12,30,42]\n",
        "cl4 = train.drop(['date_time', 'date'], axis = 1)\n",
        "cl4 = cl4[cl4['num'].isin(l3)==True]\n",
        "#cl4 = train[train['num'].isin(l3)==True]\n",
        "print(train.shape, cl4.shape)\n",
        "print('4번 군집은 전체 데이터의 {0:.2f}'.format(cl4.shape[0]/train.shape[0] *100 )+' %를 차지함')"
      ],
      "execution_count": 142,
      "outputs": [
        {
          "output_type": "stream",
          "text": [
            "(122400, 26) (14280, 24)\n",
            "4번 군집은 전체 데이터의 11.67 %를 차지함\n"
          ],
          "name": "stdout"
        }
      ]
    },
    {
      "cell_type": "code",
      "metadata": {
        "colab": {
          "base_uri": "https://localhost:8080/"
        },
        "id": "314uCSi4N_VB",
        "outputId": "520e81e4-05b8-4090-c8c1-330abb56faae"
      },
      "source": [
        "# 5번 군집\n",
        "l4 = [5,21,28,32,51, 34]\n",
        "cl5 = train.drop(['date_time', 'date'], axis = 1)\n",
        "cl5 = cl5[cl5['num'].isin(l4)==True]\n",
        "#cl5 = train[train['num'].isin(l4)==True]\n",
        "print(train.shape, cl5.shape)\n",
        "print('5번 군집은 전체 데이터의 {0:.2f}'.format(cl5.shape[0]/train.shape[0] *100 )+' %를 차지함')"
      ],
      "execution_count": 143,
      "outputs": [
        {
          "output_type": "stream",
          "text": [
            "(122400, 26) (12240, 24)\n",
            "5번 군집은 전체 데이터의 10.00 %를 차지함\n"
          ],
          "name": "stdout"
        }
      ]
    },
    {
      "cell_type": "code",
      "metadata": {
        "id": "mmFU_jb6OQoK"
      },
      "source": [
        "# 군집 5개 완성!\n",
        "cl1.reset_index(inplace=True, drop=True)\n",
        "cl2.reset_index(inplace=True, drop=True)\n",
        "cl3.reset_index(inplace=True, drop=True)\n",
        "cl4.reset_index(inplace=True, drop=True)\n",
        "cl5.reset_index(inplace=True, drop=True)"
      ],
      "execution_count": 144,
      "outputs": []
    },
    {
      "cell_type": "code",
      "metadata": {
        "colab": {
          "base_uri": "https://localhost:8080/",
          "height": 304
        },
        "id": "AnzVQWbdOa6z",
        "outputId": "58a33034-3cef-46d6-863a-afcc10ac39cf"
      },
      "source": [
        "# 기술통계량 확인\n",
        "train.describe()"
      ],
      "execution_count": 145,
      "outputs": [
        {
          "output_type": "execute_result",
          "data": {
            "text/html": [
              "<div>\n",
              "<style scoped>\n",
              "    .dataframe tbody tr th:only-of-type {\n",
              "        vertical-align: middle;\n",
              "    }\n",
              "\n",
              "    .dataframe tbody tr th {\n",
              "        vertical-align: top;\n",
              "    }\n",
              "\n",
              "    .dataframe thead th {\n",
              "        text-align: right;\n",
              "    }\n",
              "</style>\n",
              "<table border=\"1\" class=\"dataframe\">\n",
              "  <thead>\n",
              "    <tr style=\"text-align: right;\">\n",
              "      <th></th>\n",
              "      <th>num</th>\n",
              "      <th>target</th>\n",
              "      <th>temperature</th>\n",
              "      <th>windspeed</th>\n",
              "      <th>humidity</th>\n",
              "      <th>precipitation</th>\n",
              "      <th>insolation</th>\n",
              "      <th>nelec_cool</th>\n",
              "      <th>solar</th>\n",
              "      <th>hour</th>\n",
              "      <th>day</th>\n",
              "      <th>month</th>\n",
              "      <th>weekday</th>\n",
              "      <th>weekend</th>\n",
              "      <th>DI</th>\n",
              "      <th>DI_70</th>\n",
              "      <th>DI_75</th>\n",
              "      <th>DI_80</th>\n",
              "      <th>DI_83</th>\n",
              "      <th>DI_86</th>\n",
              "      <th>SL</th>\n",
              "      <th>CDH</th>\n",
              "      <th>TW</th>\n",
              "      <th>corona</th>\n",
              "    </tr>\n",
              "  </thead>\n",
              "  <tbody>\n",
              "    <tr>\n",
              "      <th>count</th>\n",
              "      <td>122400.000000</td>\n",
              "      <td>122400.000000</td>\n",
              "      <td>122400.000000</td>\n",
              "      <td>122400.000000</td>\n",
              "      <td>122400.000000</td>\n",
              "      <td>122400.000000</td>\n",
              "      <td>122400.000000</td>\n",
              "      <td>122400.000000</td>\n",
              "      <td>122400.000000</td>\n",
              "      <td>122400.000000</td>\n",
              "      <td>122400.000000</td>\n",
              "      <td>122400.000000</td>\n",
              "      <td>122400.000000</td>\n",
              "      <td>122400.000000</td>\n",
              "      <td>122400.000000</td>\n",
              "      <td>122400.000000</td>\n",
              "      <td>122400.000000</td>\n",
              "      <td>122400.000000</td>\n",
              "      <td>122400.000000</td>\n",
              "      <td>122400.000000</td>\n",
              "      <td>122400.000000</td>\n",
              "      <td>122400.000000</td>\n",
              "      <td>122400.000000</td>\n",
              "      <td>122400.000000</td>\n",
              "    </tr>\n",
              "    <tr>\n",
              "      <th>mean</th>\n",
              "      <td>30.500000</td>\n",
              "      <td>2324.830866</td>\n",
              "      <td>24.251713</td>\n",
              "      <td>2.151641</td>\n",
              "      <td>80.169848</td>\n",
              "      <td>0.514989</td>\n",
              "      <td>0.213533</td>\n",
              "      <td>0.683333</td>\n",
              "      <td>0.483333</td>\n",
              "      <td>11.500000</td>\n",
              "      <td>14.835294</td>\n",
              "      <td>6.929412</td>\n",
              "      <td>2.964706</td>\n",
              "      <td>0.282353</td>\n",
              "      <td>73.461061</td>\n",
              "      <td>0.352990</td>\n",
              "      <td>0.320180</td>\n",
              "      <td>0.066953</td>\n",
              "      <td>0.011797</td>\n",
              "      <td>0.001029</td>\n",
              "      <td>0.418172</td>\n",
              "      <td>-21.071605</td>\n",
              "      <td>26.362236</td>\n",
              "      <td>1.105882</td>\n",
              "    </tr>\n",
              "    <tr>\n",
              "      <th>std</th>\n",
              "      <td>17.318173</td>\n",
              "      <td>2058.999326</td>\n",
              "      <td>3.407902</td>\n",
              "      <td>1.514475</td>\n",
              "      <td>15.525862</td>\n",
              "      <td>2.624505</td>\n",
              "      <td>0.370517</td>\n",
              "      <td>0.465178</td>\n",
              "      <td>0.499724</td>\n",
              "      <td>6.922215</td>\n",
              "      <td>8.446192</td>\n",
              "      <td>0.793925</td>\n",
              "      <td>2.014351</td>\n",
              "      <td>0.450146</td>\n",
              "      <td>4.778330</td>\n",
              "      <td>0.477902</td>\n",
              "      <td>0.466547</td>\n",
              "      <td>0.249941</td>\n",
              "      <td>0.107974</td>\n",
              "      <td>0.032068</td>\n",
              "      <td>1.377256</td>\n",
              "      <td>34.111471</td>\n",
              "      <td>3.542213</td>\n",
              "      <td>0.307688</td>\n",
              "    </tr>\n",
              "    <tr>\n",
              "      <th>min</th>\n",
              "      <td>1.000000</td>\n",
              "      <td>0.000000</td>\n",
              "      <td>11.100000</td>\n",
              "      <td>0.000000</td>\n",
              "      <td>19.000000</td>\n",
              "      <td>0.000000</td>\n",
              "      <td>0.000000</td>\n",
              "      <td>0.000000</td>\n",
              "      <td>0.000000</td>\n",
              "      <td>0.000000</td>\n",
              "      <td>1.000000</td>\n",
              "      <td>6.000000</td>\n",
              "      <td>0.000000</td>\n",
              "      <td>0.000000</td>\n",
              "      <td>52.344210</td>\n",
              "      <td>0.000000</td>\n",
              "      <td>0.000000</td>\n",
              "      <td>0.000000</td>\n",
              "      <td>0.000000</td>\n",
              "      <td>0.000000</td>\n",
              "      <td>0.000000</td>\n",
              "      <td>-151.300000</td>\n",
              "      <td>13.436363</td>\n",
              "      <td>1.000000</td>\n",
              "    </tr>\n",
              "    <tr>\n",
              "      <th>25%</th>\n",
              "      <td>15.750000</td>\n",
              "      <td>1055.268000</td>\n",
              "      <td>21.800000</td>\n",
              "      <td>1.100000</td>\n",
              "      <td>70.000000</td>\n",
              "      <td>0.000000</td>\n",
              "      <td>0.000000</td>\n",
              "      <td>0.000000</td>\n",
              "      <td>0.000000</td>\n",
              "      <td>5.750000</td>\n",
              "      <td>8.000000</td>\n",
              "      <td>6.000000</td>\n",
              "      <td>1.000000</td>\n",
              "      <td>0.000000</td>\n",
              "      <td>70.035960</td>\n",
              "      <td>0.000000</td>\n",
              "      <td>0.000000</td>\n",
              "      <td>0.000000</td>\n",
              "      <td>0.000000</td>\n",
              "      <td>0.000000</td>\n",
              "      <td>0.000000</td>\n",
              "      <td>-45.300000</td>\n",
              "      <td>23.833377</td>\n",
              "      <td>1.000000</td>\n",
              "    </tr>\n",
              "    <tr>\n",
              "      <th>50%</th>\n",
              "      <td>30.500000</td>\n",
              "      <td>1700.352000</td>\n",
              "      <td>24.200000</td>\n",
              "      <td>1.900000</td>\n",
              "      <td>84.000000</td>\n",
              "      <td>0.000000</td>\n",
              "      <td>0.000000</td>\n",
              "      <td>1.000000</td>\n",
              "      <td>0.000000</td>\n",
              "      <td>11.500000</td>\n",
              "      <td>15.000000</td>\n",
              "      <td>7.000000</td>\n",
              "      <td>3.000000</td>\n",
              "      <td>0.000000</td>\n",
              "      <td>73.615850</td>\n",
              "      <td>0.000000</td>\n",
              "      <td>0.000000</td>\n",
              "      <td>0.000000</td>\n",
              "      <td>0.000000</td>\n",
              "      <td>0.000000</td>\n",
              "      <td>0.000000</td>\n",
              "      <td>-20.800000</td>\n",
              "      <td>26.278986</td>\n",
              "      <td>1.000000</td>\n",
              "    </tr>\n",
              "    <tr>\n",
              "      <th>75%</th>\n",
              "      <td>45.250000</td>\n",
              "      <td>2780.487000</td>\n",
              "      <td>26.500000</td>\n",
              "      <td>2.900000</td>\n",
              "      <td>93.000000</td>\n",
              "      <td>0.000000</td>\n",
              "      <td>0.300000</td>\n",
              "      <td>1.000000</td>\n",
              "      <td>1.000000</td>\n",
              "      <td>17.250000</td>\n",
              "      <td>22.000000</td>\n",
              "      <td>8.000000</td>\n",
              "      <td>5.000000</td>\n",
              "      <td>1.000000</td>\n",
              "      <td>77.074510</td>\n",
              "      <td>1.000000</td>\n",
              "      <td>1.000000</td>\n",
              "      <td>0.000000</td>\n",
              "      <td>0.000000</td>\n",
              "      <td>0.000000</td>\n",
              "      <td>0.000000</td>\n",
              "      <td>2.800000</td>\n",
              "      <td>28.675256</td>\n",
              "      <td>1.000000</td>\n",
              "    </tr>\n",
              "    <tr>\n",
              "      <th>max</th>\n",
              "      <td>60.000000</td>\n",
              "      <td>17739.225000</td>\n",
              "      <td>36.300000</td>\n",
              "      <td>20.100000</td>\n",
              "      <td>100.000000</td>\n",
              "      <td>81.500000</td>\n",
              "      <td>1.000000</td>\n",
              "      <td>1.000000</td>\n",
              "      <td>1.000000</td>\n",
              "      <td>23.000000</td>\n",
              "      <td>31.000000</td>\n",
              "      <td>8.000000</td>\n",
              "      <td>6.000000</td>\n",
              "      <td>1.000000</td>\n",
              "      <td>86.661790</td>\n",
              "      <td>1.000000</td>\n",
              "      <td>1.000000</td>\n",
              "      <td>1.000000</td>\n",
              "      <td>1.000000</td>\n",
              "      <td>1.000000</td>\n",
              "      <td>20.000000</td>\n",
              "      <td>99.200000</td>\n",
              "      <td>38.971260</td>\n",
              "      <td>2.000000</td>\n",
              "    </tr>\n",
              "  </tbody>\n",
              "</table>\n",
              "</div>"
            ],
            "text/plain": [
              "                 num         target  ...             TW         corona\n",
              "count  122400.000000  122400.000000  ...  122400.000000  122400.000000\n",
              "mean       30.500000    2324.830866  ...      26.362236       1.105882\n",
              "std        17.318173    2058.999326  ...       3.542213       0.307688\n",
              "min         1.000000       0.000000  ...      13.436363       1.000000\n",
              "25%        15.750000    1055.268000  ...      23.833377       1.000000\n",
              "50%        30.500000    1700.352000  ...      26.278986       1.000000\n",
              "75%        45.250000    2780.487000  ...      28.675256       1.000000\n",
              "max        60.000000   17739.225000  ...      38.971260       2.000000\n",
              "\n",
              "[8 rows x 24 columns]"
            ]
          },
          "metadata": {
            "tags": []
          },
          "execution_count": 145
        }
      ]
    },
    {
      "cell_type": "code",
      "metadata": {
        "colab": {
          "base_uri": "https://localhost:8080/",
          "height": 304
        },
        "id": "OPjwww_gOeqP",
        "outputId": "a9e05a80-e5fc-4417-be2f-1f37c7645d0c"
      },
      "source": [
        "cl1.describe()"
      ],
      "execution_count": 119,
      "outputs": [
        {
          "output_type": "execute_result",
          "data": {
            "text/html": [
              "<div>\n",
              "<style scoped>\n",
              "    .dataframe tbody tr th:only-of-type {\n",
              "        vertical-align: middle;\n",
              "    }\n",
              "\n",
              "    .dataframe tbody tr th {\n",
              "        vertical-align: top;\n",
              "    }\n",
              "\n",
              "    .dataframe thead th {\n",
              "        text-align: right;\n",
              "    }\n",
              "</style>\n",
              "<table border=\"1\" class=\"dataframe\">\n",
              "  <thead>\n",
              "    <tr style=\"text-align: right;\">\n",
              "      <th></th>\n",
              "      <th>num</th>\n",
              "      <th>target</th>\n",
              "      <th>temperature</th>\n",
              "      <th>windspeed</th>\n",
              "      <th>humidity</th>\n",
              "      <th>precipitation</th>\n",
              "      <th>insolation</th>\n",
              "      <th>nelec_cool</th>\n",
              "      <th>solar</th>\n",
              "      <th>hour</th>\n",
              "      <th>day</th>\n",
              "      <th>month</th>\n",
              "      <th>weekday</th>\n",
              "      <th>weekend</th>\n",
              "      <th>DI</th>\n",
              "      <th>DI_70</th>\n",
              "      <th>DI_75</th>\n",
              "      <th>DI_80</th>\n",
              "      <th>DI_83</th>\n",
              "      <th>DI_86</th>\n",
              "      <th>SL</th>\n",
              "      <th>CDH</th>\n",
              "      <th>TW</th>\n",
              "      <th>corona</th>\n",
              "    </tr>\n",
              "  </thead>\n",
              "  <tbody>\n",
              "    <tr>\n",
              "      <th>count</th>\n",
              "      <td>20400.00000</td>\n",
              "      <td>20400.000000</td>\n",
              "      <td>20400.000000</td>\n",
              "      <td>20400.000000</td>\n",
              "      <td>20400.000000</td>\n",
              "      <td>20400.000000</td>\n",
              "      <td>20400.000000</td>\n",
              "      <td>20400.00000</td>\n",
              "      <td>20400.00000</td>\n",
              "      <td>20400.000000</td>\n",
              "      <td>20400.000000</td>\n",
              "      <td>20400.000000</td>\n",
              "      <td>20400.000000</td>\n",
              "      <td>20400.000000</td>\n",
              "      <td>20400.000000</td>\n",
              "      <td>20400.000000</td>\n",
              "      <td>20400.000000</td>\n",
              "      <td>20400.000000</td>\n",
              "      <td>20400.000000</td>\n",
              "      <td>20400.000000</td>\n",
              "      <td>20400.000000</td>\n",
              "      <td>20400.000000</td>\n",
              "      <td>20400.000000</td>\n",
              "      <td>20400.000000</td>\n",
              "    </tr>\n",
              "    <tr>\n",
              "      <th>mean</th>\n",
              "      <td>23.40000</td>\n",
              "      <td>4000.199927</td>\n",
              "      <td>24.178363</td>\n",
              "      <td>2.492598</td>\n",
              "      <td>82.016333</td>\n",
              "      <td>0.507814</td>\n",
              "      <td>0.218363</td>\n",
              "      <td>0.80000</td>\n",
              "      <td>0.40000</td>\n",
              "      <td>11.500000</td>\n",
              "      <td>14.835294</td>\n",
              "      <td>6.929412</td>\n",
              "      <td>2.964706</td>\n",
              "      <td>0.282353</td>\n",
              "      <td>73.546570</td>\n",
              "      <td>0.345833</td>\n",
              "      <td>0.324167</td>\n",
              "      <td>0.072206</td>\n",
              "      <td>0.011863</td>\n",
              "      <td>0.000294</td>\n",
              "      <td>0.436984</td>\n",
              "      <td>-21.952456</td>\n",
              "      <td>26.205680</td>\n",
              "      <td>1.105882</td>\n",
              "    </tr>\n",
              "    <tr>\n",
              "      <th>std</th>\n",
              "      <td>17.13051</td>\n",
              "      <td>2057.588422</td>\n",
              "      <td>3.314664</td>\n",
              "      <td>1.844740</td>\n",
              "      <td>15.074272</td>\n",
              "      <td>2.655440</td>\n",
              "      <td>0.375753</td>\n",
              "      <td>0.40001</td>\n",
              "      <td>0.48991</td>\n",
              "      <td>6.922356</td>\n",
              "      <td>8.446365</td>\n",
              "      <td>0.793941</td>\n",
              "      <td>2.014392</td>\n",
              "      <td>0.450155</td>\n",
              "      <td>4.776976</td>\n",
              "      <td>0.475651</td>\n",
              "      <td>0.468074</td>\n",
              "      <td>0.258835</td>\n",
              "      <td>0.108271</td>\n",
              "      <td>0.017148</td>\n",
              "      <td>1.482577</td>\n",
              "      <td>33.189183</td>\n",
              "      <td>3.495996</td>\n",
              "      <td>0.307695</td>\n",
              "    </tr>\n",
              "    <tr>\n",
              "      <th>min</th>\n",
              "      <td>1.00000</td>\n",
              "      <td>884.304000</td>\n",
              "      <td>13.200000</td>\n",
              "      <td>0.000000</td>\n",
              "      <td>19.000000</td>\n",
              "      <td>0.000000</td>\n",
              "      <td>0.000000</td>\n",
              "      <td>0.00000</td>\n",
              "      <td>0.00000</td>\n",
              "      <td>0.000000</td>\n",
              "      <td>1.000000</td>\n",
              "      <td>6.000000</td>\n",
              "      <td>0.000000</td>\n",
              "      <td>0.000000</td>\n",
              "      <td>55.796960</td>\n",
              "      <td>0.000000</td>\n",
              "      <td>0.000000</td>\n",
              "      <td>0.000000</td>\n",
              "      <td>0.000000</td>\n",
              "      <td>0.000000</td>\n",
              "      <td>0.000000</td>\n",
              "      <td>-137.400000</td>\n",
              "      <td>15.177703</td>\n",
              "      <td>1.000000</td>\n",
              "    </tr>\n",
              "    <tr>\n",
              "      <th>25%</th>\n",
              "      <td>5.00000</td>\n",
              "      <td>2504.682000</td>\n",
              "      <td>21.700000</td>\n",
              "      <td>1.300000</td>\n",
              "      <td>72.000000</td>\n",
              "      <td>0.000000</td>\n",
              "      <td>0.000000</td>\n",
              "      <td>1.00000</td>\n",
              "      <td>0.00000</td>\n",
              "      <td>5.750000</td>\n",
              "      <td>8.000000</td>\n",
              "      <td>6.000000</td>\n",
              "      <td>1.000000</td>\n",
              "      <td>0.000000</td>\n",
              "      <td>70.054380</td>\n",
              "      <td>0.000000</td>\n",
              "      <td>0.000000</td>\n",
              "      <td>0.000000</td>\n",
              "      <td>0.000000</td>\n",
              "      <td>0.000000</td>\n",
              "      <td>0.000000</td>\n",
              "      <td>-46.000000</td>\n",
              "      <td>23.637000</td>\n",
              "      <td>1.000000</td>\n",
              "    </tr>\n",
              "    <tr>\n",
              "      <th>50%</th>\n",
              "      <td>27.00000</td>\n",
              "      <td>3204.576000</td>\n",
              "      <td>24.100000</td>\n",
              "      <td>2.100000</td>\n",
              "      <td>86.000000</td>\n",
              "      <td>0.000000</td>\n",
              "      <td>0.000000</td>\n",
              "      <td>1.00000</td>\n",
              "      <td>0.00000</td>\n",
              "      <td>11.500000</td>\n",
              "      <td>15.000000</td>\n",
              "      <td>7.000000</td>\n",
              "      <td>3.000000</td>\n",
              "      <td>0.000000</td>\n",
              "      <td>73.709460</td>\n",
              "      <td>0.000000</td>\n",
              "      <td>0.000000</td>\n",
              "      <td>0.000000</td>\n",
              "      <td>0.000000</td>\n",
              "      <td>0.000000</td>\n",
              "      <td>0.000000</td>\n",
              "      <td>-20.900000</td>\n",
              "      <td>26.192815</td>\n",
              "      <td>1.000000</td>\n",
              "    </tr>\n",
              "    <tr>\n",
              "      <th>75%</th>\n",
              "      <td>32.00000</td>\n",
              "      <td>5593.320000</td>\n",
              "      <td>26.500000</td>\n",
              "      <td>3.200000</td>\n",
              "      <td>95.000000</td>\n",
              "      <td>0.000000</td>\n",
              "      <td>0.300000</td>\n",
              "      <td>1.00000</td>\n",
              "      <td>1.00000</td>\n",
              "      <td>17.250000</td>\n",
              "      <td>22.000000</td>\n",
              "      <td>8.000000</td>\n",
              "      <td>5.000000</td>\n",
              "      <td>1.000000</td>\n",
              "      <td>77.176620</td>\n",
              "      <td>1.000000</td>\n",
              "      <td>1.000000</td>\n",
              "      <td>0.000000</td>\n",
              "      <td>0.000000</td>\n",
              "      <td>0.000000</td>\n",
              "      <td>0.000000</td>\n",
              "      <td>2.000000</td>\n",
              "      <td>28.597333</td>\n",
              "      <td>1.000000</td>\n",
              "    </tr>\n",
              "    <tr>\n",
              "      <th>max</th>\n",
              "      <td>60.00000</td>\n",
              "      <td>9802.080000</td>\n",
              "      <td>35.200000</td>\n",
              "      <td>20.100000</td>\n",
              "      <td>100.000000</td>\n",
              "      <td>70.400000</td>\n",
              "      <td>1.000000</td>\n",
              "      <td>1.00000</td>\n",
              "      <td>1.00000</td>\n",
              "      <td>23.000000</td>\n",
              "      <td>31.000000</td>\n",
              "      <td>8.000000</td>\n",
              "      <td>6.000000</td>\n",
              "      <td>1.000000</td>\n",
              "      <td>86.569350</td>\n",
              "      <td>1.000000</td>\n",
              "      <td>1.000000</td>\n",
              "      <td>1.000000</td>\n",
              "      <td>1.000000</td>\n",
              "      <td>1.000000</td>\n",
              "      <td>16.000000</td>\n",
              "      <td>76.000000</td>\n",
              "      <td>38.157722</td>\n",
              "      <td>2.000000</td>\n",
              "    </tr>\n",
              "  </tbody>\n",
              "</table>\n",
              "</div>"
            ],
            "text/plain": [
              "               num        target  ...            TW        corona\n",
              "count  20400.00000  20400.000000  ...  20400.000000  20400.000000\n",
              "mean      23.40000   4000.199927  ...     26.205680      1.105882\n",
              "std       17.13051   2057.588422  ...      3.495996      0.307695\n",
              "min        1.00000    884.304000  ...     15.177703      1.000000\n",
              "25%        5.00000   2504.682000  ...     23.637000      1.000000\n",
              "50%       27.00000   3204.576000  ...     26.192815      1.000000\n",
              "75%       32.00000   5593.320000  ...     28.597333      1.000000\n",
              "max       60.00000   9802.080000  ...     38.157722      2.000000\n",
              "\n",
              "[8 rows x 24 columns]"
            ]
          },
          "metadata": {
            "tags": []
          },
          "execution_count": 119
        }
      ]
    },
    {
      "cell_type": "code",
      "metadata": {
        "id": "GQ2an79QOgEQ",
        "outputId": "822374f9-89d8-479d-cc34-5dadeb53d32f",
        "colab": {
          "base_uri": "https://localhost:8080/",
          "height": 304
        }
      },
      "source": [
        "cl2.describe()"
      ],
      "execution_count": 120,
      "outputs": [
        {
          "output_type": "execute_result",
          "data": {
            "text/html": [
              "<div>\n",
              "<style scoped>\n",
              "    .dataframe tbody tr th:only-of-type {\n",
              "        vertical-align: middle;\n",
              "    }\n",
              "\n",
              "    .dataframe tbody tr th {\n",
              "        vertical-align: top;\n",
              "    }\n",
              "\n",
              "    .dataframe thead th {\n",
              "        text-align: right;\n",
              "    }\n",
              "</style>\n",
              "<table border=\"1\" class=\"dataframe\">\n",
              "  <thead>\n",
              "    <tr style=\"text-align: right;\">\n",
              "      <th></th>\n",
              "      <th>num</th>\n",
              "      <th>target</th>\n",
              "      <th>temperature</th>\n",
              "      <th>windspeed</th>\n",
              "      <th>humidity</th>\n",
              "      <th>precipitation</th>\n",
              "      <th>insolation</th>\n",
              "      <th>nelec_cool</th>\n",
              "      <th>solar</th>\n",
              "      <th>hour</th>\n",
              "      <th>day</th>\n",
              "      <th>month</th>\n",
              "      <th>weekday</th>\n",
              "      <th>weekend</th>\n",
              "      <th>DI</th>\n",
              "      <th>DI_70</th>\n",
              "      <th>DI_75</th>\n",
              "      <th>DI_80</th>\n",
              "      <th>DI_83</th>\n",
              "      <th>DI_86</th>\n",
              "      <th>SL</th>\n",
              "      <th>CDH</th>\n",
              "      <th>TW</th>\n",
              "      <th>corona</th>\n",
              "    </tr>\n",
              "  </thead>\n",
              "  <tbody>\n",
              "    <tr>\n",
              "      <th>count</th>\n",
              "      <td>61200.000000</td>\n",
              "      <td>61200.000000</td>\n",
              "      <td>61200.000000</td>\n",
              "      <td>61200.000000</td>\n",
              "      <td>61200.000000</td>\n",
              "      <td>61200.000000</td>\n",
              "      <td>61200.000000</td>\n",
              "      <td>61200.000000</td>\n",
              "      <td>61200.000000</td>\n",
              "      <td>61200.000000</td>\n",
              "      <td>61200.000000</td>\n",
              "      <td>61200.000000</td>\n",
              "      <td>61200.000000</td>\n",
              "      <td>61200.000000</td>\n",
              "      <td>61200.000000</td>\n",
              "      <td>61200.00000</td>\n",
              "      <td>61200.000000</td>\n",
              "      <td>61200.000000</td>\n",
              "      <td>61200.000000</td>\n",
              "      <td>61200.000000</td>\n",
              "      <td>61200.000000</td>\n",
              "      <td>61200.000000</td>\n",
              "      <td>61200.000000</td>\n",
              "      <td>61200.000000</td>\n",
              "    </tr>\n",
              "    <tr>\n",
              "      <th>mean</th>\n",
              "      <td>32.433333</td>\n",
              "      <td>2314.197573</td>\n",
              "      <td>24.368634</td>\n",
              "      <td>1.894237</td>\n",
              "      <td>79.907824</td>\n",
              "      <td>0.503023</td>\n",
              "      <td>0.207758</td>\n",
              "      <td>0.766667</td>\n",
              "      <td>0.533333</td>\n",
              "      <td>11.500000</td>\n",
              "      <td>14.835294</td>\n",
              "      <td>6.929412</td>\n",
              "      <td>2.964706</td>\n",
              "      <td>0.282353</td>\n",
              "      <td>73.610545</td>\n",
              "      <td>0.34866</td>\n",
              "      <td>0.330327</td>\n",
              "      <td>0.068186</td>\n",
              "      <td>0.013072</td>\n",
              "      <td>0.001520</td>\n",
              "      <td>0.411746</td>\n",
              "      <td>-19.671977</td>\n",
              "      <td>26.541799</td>\n",
              "      <td>1.105882</td>\n",
              "    </tr>\n",
              "    <tr>\n",
              "      <th>std</th>\n",
              "      <td>17.038690</td>\n",
              "      <td>2223.567823</td>\n",
              "      <td>3.428643</td>\n",
              "      <td>1.305899</td>\n",
              "      <td>15.659162</td>\n",
              "      <td>2.542276</td>\n",
              "      <td>0.365079</td>\n",
              "      <td>0.422956</td>\n",
              "      <td>0.498892</td>\n",
              "      <td>6.922243</td>\n",
              "      <td>8.446227</td>\n",
              "      <td>0.793928</td>\n",
              "      <td>2.014359</td>\n",
              "      <td>0.450148</td>\n",
              "      <td>4.771457</td>\n",
              "      <td>0.47655</td>\n",
              "      <td>0.470335</td>\n",
              "      <td>0.252067</td>\n",
              "      <td>0.113584</td>\n",
              "      <td>0.038953</td>\n",
              "      <td>1.330571</td>\n",
              "      <td>34.028977</td>\n",
              "      <td>3.523607</td>\n",
              "      <td>0.307689</td>\n",
              "    </tr>\n",
              "    <tr>\n",
              "      <th>min</th>\n",
              "      <td>2.000000</td>\n",
              "      <td>0.000000</td>\n",
              "      <td>11.700000</td>\n",
              "      <td>0.000000</td>\n",
              "      <td>19.000000</td>\n",
              "      <td>0.000000</td>\n",
              "      <td>0.000000</td>\n",
              "      <td>0.000000</td>\n",
              "      <td>0.000000</td>\n",
              "      <td>0.000000</td>\n",
              "      <td>1.000000</td>\n",
              "      <td>6.000000</td>\n",
              "      <td>0.000000</td>\n",
              "      <td>0.000000</td>\n",
              "      <td>53.397080</td>\n",
              "      <td>0.00000</td>\n",
              "      <td>0.000000</td>\n",
              "      <td>0.000000</td>\n",
              "      <td>0.000000</td>\n",
              "      <td>0.000000</td>\n",
              "      <td>0.000000</td>\n",
              "      <td>-150.500000</td>\n",
              "      <td>13.975392</td>\n",
              "      <td>1.000000</td>\n",
              "    </tr>\n",
              "    <tr>\n",
              "      <th>25%</th>\n",
              "      <td>17.000000</td>\n",
              "      <td>1098.684000</td>\n",
              "      <td>21.900000</td>\n",
              "      <td>0.900000</td>\n",
              "      <td>69.000000</td>\n",
              "      <td>0.000000</td>\n",
              "      <td>0.000000</td>\n",
              "      <td>1.000000</td>\n",
              "      <td>0.000000</td>\n",
              "      <td>5.750000</td>\n",
              "      <td>8.000000</td>\n",
              "      <td>6.000000</td>\n",
              "      <td>1.000000</td>\n",
              "      <td>0.000000</td>\n",
              "      <td>70.193480</td>\n",
              "      <td>0.00000</td>\n",
              "      <td>0.000000</td>\n",
              "      <td>0.000000</td>\n",
              "      <td>0.000000</td>\n",
              "      <td>0.000000</td>\n",
              "      <td>0.000000</td>\n",
              "      <td>-43.400000</td>\n",
              "      <td>24.071890</td>\n",
              "      <td>1.000000</td>\n",
              "    </tr>\n",
              "    <tr>\n",
              "      <th>50%</th>\n",
              "      <td>36.000000</td>\n",
              "      <td>1656.288000</td>\n",
              "      <td>24.300000</td>\n",
              "      <td>1.700000</td>\n",
              "      <td>84.000000</td>\n",
              "      <td>0.000000</td>\n",
              "      <td>0.000000</td>\n",
              "      <td>1.000000</td>\n",
              "      <td>1.000000</td>\n",
              "      <td>11.500000</td>\n",
              "      <td>15.000000</td>\n",
              "      <td>7.000000</td>\n",
              "      <td>3.000000</td>\n",
              "      <td>0.000000</td>\n",
              "      <td>73.835330</td>\n",
              "      <td>0.00000</td>\n",
              "      <td>0.000000</td>\n",
              "      <td>0.000000</td>\n",
              "      <td>0.000000</td>\n",
              "      <td>0.000000</td>\n",
              "      <td>0.000000</td>\n",
              "      <td>-19.100000</td>\n",
              "      <td>26.454967</td>\n",
              "      <td>1.000000</td>\n",
              "    </tr>\n",
              "    <tr>\n",
              "      <th>75%</th>\n",
              "      <td>47.000000</td>\n",
              "      <td>2561.328000</td>\n",
              "      <td>26.700000</td>\n",
              "      <td>2.600000</td>\n",
              "      <td>93.000000</td>\n",
              "      <td>0.000000</td>\n",
              "      <td>0.300000</td>\n",
              "      <td>1.000000</td>\n",
              "      <td>1.000000</td>\n",
              "      <td>17.250000</td>\n",
              "      <td>22.000000</td>\n",
              "      <td>8.000000</td>\n",
              "      <td>5.000000</td>\n",
              "      <td>1.000000</td>\n",
              "      <td>77.181540</td>\n",
              "      <td>1.00000</td>\n",
              "      <td>1.000000</td>\n",
              "      <td>0.000000</td>\n",
              "      <td>0.000000</td>\n",
              "      <td>0.000000</td>\n",
              "      <td>0.000000</td>\n",
              "      <td>3.900000</td>\n",
              "      <td>28.823881</td>\n",
              "      <td>1.000000</td>\n",
              "    </tr>\n",
              "    <tr>\n",
              "      <th>max</th>\n",
              "      <td>57.000000</td>\n",
              "      <td>17739.225000</td>\n",
              "      <td>35.700000</td>\n",
              "      <td>12.800000</td>\n",
              "      <td>100.000000</td>\n",
              "      <td>81.500000</td>\n",
              "      <td>1.000000</td>\n",
              "      <td>1.000000</td>\n",
              "      <td>1.000000</td>\n",
              "      <td>23.000000</td>\n",
              "      <td>31.000000</td>\n",
              "      <td>8.000000</td>\n",
              "      <td>6.000000</td>\n",
              "      <td>1.000000</td>\n",
              "      <td>86.661790</td>\n",
              "      <td>1.00000</td>\n",
              "      <td>1.000000</td>\n",
              "      <td>1.000000</td>\n",
              "      <td>1.000000</td>\n",
              "      <td>1.000000</td>\n",
              "      <td>20.000000</td>\n",
              "      <td>99.200000</td>\n",
              "      <td>38.872384</td>\n",
              "      <td>2.000000</td>\n",
              "    </tr>\n",
              "  </tbody>\n",
              "</table>\n",
              "</div>"
            ],
            "text/plain": [
              "                num        target  ...            TW        corona\n",
              "count  61200.000000  61200.000000  ...  61200.000000  61200.000000\n",
              "mean      32.433333   2314.197573  ...     26.541799      1.105882\n",
              "std       17.038690   2223.567823  ...      3.523607      0.307689\n",
              "min        2.000000      0.000000  ...     13.975392      1.000000\n",
              "25%       17.000000   1098.684000  ...     24.071890      1.000000\n",
              "50%       36.000000   1656.288000  ...     26.454967      1.000000\n",
              "75%       47.000000   2561.328000  ...     28.823881      1.000000\n",
              "max       57.000000  17739.225000  ...     38.872384      2.000000\n",
              "\n",
              "[8 rows x 24 columns]"
            ]
          },
          "metadata": {
            "tags": []
          },
          "execution_count": 120
        }
      ]
    },
    {
      "cell_type": "code",
      "metadata": {
        "id": "zSa-ZxvOOhu2",
        "outputId": "1d94b4e4-b609-4d2e-9021-c467f98d970b",
        "colab": {
          "base_uri": "https://localhost:8080/",
          "height": 304
        }
      },
      "source": [
        "cl3.describe()"
      ],
      "execution_count": 121,
      "outputs": [
        {
          "output_type": "execute_result",
          "data": {
            "text/html": [
              "<div>\n",
              "<style scoped>\n",
              "    .dataframe tbody tr th:only-of-type {\n",
              "        vertical-align: middle;\n",
              "    }\n",
              "\n",
              "    .dataframe tbody tr th {\n",
              "        vertical-align: top;\n",
              "    }\n",
              "\n",
              "    .dataframe thead th {\n",
              "        text-align: right;\n",
              "    }\n",
              "</style>\n",
              "<table border=\"1\" class=\"dataframe\">\n",
              "  <thead>\n",
              "    <tr style=\"text-align: right;\">\n",
              "      <th></th>\n",
              "      <th>num</th>\n",
              "      <th>target</th>\n",
              "      <th>temperature</th>\n",
              "      <th>windspeed</th>\n",
              "      <th>humidity</th>\n",
              "      <th>precipitation</th>\n",
              "      <th>insolation</th>\n",
              "      <th>nelec_cool</th>\n",
              "      <th>solar</th>\n",
              "      <th>hour</th>\n",
              "      <th>day</th>\n",
              "      <th>month</th>\n",
              "      <th>weekday</th>\n",
              "      <th>weekend</th>\n",
              "      <th>DI</th>\n",
              "      <th>DI_70</th>\n",
              "      <th>DI_75</th>\n",
              "      <th>DI_80</th>\n",
              "      <th>DI_83</th>\n",
              "      <th>DI_86</th>\n",
              "      <th>SL</th>\n",
              "      <th>CDH</th>\n",
              "      <th>TW</th>\n",
              "      <th>corona</th>\n",
              "    </tr>\n",
              "  </thead>\n",
              "  <tbody>\n",
              "    <tr>\n",
              "      <th>count</th>\n",
              "      <td>22440.000000</td>\n",
              "      <td>22440.000000</td>\n",
              "      <td>22440.000000</td>\n",
              "      <td>22440.000000</td>\n",
              "      <td>22440.000000</td>\n",
              "      <td>22440.000000</td>\n",
              "      <td>22440.000000</td>\n",
              "      <td>22440.000000</td>\n",
              "      <td>22440.000000</td>\n",
              "      <td>22440.000000</td>\n",
              "      <td>22440.000000</td>\n",
              "      <td>22440.000000</td>\n",
              "      <td>22440.000000</td>\n",
              "      <td>22440.000000</td>\n",
              "      <td>22440.000000</td>\n",
              "      <td>22440.000000</td>\n",
              "      <td>22440.000000</td>\n",
              "      <td>22440.000000</td>\n",
              "      <td>22440.000000</td>\n",
              "      <td>22440.000000</td>\n",
              "      <td>22440.000000</td>\n",
              "      <td>22440.000000</td>\n",
              "      <td>22440.000000</td>\n",
              "      <td>22440.000000</td>\n",
              "    </tr>\n",
              "    <tr>\n",
              "      <th>mean</th>\n",
              "      <td>38.363636</td>\n",
              "      <td>1270.805991</td>\n",
              "      <td>24.194519</td>\n",
              "      <td>2.222576</td>\n",
              "      <td>80.274866</td>\n",
              "      <td>0.531003</td>\n",
              "      <td>0.215989</td>\n",
              "      <td>0.363636</td>\n",
              "      <td>0.272727</td>\n",
              "      <td>11.500000</td>\n",
              "      <td>14.835294</td>\n",
              "      <td>6.929412</td>\n",
              "      <td>2.964706</td>\n",
              "      <td>0.282353</td>\n",
              "      <td>73.388815</td>\n",
              "      <td>0.357308</td>\n",
              "      <td>0.310918</td>\n",
              "      <td>0.069474</td>\n",
              "      <td>0.011497</td>\n",
              "      <td>0.000624</td>\n",
              "      <td>0.222029</td>\n",
              "      <td>-21.755918</td>\n",
              "      <td>26.302397</td>\n",
              "      <td>1.105882</td>\n",
              "    </tr>\n",
              "    <tr>\n",
              "      <th>std</th>\n",
              "      <td>14.066861</td>\n",
              "      <td>719.891681</td>\n",
              "      <td>3.422644</td>\n",
              "      <td>1.464918</td>\n",
              "      <td>15.291852</td>\n",
              "      <td>2.653663</td>\n",
              "      <td>0.372133</td>\n",
              "      <td>0.481056</td>\n",
              "      <td>0.445372</td>\n",
              "      <td>6.922341</td>\n",
              "      <td>8.446346</td>\n",
              "      <td>0.793939</td>\n",
              "      <td>2.014388</td>\n",
              "      <td>0.450154</td>\n",
              "      <td>4.827520</td>\n",
              "      <td>0.479217</td>\n",
              "      <td>0.462880</td>\n",
              "      <td>0.254264</td>\n",
              "      <td>0.106610</td>\n",
              "      <td>0.024970</td>\n",
              "      <td>0.983552</td>\n",
              "      <td>34.445252</td>\n",
              "      <td>3.545642</td>\n",
              "      <td>0.307694</td>\n",
              "    </tr>\n",
              "    <tr>\n",
              "      <th>min</th>\n",
              "      <td>19.000000</td>\n",
              "      <td>275.238000</td>\n",
              "      <td>11.100000</td>\n",
              "      <td>0.000000</td>\n",
              "      <td>19.000000</td>\n",
              "      <td>0.000000</td>\n",
              "      <td>0.000000</td>\n",
              "      <td>0.000000</td>\n",
              "      <td>0.000000</td>\n",
              "      <td>0.000000</td>\n",
              "      <td>1.000000</td>\n",
              "      <td>6.000000</td>\n",
              "      <td>0.000000</td>\n",
              "      <td>0.000000</td>\n",
              "      <td>52.344210</td>\n",
              "      <td>0.000000</td>\n",
              "      <td>0.000000</td>\n",
              "      <td>0.000000</td>\n",
              "      <td>0.000000</td>\n",
              "      <td>0.000000</td>\n",
              "      <td>0.000000</td>\n",
              "      <td>-151.300000</td>\n",
              "      <td>13.436363</td>\n",
              "      <td>1.000000</td>\n",
              "    </tr>\n",
              "    <tr>\n",
              "      <th>25%</th>\n",
              "      <td>21.000000</td>\n",
              "      <td>856.170000</td>\n",
              "      <td>21.700000</td>\n",
              "      <td>1.200000</td>\n",
              "      <td>70.000000</td>\n",
              "      <td>0.000000</td>\n",
              "      <td>0.000000</td>\n",
              "      <td>0.000000</td>\n",
              "      <td>0.000000</td>\n",
              "      <td>5.750000</td>\n",
              "      <td>8.000000</td>\n",
              "      <td>6.000000</td>\n",
              "      <td>1.000000</td>\n",
              "      <td>0.000000</td>\n",
              "      <td>69.982168</td>\n",
              "      <td>0.000000</td>\n",
              "      <td>0.000000</td>\n",
              "      <td>0.000000</td>\n",
              "      <td>0.000000</td>\n",
              "      <td>0.000000</td>\n",
              "      <td>0.000000</td>\n",
              "      <td>-46.400000</td>\n",
              "      <td>23.779269</td>\n",
              "      <td>1.000000</td>\n",
              "    </tr>\n",
              "    <tr>\n",
              "      <th>50%</th>\n",
              "      <td>40.000000</td>\n",
              "      <td>1097.941500</td>\n",
              "      <td>24.100000</td>\n",
              "      <td>2.000000</td>\n",
              "      <td>84.000000</td>\n",
              "      <td>0.000000</td>\n",
              "      <td>0.000000</td>\n",
              "      <td>0.000000</td>\n",
              "      <td>0.000000</td>\n",
              "      <td>11.500000</td>\n",
              "      <td>15.000000</td>\n",
              "      <td>7.000000</td>\n",
              "      <td>3.000000</td>\n",
              "      <td>0.000000</td>\n",
              "      <td>73.499380</td>\n",
              "      <td>0.000000</td>\n",
              "      <td>0.000000</td>\n",
              "      <td>0.000000</td>\n",
              "      <td>0.000000</td>\n",
              "      <td>0.000000</td>\n",
              "      <td>0.000000</td>\n",
              "      <td>-22.100000</td>\n",
              "      <td>26.161911</td>\n",
              "      <td>1.000000</td>\n",
              "    </tr>\n",
              "    <tr>\n",
              "      <th>75%</th>\n",
              "      <td>50.000000</td>\n",
              "      <td>1477.251000</td>\n",
              "      <td>26.500000</td>\n",
              "      <td>3.000000</td>\n",
              "      <td>93.000000</td>\n",
              "      <td>0.000000</td>\n",
              "      <td>0.300000</td>\n",
              "      <td>1.000000</td>\n",
              "      <td>1.000000</td>\n",
              "      <td>17.250000</td>\n",
              "      <td>22.000000</td>\n",
              "      <td>8.000000</td>\n",
              "      <td>5.000000</td>\n",
              "      <td>1.000000</td>\n",
              "      <td>77.084440</td>\n",
              "      <td>1.000000</td>\n",
              "      <td>1.000000</td>\n",
              "      <td>0.000000</td>\n",
              "      <td>0.000000</td>\n",
              "      <td>0.000000</td>\n",
              "      <td>0.000000</td>\n",
              "      <td>3.200000</td>\n",
              "      <td>28.641924</td>\n",
              "      <td>1.000000</td>\n",
              "    </tr>\n",
              "    <tr>\n",
              "      <th>max</th>\n",
              "      <td>59.000000</td>\n",
              "      <td>4905.684000</td>\n",
              "      <td>35.500000</td>\n",
              "      <td>12.800000</td>\n",
              "      <td>100.000000</td>\n",
              "      <td>70.400000</td>\n",
              "      <td>1.000000</td>\n",
              "      <td>1.000000</td>\n",
              "      <td>1.000000</td>\n",
              "      <td>23.000000</td>\n",
              "      <td>31.000000</td>\n",
              "      <td>8.000000</td>\n",
              "      <td>6.000000</td>\n",
              "      <td>1.000000</td>\n",
              "      <td>86.569350</td>\n",
              "      <td>1.000000</td>\n",
              "      <td>1.000000</td>\n",
              "      <td>1.000000</td>\n",
              "      <td>1.000000</td>\n",
              "      <td>1.000000</td>\n",
              "      <td>13.898305</td>\n",
              "      <td>86.500000</td>\n",
              "      <td>38.157722</td>\n",
              "      <td>2.000000</td>\n",
              "    </tr>\n",
              "  </tbody>\n",
              "</table>\n",
              "</div>"
            ],
            "text/plain": [
              "                num        target  ...            TW        corona\n",
              "count  22440.000000  22440.000000  ...  22440.000000  22440.000000\n",
              "mean      38.363636   1270.805991  ...     26.302397      1.105882\n",
              "std       14.066861    719.891681  ...      3.545642      0.307694\n",
              "min       19.000000    275.238000  ...     13.436363      1.000000\n",
              "25%       21.000000    856.170000  ...     23.779269      1.000000\n",
              "50%       40.000000   1097.941500  ...     26.161911      1.000000\n",
              "75%       50.000000   1477.251000  ...     28.641924      1.000000\n",
              "max       59.000000   4905.684000  ...     38.157722      2.000000\n",
              "\n",
              "[8 rows x 24 columns]"
            ]
          },
          "metadata": {
            "tags": []
          },
          "execution_count": 121
        }
      ]
    },
    {
      "cell_type": "code",
      "metadata": {
        "id": "5roNAD81Ojhk",
        "outputId": "ac0f0a43-fcbb-4c5c-fb01-4eb11c49a975",
        "colab": {
          "base_uri": "https://localhost:8080/",
          "height": 304
        }
      },
      "source": [
        "cl4.describe()"
      ],
      "execution_count": 122,
      "outputs": [
        {
          "output_type": "execute_result",
          "data": {
            "text/html": [
              "<div>\n",
              "<style scoped>\n",
              "    .dataframe tbody tr th:only-of-type {\n",
              "        vertical-align: middle;\n",
              "    }\n",
              "\n",
              "    .dataframe tbody tr th {\n",
              "        vertical-align: top;\n",
              "    }\n",
              "\n",
              "    .dataframe thead th {\n",
              "        text-align: right;\n",
              "    }\n",
              "</style>\n",
              "<table border=\"1\" class=\"dataframe\">\n",
              "  <thead>\n",
              "    <tr style=\"text-align: right;\">\n",
              "      <th></th>\n",
              "      <th>num</th>\n",
              "      <th>target</th>\n",
              "      <th>temperature</th>\n",
              "      <th>windspeed</th>\n",
              "      <th>humidity</th>\n",
              "      <th>precipitation</th>\n",
              "      <th>insolation</th>\n",
              "      <th>nelec_cool</th>\n",
              "      <th>solar</th>\n",
              "      <th>hour</th>\n",
              "      <th>day</th>\n",
              "      <th>month</th>\n",
              "      <th>weekday</th>\n",
              "      <th>weekend</th>\n",
              "      <th>DI</th>\n",
              "      <th>DI_70</th>\n",
              "      <th>DI_75</th>\n",
              "      <th>DI_80</th>\n",
              "      <th>DI_83</th>\n",
              "      <th>DI_86</th>\n",
              "      <th>SL</th>\n",
              "      <th>CDH</th>\n",
              "      <th>TW</th>\n",
              "      <th>corona</th>\n",
              "    </tr>\n",
              "  </thead>\n",
              "  <tbody>\n",
              "    <tr>\n",
              "      <th>count</th>\n",
              "      <td>14280.000000</td>\n",
              "      <td>14280.000000</td>\n",
              "      <td>14280.000000</td>\n",
              "      <td>14280.000000</td>\n",
              "      <td>14280.000000</td>\n",
              "      <td>14280.000000</td>\n",
              "      <td>14280.000000</td>\n",
              "      <td>14280.000000</td>\n",
              "      <td>14280.000000</td>\n",
              "      <td>14280.000000</td>\n",
              "      <td>14280.000000</td>\n",
              "      <td>14280.000000</td>\n",
              "      <td>14280.000000</td>\n",
              "      <td>14280.000000</td>\n",
              "      <td>14280.000000</td>\n",
              "      <td>14280.000000</td>\n",
              "      <td>14280.000000</td>\n",
              "      <td>14280.000000</td>\n",
              "      <td>14280.000000</td>\n",
              "      <td>14280.000000</td>\n",
              "      <td>14280.000000</td>\n",
              "      <td>14280.000000</td>\n",
              "      <td>14280.000000</td>\n",
              "      <td>14280.000000</td>\n",
              "    </tr>\n",
              "    <tr>\n",
              "      <th>mean</th>\n",
              "      <td>18.285714</td>\n",
              "      <td>2568.672497</td>\n",
              "      <td>23.870819</td>\n",
              "      <td>2.983543</td>\n",
              "      <td>82.697787</td>\n",
              "      <td>0.470763</td>\n",
              "      <td>0.235112</td>\n",
              "      <td>0.714286</td>\n",
              "      <td>0.714286</td>\n",
              "      <td>11.500000</td>\n",
              "      <td>14.835294</td>\n",
              "      <td>6.929412</td>\n",
              "      <td>2.964706</td>\n",
              "      <td>0.282353</td>\n",
              "      <td>73.148073</td>\n",
              "      <td>0.360924</td>\n",
              "      <td>0.257983</td>\n",
              "      <td>0.082143</td>\n",
              "      <td>0.016106</td>\n",
              "      <td>0.001961</td>\n",
              "      <td>0.778144</td>\n",
              "      <td>-25.631632</td>\n",
              "      <td>25.827033</td>\n",
              "      <td>1.105882</td>\n",
              "    </tr>\n",
              "    <tr>\n",
              "      <th>std</th>\n",
              "      <td>11.744276</td>\n",
              "      <td>1955.357567</td>\n",
              "      <td>3.381474</td>\n",
              "      <td>2.173993</td>\n",
              "      <td>14.189761</td>\n",
              "      <td>2.665762</td>\n",
              "      <td>0.389126</td>\n",
              "      <td>0.451770</td>\n",
              "      <td>0.451770</td>\n",
              "      <td>6.922429</td>\n",
              "      <td>8.446453</td>\n",
              "      <td>0.793949</td>\n",
              "      <td>2.014414</td>\n",
              "      <td>0.450160</td>\n",
              "      <td>4.976581</td>\n",
              "      <td>0.480285</td>\n",
              "      <td>0.437540</td>\n",
              "      <td>0.274592</td>\n",
              "      <td>0.125889</td>\n",
              "      <td>0.044239</td>\n",
              "      <td>1.890730</td>\n",
              "      <td>35.929885</td>\n",
              "      <td>3.602703</td>\n",
              "      <td>0.307698</td>\n",
              "    </tr>\n",
              "    <tr>\n",
              "      <th>min</th>\n",
              "      <td>9.000000</td>\n",
              "      <td>347.652000</td>\n",
              "      <td>12.600000</td>\n",
              "      <td>0.000000</td>\n",
              "      <td>19.000000</td>\n",
              "      <td>0.000000</td>\n",
              "      <td>0.000000</td>\n",
              "      <td>0.000000</td>\n",
              "      <td>0.000000</td>\n",
              "      <td>0.000000</td>\n",
              "      <td>1.000000</td>\n",
              "      <td>6.000000</td>\n",
              "      <td>0.000000</td>\n",
              "      <td>0.000000</td>\n",
              "      <td>54.935640</td>\n",
              "      <td>0.000000</td>\n",
              "      <td>0.000000</td>\n",
              "      <td>0.000000</td>\n",
              "      <td>0.000000</td>\n",
              "      <td>0.000000</td>\n",
              "      <td>0.000000</td>\n",
              "      <td>-135.200000</td>\n",
              "      <td>15.177703</td>\n",
              "      <td>1.000000</td>\n",
              "    </tr>\n",
              "    <tr>\n",
              "      <th>25%</th>\n",
              "      <td>10.000000</td>\n",
              "      <td>1183.437000</td>\n",
              "      <td>21.400000</td>\n",
              "      <td>1.500000</td>\n",
              "      <td>74.000000</td>\n",
              "      <td>0.000000</td>\n",
              "      <td>0.000000</td>\n",
              "      <td>0.000000</td>\n",
              "      <td>0.000000</td>\n",
              "      <td>5.750000</td>\n",
              "      <td>8.000000</td>\n",
              "      <td>6.000000</td>\n",
              "      <td>1.000000</td>\n",
              "      <td>0.000000</td>\n",
              "      <td>69.593430</td>\n",
              "      <td>0.000000</td>\n",
              "      <td>0.000000</td>\n",
              "      <td>0.000000</td>\n",
              "      <td>0.000000</td>\n",
              "      <td>0.000000</td>\n",
              "      <td>0.000000</td>\n",
              "      <td>-51.400000</td>\n",
              "      <td>23.200383</td>\n",
              "      <td>1.000000</td>\n",
              "    </tr>\n",
              "    <tr>\n",
              "      <th>50%</th>\n",
              "      <td>12.000000</td>\n",
              "      <td>2030.022000</td>\n",
              "      <td>23.600000</td>\n",
              "      <td>2.500000</td>\n",
              "      <td>86.000000</td>\n",
              "      <td>0.000000</td>\n",
              "      <td>0.000000</td>\n",
              "      <td>1.000000</td>\n",
              "      <td>1.000000</td>\n",
              "      <td>11.500000</td>\n",
              "      <td>15.000000</td>\n",
              "      <td>7.000000</td>\n",
              "      <td>3.000000</td>\n",
              "      <td>0.000000</td>\n",
              "      <td>72.911360</td>\n",
              "      <td>0.000000</td>\n",
              "      <td>0.000000</td>\n",
              "      <td>0.000000</td>\n",
              "      <td>0.000000</td>\n",
              "      <td>0.000000</td>\n",
              "      <td>0.000000</td>\n",
              "      <td>-29.100000</td>\n",
              "      <td>25.612251</td>\n",
              "      <td>1.000000</td>\n",
              "    </tr>\n",
              "    <tr>\n",
              "      <th>75%</th>\n",
              "      <td>30.000000</td>\n",
              "      <td>3574.044000</td>\n",
              "      <td>26.100000</td>\n",
              "      <td>3.900000</td>\n",
              "      <td>94.000000</td>\n",
              "      <td>0.000000</td>\n",
              "      <td>0.400000</td>\n",
              "      <td>1.000000</td>\n",
              "      <td>1.000000</td>\n",
              "      <td>17.250000</td>\n",
              "      <td>22.000000</td>\n",
              "      <td>8.000000</td>\n",
              "      <td>5.000000</td>\n",
              "      <td>1.000000</td>\n",
              "      <td>76.863530</td>\n",
              "      <td>1.000000</td>\n",
              "      <td>1.000000</td>\n",
              "      <td>0.000000</td>\n",
              "      <td>0.000000</td>\n",
              "      <td>0.000000</td>\n",
              "      <td>0.000000</td>\n",
              "      <td>-0.100000</td>\n",
              "      <td>28.197786</td>\n",
              "      <td>1.000000</td>\n",
              "    </tr>\n",
              "    <tr>\n",
              "      <th>max</th>\n",
              "      <td>42.000000</td>\n",
              "      <td>9802.080000</td>\n",
              "      <td>35.700000</td>\n",
              "      <td>20.100000</td>\n",
              "      <td>100.000000</td>\n",
              "      <td>70.400000</td>\n",
              "      <td>1.000000</td>\n",
              "      <td>1.000000</td>\n",
              "      <td>1.000000</td>\n",
              "      <td>23.000000</td>\n",
              "      <td>31.000000</td>\n",
              "      <td>8.000000</td>\n",
              "      <td>6.000000</td>\n",
              "      <td>1.000000</td>\n",
              "      <td>86.661790</td>\n",
              "      <td>1.000000</td>\n",
              "      <td>1.000000</td>\n",
              "      <td>1.000000</td>\n",
              "      <td>1.000000</td>\n",
              "      <td>1.000000</td>\n",
              "      <td>16.000000</td>\n",
              "      <td>99.200000</td>\n",
              "      <td>38.872384</td>\n",
              "      <td>2.000000</td>\n",
              "    </tr>\n",
              "  </tbody>\n",
              "</table>\n",
              "</div>"
            ],
            "text/plain": [
              "                num        target  ...            TW        corona\n",
              "count  14280.000000  14280.000000  ...  14280.000000  14280.000000\n",
              "mean      18.285714   2568.672497  ...     25.827033      1.105882\n",
              "std       11.744276   1955.357567  ...      3.602703      0.307698\n",
              "min        9.000000    347.652000  ...     15.177703      1.000000\n",
              "25%       10.000000   1183.437000  ...     23.200383      1.000000\n",
              "50%       12.000000   2030.022000  ...     25.612251      1.000000\n",
              "75%       30.000000   3574.044000  ...     28.197786      1.000000\n",
              "max       42.000000   9802.080000  ...     38.872384      2.000000\n",
              "\n",
              "[8 rows x 24 columns]"
            ]
          },
          "metadata": {
            "tags": []
          },
          "execution_count": 122
        }
      ]
    },
    {
      "cell_type": "code",
      "metadata": {
        "id": "dBiYWbafOlWD",
        "outputId": "a5797d78-5f04-428e-82b5-387cc2e7e930",
        "colab": {
          "base_uri": "https://localhost:8080/",
          "height": 304
        }
      },
      "source": [
        "cl5.describe()"
      ],
      "execution_count": 123,
      "outputs": [
        {
          "output_type": "execute_result",
          "data": {
            "text/html": [
              "<div>\n",
              "<style scoped>\n",
              "    .dataframe tbody tr th:only-of-type {\n",
              "        vertical-align: middle;\n",
              "    }\n",
              "\n",
              "    .dataframe tbody tr th {\n",
              "        vertical-align: top;\n",
              "    }\n",
              "\n",
              "    .dataframe thead th {\n",
              "        text-align: right;\n",
              "    }\n",
              "</style>\n",
              "<table border=\"1\" class=\"dataframe\">\n",
              "  <thead>\n",
              "    <tr style=\"text-align: right;\">\n",
              "      <th></th>\n",
              "      <th>num</th>\n",
              "      <th>target</th>\n",
              "      <th>temperature</th>\n",
              "      <th>windspeed</th>\n",
              "      <th>humidity</th>\n",
              "      <th>precipitation</th>\n",
              "      <th>insolation</th>\n",
              "      <th>nelec_cool</th>\n",
              "      <th>solar</th>\n",
              "      <th>hour</th>\n",
              "      <th>day</th>\n",
              "      <th>month</th>\n",
              "      <th>weekday</th>\n",
              "      <th>weekend</th>\n",
              "      <th>DI</th>\n",
              "      <th>DI_70</th>\n",
              "      <th>DI_75</th>\n",
              "      <th>DI_80</th>\n",
              "      <th>DI_83</th>\n",
              "      <th>DI_86</th>\n",
              "      <th>SL</th>\n",
              "      <th>CDH</th>\n",
              "      <th>TW</th>\n",
              "      <th>corona</th>\n",
              "    </tr>\n",
              "  </thead>\n",
              "  <tbody>\n",
              "    <tr>\n",
              "      <th>count</th>\n",
              "      <td>12240.000000</td>\n",
              "      <td>12240.000000</td>\n",
              "      <td>12240.000000</td>\n",
              "      <td>12240.000000</td>\n",
              "      <td>12240.000000</td>\n",
              "      <td>12240.000000</td>\n",
              "      <td>12240.000000</td>\n",
              "      <td>12240.00000</td>\n",
              "      <td>12240.00000</td>\n",
              "      <td>12240.000000</td>\n",
              "      <td>12240.000000</td>\n",
              "      <td>12240.000000</td>\n",
              "      <td>12240.000000</td>\n",
              "      <td>12240.000000</td>\n",
              "      <td>12240.000000</td>\n",
              "      <td>12240.000000</td>\n",
              "      <td>12240.000000</td>\n",
              "      <td>12240.000000</td>\n",
              "      <td>12240.000000</td>\n",
              "      <td>12240.0</td>\n",
              "      <td>12240.000000</td>\n",
              "      <td>12240.000000</td>\n",
              "      <td>12240.000000</td>\n",
              "      <td>12240.000000</td>\n",
              "    </tr>\n",
              "    <tr>\n",
              "      <th>mean</th>\n",
              "      <td>28.500000</td>\n",
              "      <td>1941.539742</td>\n",
              "      <td>24.218946</td>\n",
              "      <td>2.561887</td>\n",
              "      <td>78.801552</td>\n",
              "      <td>0.577116</td>\n",
              "      <td>0.208489</td>\n",
              "      <td>0.50000</td>\n",
              "      <td>0.50000</td>\n",
              "      <td>11.500000</td>\n",
              "      <td>14.835294</td>\n",
              "      <td>6.929412</td>\n",
              "      <td>2.964706</td>\n",
              "      <td>0.282353</td>\n",
              "      <td>73.313394</td>\n",
              "      <td>0.364297</td>\n",
              "      <td>0.326879</td>\n",
              "      <td>0.058252</td>\n",
              "      <td>0.004984</td>\n",
              "      <td>0.0</td>\n",
              "      <td>0.464551</td>\n",
              "      <td>-21.463096</td>\n",
              "      <td>26.208722</td>\n",
              "      <td>1.105882</td>\n",
              "    </tr>\n",
              "    <tr>\n",
              "      <th>std</th>\n",
              "      <td>13.890012</td>\n",
              "      <td>722.919915</td>\n",
              "      <td>3.261309</td>\n",
              "      <td>1.531287</td>\n",
              "      <td>15.274456</td>\n",
              "      <td>2.980738</td>\n",
              "      <td>0.366618</td>\n",
              "      <td>0.50002</td>\n",
              "      <td>0.50002</td>\n",
              "      <td>6.922469</td>\n",
              "      <td>8.446503</td>\n",
              "      <td>0.793954</td>\n",
              "      <td>2.014425</td>\n",
              "      <td>0.450163</td>\n",
              "      <td>4.594105</td>\n",
              "      <td>0.481252</td>\n",
              "      <td>0.469092</td>\n",
              "      <td>0.234228</td>\n",
              "      <td>0.070422</td>\n",
              "      <td>0.0</td>\n",
              "      <td>1.525493</td>\n",
              "      <td>32.690524</td>\n",
              "      <td>3.468719</td>\n",
              "      <td>0.307700</td>\n",
              "    </tr>\n",
              "    <tr>\n",
              "      <th>min</th>\n",
              "      <td>5.000000</td>\n",
              "      <td>525.204000</td>\n",
              "      <td>13.200000</td>\n",
              "      <td>0.000000</td>\n",
              "      <td>19.000000</td>\n",
              "      <td>0.000000</td>\n",
              "      <td>0.000000</td>\n",
              "      <td>0.00000</td>\n",
              "      <td>0.00000</td>\n",
              "      <td>0.000000</td>\n",
              "      <td>1.000000</td>\n",
              "      <td>6.000000</td>\n",
              "      <td>0.000000</td>\n",
              "      <td>0.000000</td>\n",
              "      <td>55.796960</td>\n",
              "      <td>0.000000</td>\n",
              "      <td>0.000000</td>\n",
              "      <td>0.000000</td>\n",
              "      <td>0.000000</td>\n",
              "      <td>0.0</td>\n",
              "      <td>0.000000</td>\n",
              "      <td>-137.400000</td>\n",
              "      <td>15.727177</td>\n",
              "      <td>1.000000</td>\n",
              "    </tr>\n",
              "    <tr>\n",
              "      <th>25%</th>\n",
              "      <td>21.000000</td>\n",
              "      <td>1416.028500</td>\n",
              "      <td>21.800000</td>\n",
              "      <td>1.600000</td>\n",
              "      <td>69.000000</td>\n",
              "      <td>0.000000</td>\n",
              "      <td>0.000000</td>\n",
              "      <td>0.00000</td>\n",
              "      <td>0.00000</td>\n",
              "      <td>5.750000</td>\n",
              "      <td>8.000000</td>\n",
              "      <td>6.000000</td>\n",
              "      <td>1.000000</td>\n",
              "      <td>0.000000</td>\n",
              "      <td>70.040500</td>\n",
              "      <td>0.000000</td>\n",
              "      <td>0.000000</td>\n",
              "      <td>0.000000</td>\n",
              "      <td>0.000000</td>\n",
              "      <td>0.0</td>\n",
              "      <td>0.000000</td>\n",
              "      <td>-45.100000</td>\n",
              "      <td>23.687612</td>\n",
              "      <td>1.000000</td>\n",
              "    </tr>\n",
              "    <tr>\n",
              "      <th>50%</th>\n",
              "      <td>30.000000</td>\n",
              "      <td>2032.695000</td>\n",
              "      <td>24.200000</td>\n",
              "      <td>2.300000</td>\n",
              "      <td>82.000000</td>\n",
              "      <td>0.000000</td>\n",
              "      <td>0.000000</td>\n",
              "      <td>0.50000</td>\n",
              "      <td>0.50000</td>\n",
              "      <td>11.500000</td>\n",
              "      <td>15.000000</td>\n",
              "      <td>7.000000</td>\n",
              "      <td>3.000000</td>\n",
              "      <td>0.000000</td>\n",
              "      <td>73.464880</td>\n",
              "      <td>0.000000</td>\n",
              "      <td>0.000000</td>\n",
              "      <td>0.000000</td>\n",
              "      <td>0.000000</td>\n",
              "      <td>0.0</td>\n",
              "      <td>0.000000</td>\n",
              "      <td>-20.700000</td>\n",
              "      <td>26.142099</td>\n",
              "      <td>1.000000</td>\n",
              "    </tr>\n",
              "    <tr>\n",
              "      <th>75%</th>\n",
              "      <td>34.000000</td>\n",
              "      <td>2422.224000</td>\n",
              "      <td>26.400000</td>\n",
              "      <td>3.200000</td>\n",
              "      <td>91.000000</td>\n",
              "      <td>0.000000</td>\n",
              "      <td>0.300000</td>\n",
              "      <td>1.00000</td>\n",
              "      <td>1.00000</td>\n",
              "      <td>17.250000</td>\n",
              "      <td>22.000000</td>\n",
              "      <td>8.000000</td>\n",
              "      <td>5.000000</td>\n",
              "      <td>1.000000</td>\n",
              "      <td>76.904520</td>\n",
              "      <td>1.000000</td>\n",
              "      <td>1.000000</td>\n",
              "      <td>0.000000</td>\n",
              "      <td>0.000000</td>\n",
              "      <td>0.0</td>\n",
              "      <td>0.000000</td>\n",
              "      <td>1.800000</td>\n",
              "      <td>28.503867</td>\n",
              "      <td>1.000000</td>\n",
              "    </tr>\n",
              "    <tr>\n",
              "      <th>max</th>\n",
              "      <td>51.000000</td>\n",
              "      <td>3890.160000</td>\n",
              "      <td>35.200000</td>\n",
              "      <td>12.800000</td>\n",
              "      <td>100.000000</td>\n",
              "      <td>70.400000</td>\n",
              "      <td>1.000000</td>\n",
              "      <td>1.00000</td>\n",
              "      <td>1.00000</td>\n",
              "      <td>23.000000</td>\n",
              "      <td>31.000000</td>\n",
              "      <td>8.000000</td>\n",
              "      <td>6.000000</td>\n",
              "      <td>1.000000</td>\n",
              "      <td>84.754130</td>\n",
              "      <td>1.000000</td>\n",
              "      <td>1.000000</td>\n",
              "      <td>1.000000</td>\n",
              "      <td>1.000000</td>\n",
              "      <td>0.0</td>\n",
              "      <td>13.750000</td>\n",
              "      <td>76.000000</td>\n",
              "      <td>38.157722</td>\n",
              "      <td>2.000000</td>\n",
              "    </tr>\n",
              "  </tbody>\n",
              "</table>\n",
              "</div>"
            ],
            "text/plain": [
              "                num        target  ...            TW        corona\n",
              "count  12240.000000  12240.000000  ...  12240.000000  12240.000000\n",
              "mean      28.500000   1941.539742  ...     26.208722      1.105882\n",
              "std       13.890012    722.919915  ...      3.468719      0.307700\n",
              "min        5.000000    525.204000  ...     15.727177      1.000000\n",
              "25%       21.000000   1416.028500  ...     23.687612      1.000000\n",
              "50%       30.000000   2032.695000  ...     26.142099      1.000000\n",
              "75%       34.000000   2422.224000  ...     28.503867      1.000000\n",
              "max       51.000000   3890.160000  ...     38.157722      2.000000\n",
              "\n",
              "[8 rows x 24 columns]"
            ]
          },
          "metadata": {
            "tags": []
          },
          "execution_count": 123
        }
      ]
    },
    {
      "cell_type": "markdown",
      "metadata": {
        "id": "LWrOkDA7GVci"
      },
      "source": [
        "## LGBM 모델링\n",
        "\n",
        "[참고] https://www.kaggle.com/janged/xgb-lgb"
      ]
    },
    {
      "cell_type": "code",
      "metadata": {
        "id": "gLRYynKnCW8D"
      },
      "source": [
        "from sklearn.model_selection import train_test_split, GridSearchCV"
      ],
      "execution_count": 146,
      "outputs": []
    },
    {
      "cell_type": "code",
      "metadata": {
        "id": "IvD_yq5qzEy9"
      },
      "source": [
        "def print_best_params(model, params, cl_x, cl_y):\n",
        "    grid_model = GridSearchCV(\n",
        "        model, \n",
        "        param_grid = params,\n",
        "        cv=5,\n",
        "        scoring='neg_mean_squared_error')\n",
        "\n",
        "    grid_model.fit(cl_x, cl_y)\n",
        "    rmse = np.sqrt(-1*grid_model.best_score_)\n",
        "    print(\n",
        "        '{0} 5 CV 시 최적 평균 RMSE 값 {1}, 최적 alpha:{2}'.format(model.__class__.__name__, np.round(rmse, 4), grid_model.best_params_))\n",
        "    return grid_model.best_estimator_"
      ],
      "execution_count": 147,
      "outputs": []
    },
    {
      "cell_type": "code",
      "metadata": {
        "id": "ArvxgNzwz6Mr"
      },
      "source": [
        "SEED = 30"
      ],
      "execution_count": 131,
      "outputs": []
    },
    {
      "cell_type": "code",
      "metadata": {
        "id": "69vG-P6dtZlo"
      },
      "source": [
        "lgb_params = {\n",
        "    'objective':['regression'],\n",
        "    'num_leave' : [1],\n",
        "    'learning_rate' : [0.05],\n",
        "    'n_estimators':[1000],\n",
        "    'max_bin' : [80],\n",
        "    'gpu_id':[0] ,         \n",
        "    'tree_method':['gpu_hist'],\n",
        "    'refit':[True]\n",
        "}\n",
        "\n",
        "lgb_model = LGBMRegressor()"
      ],
      "execution_count": 149,
      "outputs": []
    },
    {
      "cell_type": "markdown",
      "metadata": {
        "id": "u50Mjj8MOncN"
      },
      "source": [
        "#### cluster1"
      ]
    },
    {
      "cell_type": "code",
      "metadata": {
        "id": "SwYjhrZQGYF6"
      },
      "source": [
        "cl1_x = cl1.drop('target', axis = 1)\n",
        "cl1_y = cl1[['target']]"
      ],
      "execution_count": 148,
      "outputs": []
    },
    {
      "cell_type": "code",
      "metadata": {
        "id": "-yFFdbOUCZkK"
      },
      "source": [
        "x_train, x_test, y_train, y_test = train_test_split(cl1_x, cl1_y, random_state=SEED)"
      ],
      "execution_count": 132,
      "outputs": []
    },
    {
      "cell_type": "code",
      "metadata": {
        "id": "EaFqIIJNz-sh",
        "outputId": "f5b0f59d-67f1-43b3-8d64-dfde976e1a56",
        "colab": {
          "base_uri": "https://localhost:8080/"
        }
      },
      "source": [
        "lgb_estimator_cl1 = print_best_params(lgb_model, lgb_params, cl1_x, cl1_y)"
      ],
      "execution_count": 150,
      "outputs": [
        {
          "output_type": "stream",
          "text": [
            "LGBMRegressor 5 CV 시 최적 평균 RMSE 값 2472.0638, 최적 alpha:{'gpu_id': 0, 'learning_rate': 0.05, 'max_bin': 80, 'n_estimators': 1000, 'num_leave': 1, 'objective': 'regression', 'refit': True, 'tree_method': 'gpu_hist'}\n"
          ],
          "name": "stdout"
        }
      ]
    },
    {
      "cell_type": "markdown",
      "metadata": {
        "id": "xCB0BHCq53Mm"
      },
      "source": [
        "#### cluster 2"
      ]
    },
    {
      "cell_type": "code",
      "metadata": {
        "id": "hxmwfoUczpGj"
      },
      "source": [
        "cl2_x = cl2.drop('target', axis = 1)\n",
        "cl2_y = cl2[['target']]"
      ],
      "execution_count": 151,
      "outputs": []
    },
    {
      "cell_type": "code",
      "metadata": {
        "id": "vP-N9OrV5_Xm"
      },
      "source": [
        "x_train, x_test, y_train, y_test = train_test_split(cl2_x, cl2_y, random_state=SEED)"
      ],
      "execution_count": 152,
      "outputs": []
    },
    {
      "cell_type": "code",
      "metadata": {
        "id": "cR5AOpPx6EI5",
        "outputId": "92dd746f-4ca1-4c8f-ebc2-d8084dc0e1e9",
        "colab": {
          "base_uri": "https://localhost:8080/"
        }
      },
      "source": [
        "lgb_estimator_cl2 = print_best_params(lgb_model, lgb_params, cl2_x, cl2_y)"
      ],
      "execution_count": 172,
      "outputs": [
        {
          "output_type": "stream",
          "text": [
            "LGBMRegressor 5 CV 시 최적 평균 RMSE 값 2278.689, 최적 alpha:{'gpu_id': 0, 'learning_rate': 0.05, 'max_bin': 80, 'n_estimators': 1000, 'num_leave': 1, 'objective': 'regression', 'refit': True, 'tree_method': 'gpu_hist'}\n"
          ],
          "name": "stdout"
        }
      ]
    },
    {
      "cell_type": "markdown",
      "metadata": {
        "id": "oQ8vGUhc6R_u"
      },
      "source": [
        "#### cluster 3"
      ]
    },
    {
      "cell_type": "code",
      "metadata": {
        "id": "fHU9MSOHzr99"
      },
      "source": [
        "cl3_x = cl3.drop('target', axis = 1)\n",
        "cl3_y = cl3[['target']]"
      ],
      "execution_count": 154,
      "outputs": []
    },
    {
      "cell_type": "code",
      "metadata": {
        "id": "iuKIO_l_6U3P"
      },
      "source": [
        "x_train, x_test, y_train, y_test = train_test_split(cl3_x, cl3_y, random_state=SEED)"
      ],
      "execution_count": 155,
      "outputs": []
    },
    {
      "cell_type": "code",
      "metadata": {
        "id": "uQ9KNUIt6XGB",
        "outputId": "f479ea4e-642e-4d8b-efb2-68ab9cae4deb",
        "colab": {
          "base_uri": "https://localhost:8080/"
        }
      },
      "source": [
        "lgb_estimator_cl3 = print_best_params(lgb_model, lgb_params, cl3_x, cl3_y)"
      ],
      "execution_count": 156,
      "outputs": [
        {
          "output_type": "stream",
          "text": [
            "LGBMRegressor 5 CV 시 최적 평균 RMSE 값 646.9296, 최적 alpha:{'gpu_id': 0, 'learning_rate': 0.05, 'max_bin': 80, 'n_estimators': 1000, 'num_leave': 1, 'objective': 'regression', 'refit': True, 'tree_method': 'gpu_hist'}\n"
          ],
          "name": "stdout"
        }
      ]
    },
    {
      "cell_type": "markdown",
      "metadata": {
        "id": "3n8HtbZA6bhO"
      },
      "source": [
        "#### cluster 4"
      ]
    },
    {
      "cell_type": "code",
      "metadata": {
        "id": "QsareV9YzsRf"
      },
      "source": [
        "cl4_x = cl4.drop('target', axis = 1)\n",
        "cl4_y = cl4[['target']]"
      ],
      "execution_count": 157,
      "outputs": []
    },
    {
      "cell_type": "code",
      "metadata": {
        "id": "ggGIsUeS6rQ0"
      },
      "source": [
        "x_train, x_test, y_train, y_test = train_test_split(cl4_x, cl4_y, random_state=SEED)"
      ],
      "execution_count": 158,
      "outputs": []
    },
    {
      "cell_type": "code",
      "metadata": {
        "id": "8bMC9NvY6t3b",
        "outputId": "4f8c708d-ea86-4f35-9d45-16a49726b326",
        "colab": {
          "base_uri": "https://localhost:8080/"
        }
      },
      "source": [
        "lgb_estimator_cl4 = print_best_params(lgb_model, lgb_params, cl4_x, cl4_y)"
      ],
      "execution_count": 159,
      "outputs": [
        {
          "output_type": "stream",
          "text": [
            "LGBMRegressor 5 CV 시 최적 평균 RMSE 값 1278.4376, 최적 alpha:{'gpu_id': 0, 'learning_rate': 0.05, 'max_bin': 80, 'n_estimators': 1000, 'num_leave': 1, 'objective': 'regression', 'refit': True, 'tree_method': 'gpu_hist'}\n"
          ],
          "name": "stdout"
        }
      ]
    },
    {
      "cell_type": "markdown",
      "metadata": {
        "id": "bKiKU9No6we1"
      },
      "source": [
        "#### cluster 5"
      ]
    },
    {
      "cell_type": "code",
      "metadata": {
        "id": "pBvHehQZzsrP"
      },
      "source": [
        "cl5_x = cl5.drop('target', axis = 1)\n",
        "cl5_y = cl5[['target']]"
      ],
      "execution_count": 160,
      "outputs": []
    },
    {
      "cell_type": "code",
      "metadata": {
        "id": "s7Cxb5TX6ys6"
      },
      "source": [
        "x_train, x_test, y_train, y_test = train_test_split(cl5_x, cl5_y, random_state=SEED)"
      ],
      "execution_count": 161,
      "outputs": []
    },
    {
      "cell_type": "code",
      "metadata": {
        "id": "eWUvIW0F61rw",
        "outputId": "70f3c8b8-d694-43d9-f7c4-398482dcce3c",
        "colab": {
          "base_uri": "https://localhost:8080/"
        }
      },
      "source": [
        "lgb_estimator_cl5 = print_best_params(lgb_model, lgb_params, cl5_x, cl5_y)"
      ],
      "execution_count": 162,
      "outputs": [
        {
          "output_type": "stream",
          "text": [
            "LGBMRegressor 5 CV 시 최적 평균 RMSE 값 539.688, 최적 alpha:{'gpu_id': 0, 'learning_rate': 0.05, 'max_bin': 80, 'n_estimators': 1000, 'num_leave': 1, 'objective': 'regression', 'refit': True, 'tree_method': 'gpu_hist'}\n"
          ],
          "name": "stdout"
        }
      ]
    },
    {
      "cell_type": "markdown",
      "metadata": {
        "id": "7eV1Kn5n7JZA"
      },
      "source": [
        "## predict"
      ]
    },
    {
      "cell_type": "code",
      "metadata": {
        "id": "zS4_jYT67STQ"
      },
      "source": [
        "testt = test.drop(['date_time', 'date'], axis = 1)"
      ],
      "execution_count": 164,
      "outputs": []
    },
    {
      "cell_type": "code",
      "metadata": {
        "id": "oqgsHlVB7-ys",
        "outputId": "259d8f29-5ef5-4e58-e69e-b0a0a37813c8",
        "colab": {
          "base_uri": "https://localhost:8080/",
          "height": 215
        }
      },
      "source": [
        "testt.head()"
      ],
      "execution_count": 166,
      "outputs": [
        {
          "output_type": "execute_result",
          "data": {
            "text/html": [
              "<div>\n",
              "<style scoped>\n",
              "    .dataframe tbody tr th:only-of-type {\n",
              "        vertical-align: middle;\n",
              "    }\n",
              "\n",
              "    .dataframe tbody tr th {\n",
              "        vertical-align: top;\n",
              "    }\n",
              "\n",
              "    .dataframe thead th {\n",
              "        text-align: right;\n",
              "    }\n",
              "</style>\n",
              "<table border=\"1\" class=\"dataframe\">\n",
              "  <thead>\n",
              "    <tr style=\"text-align: right;\">\n",
              "      <th></th>\n",
              "      <th>num</th>\n",
              "      <th>temperature</th>\n",
              "      <th>windspeed</th>\n",
              "      <th>humidity</th>\n",
              "      <th>precipitation</th>\n",
              "      <th>insolation</th>\n",
              "      <th>nelec_cool</th>\n",
              "      <th>solar</th>\n",
              "      <th>hour</th>\n",
              "      <th>day</th>\n",
              "      <th>month</th>\n",
              "      <th>weekday</th>\n",
              "      <th>weekend</th>\n",
              "      <th>DI</th>\n",
              "      <th>DI_70</th>\n",
              "      <th>DI_75</th>\n",
              "      <th>DI_80</th>\n",
              "      <th>DI_83</th>\n",
              "      <th>DI_86</th>\n",
              "      <th>SL</th>\n",
              "      <th>CDH</th>\n",
              "      <th>TW</th>\n",
              "      <th>corona</th>\n",
              "    </tr>\n",
              "  </thead>\n",
              "  <tbody>\n",
              "    <tr>\n",
              "      <th>0</th>\n",
              "      <td>1</td>\n",
              "      <td>27.800000</td>\n",
              "      <td>1.500000</td>\n",
              "      <td>74.000000</td>\n",
              "      <td>0.0</td>\n",
              "      <td>0.0</td>\n",
              "      <td>0</td>\n",
              "      <td>0</td>\n",
              "      <td>0</td>\n",
              "      <td>25</td>\n",
              "      <td>8</td>\n",
              "      <td>1</td>\n",
              "      <td>0</td>\n",
              "      <td>78.602280</td>\n",
              "      <td>0</td>\n",
              "      <td>1</td>\n",
              "      <td>0</td>\n",
              "      <td>0</td>\n",
              "      <td>0</td>\n",
              "      <td>0.0</td>\n",
              "      <td>1.800000</td>\n",
              "      <td>30.027122</td>\n",
              "      <td>2</td>\n",
              "    </tr>\n",
              "    <tr>\n",
              "      <th>1</th>\n",
              "      <td>1</td>\n",
              "      <td>27.633333</td>\n",
              "      <td>1.366667</td>\n",
              "      <td>75.333333</td>\n",
              "      <td>0.0</td>\n",
              "      <td>0.0</td>\n",
              "      <td>0</td>\n",
              "      <td>0</td>\n",
              "      <td>1</td>\n",
              "      <td>25</td>\n",
              "      <td>8</td>\n",
              "      <td>1</td>\n",
              "      <td>0</td>\n",
              "      <td>78.519273</td>\n",
              "      <td>0</td>\n",
              "      <td>1</td>\n",
              "      <td>0</td>\n",
              "      <td>0</td>\n",
              "      <td>0</td>\n",
              "      <td>0.0</td>\n",
              "      <td>3.433333</td>\n",
              "      <td>29.859547</td>\n",
              "      <td>2</td>\n",
              "    </tr>\n",
              "    <tr>\n",
              "      <th>2</th>\n",
              "      <td>1</td>\n",
              "      <td>27.466667</td>\n",
              "      <td>1.233333</td>\n",
              "      <td>76.666667</td>\n",
              "      <td>0.0</td>\n",
              "      <td>0.0</td>\n",
              "      <td>0</td>\n",
              "      <td>0</td>\n",
              "      <td>2</td>\n",
              "      <td>25</td>\n",
              "      <td>8</td>\n",
              "      <td>1</td>\n",
              "      <td>0</td>\n",
              "      <td>78.431867</td>\n",
              "      <td>0</td>\n",
              "      <td>1</td>\n",
              "      <td>0</td>\n",
              "      <td>0</td>\n",
              "      <td>0</td>\n",
              "      <td>0.0</td>\n",
              "      <td>4.900000</td>\n",
              "      <td>29.694705</td>\n",
              "      <td>2</td>\n",
              "    </tr>\n",
              "    <tr>\n",
              "      <th>3</th>\n",
              "      <td>1</td>\n",
              "      <td>27.300000</td>\n",
              "      <td>1.100000</td>\n",
              "      <td>78.000000</td>\n",
              "      <td>0.0</td>\n",
              "      <td>0.0</td>\n",
              "      <td>0</td>\n",
              "      <td>0</td>\n",
              "      <td>3</td>\n",
              "      <td>25</td>\n",
              "      <td>8</td>\n",
              "      <td>1</td>\n",
              "      <td>0</td>\n",
              "      <td>78.340060</td>\n",
              "      <td>0</td>\n",
              "      <td>1</td>\n",
              "      <td>0</td>\n",
              "      <td>0</td>\n",
              "      <td>0</td>\n",
              "      <td>0.0</td>\n",
              "      <td>6.200000</td>\n",
              "      <td>29.533017</td>\n",
              "      <td>2</td>\n",
              "    </tr>\n",
              "    <tr>\n",
              "      <th>4</th>\n",
              "      <td>1</td>\n",
              "      <td>26.900000</td>\n",
              "      <td>1.166667</td>\n",
              "      <td>79.666667</td>\n",
              "      <td>0.0</td>\n",
              "      <td>0.0</td>\n",
              "      <td>0</td>\n",
              "      <td>0</td>\n",
              "      <td>4</td>\n",
              "      <td>25</td>\n",
              "      <td>8</td>\n",
              "      <td>1</td>\n",
              "      <td>0</td>\n",
              "      <td>77.912697</td>\n",
              "      <td>0</td>\n",
              "      <td>1</td>\n",
              "      <td>0</td>\n",
              "      <td>0</td>\n",
              "      <td>0</td>\n",
              "      <td>0.0</td>\n",
              "      <td>7.100000</td>\n",
              "      <td>29.116617</td>\n",
              "      <td>2</td>\n",
              "    </tr>\n",
              "  </tbody>\n",
              "</table>\n",
              "</div>"
            ],
            "text/plain": [
              "   num  temperature  windspeed   humidity  ...   SL       CDH         TW  corona\n",
              "0    1    27.800000   1.500000  74.000000  ...  0.0  1.800000  30.027122       2\n",
              "1    1    27.633333   1.366667  75.333333  ...  0.0  3.433333  29.859547       2\n",
              "2    1    27.466667   1.233333  76.666667  ...  0.0  4.900000  29.694705       2\n",
              "3    1    27.300000   1.100000  78.000000  ...  0.0  6.200000  29.533017       2\n",
              "4    1    26.900000   1.166667  79.666667  ...  0.0  7.100000  29.116617       2\n",
              "\n",
              "[5 rows x 23 columns]"
            ]
          },
          "metadata": {
            "tags": []
          },
          "execution_count": 166
        }
      ]
    },
    {
      "cell_type": "markdown",
      "metadata": {
        "id": "00Jwtq6K8hkm"
      },
      "source": [
        "#### cluster 1"
      ]
    },
    {
      "cell_type": "code",
      "metadata": {
        "id": "rnNYMkMw7LA5"
      },
      "source": [
        "lgb_preds_cl1 = lgb_estimator_cl1.predict(testt)"
      ],
      "execution_count": 175,
      "outputs": []
    },
    {
      "cell_type": "code",
      "metadata": {
        "id": "b6w2wwRJ7qU-",
        "outputId": "e56a6af4-579f-49fa-dfff-5c5643e421dc",
        "colab": {
          "base_uri": "https://localhost:8080/"
        }
      },
      "source": [
        "preds_cl1 = 0.5*lgb_preds_cl1\n",
        "preds_cl1"
      ],
      "execution_count": 176,
      "outputs": [
        {
          "output_type": "execute_result",
          "data": {
            "text/plain": [
              "array([377.78603392, 351.67493721, 352.78248973, ..., 954.48645093,\n",
              "       885.97281628, 842.08241467])"
            ]
          },
          "metadata": {
            "tags": []
          },
          "execution_count": 176
        }
      ]
    },
    {
      "cell_type": "markdown",
      "metadata": {
        "id": "q91HPonE8luK"
      },
      "source": [
        "#### cluster 2"
      ]
    },
    {
      "cell_type": "code",
      "metadata": {
        "id": "tmFbDbR98lV5"
      },
      "source": [
        "lgb_preds_cl2 = lgb_estimator_cl2.predict(testt)"
      ],
      "execution_count": 177,
      "outputs": []
    },
    {
      "cell_type": "code",
      "metadata": {
        "id": "nD2UbWkr8kjN",
        "outputId": "a7395c41-83f1-42fe-af39-906e1555ff57",
        "colab": {
          "base_uri": "https://localhost:8080/"
        }
      },
      "source": [
        "preds_cl2 = 0.5*lgb_preds_cl2\n",
        "preds_cl2"
      ],
      "execution_count": 178,
      "outputs": [
        {
          "output_type": "execute_result",
          "data": {
            "text/plain": [
              "array([377.78603392, 351.67493721, 352.78248973, ..., 954.48645093,\n",
              "       885.97281628, 842.08241467])"
            ]
          },
          "metadata": {
            "tags": []
          },
          "execution_count": 178
        }
      ]
    },
    {
      "cell_type": "markdown",
      "metadata": {
        "id": "6loaBFks8m3_"
      },
      "source": [
        "#### cluster3"
      ]
    },
    {
      "cell_type": "code",
      "metadata": {
        "id": "50rHZeH18sQW"
      },
      "source": [
        "lgb_preds_cl3 = lgb_estimator_cl3.predict(testt)"
      ],
      "execution_count": 179,
      "outputs": []
    },
    {
      "cell_type": "code",
      "metadata": {
        "id": "eLOLM4nH81EL",
        "outputId": "bdabf47c-5298-4180-807b-d119dc0fbd30",
        "colab": {
          "base_uri": "https://localhost:8080/"
        }
      },
      "source": [
        "preds_cl3 = 0.5*lgb_preds_cl3\n",
        "preds_cl3"
      ],
      "execution_count": 180,
      "outputs": [
        {
          "output_type": "execute_result",
          "data": {
            "text/plain": [
              "array([454.34754254, 366.36549018, 351.81829585, ..., 510.62492227,\n",
              "       513.61768141, 819.40236605])"
            ]
          },
          "metadata": {
            "tags": []
          },
          "execution_count": 180
        }
      ]
    },
    {
      "cell_type": "markdown",
      "metadata": {
        "id": "A_Y-3rW98nwV"
      },
      "source": [
        "#### cluster4"
      ]
    },
    {
      "cell_type": "code",
      "metadata": {
        "id": "jndd8I8A8ulL"
      },
      "source": [
        "lgb_preds_cl4 = lgb_estimator_cl4.predict(testt)"
      ],
      "execution_count": 181,
      "outputs": []
    },
    {
      "cell_type": "code",
      "metadata": {
        "id": "V2StN3eK81kC",
        "outputId": "d6989e59-6e6e-4696-f957-3ba9ef5ec1ff",
        "colab": {
          "base_uri": "https://localhost:8080/"
        }
      },
      "source": [
        "preds_cl4 = 0.5*lgb_preds_cl4\n",
        "preds_cl4"
      ],
      "execution_count": 182,
      "outputs": [
        {
          "output_type": "execute_result",
          "data": {
            "text/plain": [
              "array([ 612.59154573,  592.12346895,  592.12072624, ...,  945.53929067,\n",
              "        774.30641182, 1493.69873856])"
            ]
          },
          "metadata": {
            "tags": []
          },
          "execution_count": 182
        }
      ]
    },
    {
      "cell_type": "markdown",
      "metadata": {
        "id": "YB-A5uFh8omx"
      },
      "source": [
        "#### cluster5"
      ]
    },
    {
      "cell_type": "code",
      "metadata": {
        "id": "mV4jfKTp8v1j"
      },
      "source": [
        "lgb_preds_cl5 = lgb_estimator_cl5.predict(testt)"
      ],
      "execution_count": 183,
      "outputs": []
    },
    {
      "cell_type": "code",
      "metadata": {
        "id": "KLlS71XU82JO",
        "outputId": "c20ef984-4c10-416f-d0ad-b752233dabbd",
        "colab": {
          "base_uri": "https://localhost:8080/"
        }
      },
      "source": [
        "preds_cl5 = 0.5*lgb_preds_cl5\n",
        "preds_cl5"
      ],
      "execution_count": 184,
      "outputs": [
        {
          "output_type": "execute_result",
          "data": {
            "text/plain": [
              "array([1467.30206054, 1403.8577935 , 1392.44273292, ...,  651.04921355,\n",
              "        559.36160691,  437.14150742])"
            ]
          },
          "metadata": {
            "tags": []
          },
          "execution_count": 184
        }
      ]
    },
    {
      "cell_type": "markdown",
      "metadata": {
        "id": "gXc-EafWClfW"
      },
      "source": [
        "--------------------------------------------------------------------------------------------------------------\n",
        "\n",
        "\n",
        "\n",
        "DACON 베이스라인"
      ]
    },
    {
      "cell_type": "code",
      "metadata": {
        "id": "YEY7RN5RG8Zw"
      },
      "source": [
        "cross = KFold(n_splits = 5, shuffle = True, random_state = 42)\n",
        "folds = []\n",
        "for train_idx, valid_idx in cross.split(cl1_x, cl1_y):\n",
        "  folds.append((train_idx, valid_idx))"
      ],
      "execution_count": null,
      "outputs": []
    },
    {
      "cell_type": "code",
      "metadata": {
        "colab": {
          "base_uri": "https://localhost:8080/",
          "height": 422
        },
        "id": "rAiQA7jxUw9q",
        "outputId": "c25850f7-0027-4594-ecc2-78b5fd2a92d2"
      },
      "source": [
        "models={}\n",
        "for fold in range(5):\n",
        "    print(f'===================={fold+1}=======================')\n",
        "    train_idx, valid_idx=folds[fold]\n",
        "    X_train=cl1_x.iloc[train_idx, :]\n",
        "    y_train=cl1_y.iloc[train_idx, :]\n",
        "    X_valid=cl1_x.iloc[valid_idx, :]\n",
        "    y_valid=cl1_y.iloc[valid_idx, :]\n",
        "    \n",
        "    model=LGBMRegressor(n_estimators=100)\n",
        "    model.fit(X_train, y_train, eval_set=[(X_train, y_train), (X_valid, y_valid)], \n",
        "             early_stopping_rounds=30, verbose=100)\n",
        "    models[fold]=model\n",
        "    \n",
        "    print(f'================================================\\n\\n')"
      ],
      "execution_count": null,
      "outputs": [
        {
          "output_type": "stream",
          "text": [
            "====================1=======================\n"
          ],
          "name": "stdout"
        },
        {
          "output_type": "error",
          "ename": "ValueError",
          "evalue": "ignored",
          "traceback": [
            "\u001b[0;31m---------------------------------------------------------------------------\u001b[0m",
            "\u001b[0;31mValueError\u001b[0m                                Traceback (most recent call last)",
            "\u001b[0;32m<ipython-input-21-74b7ff37f3e5>\u001b[0m in \u001b[0;36m<module>\u001b[0;34m()\u001b[0m\n\u001b[1;32m     10\u001b[0m     \u001b[0mmodel\u001b[0m\u001b[0;34m=\u001b[0m\u001b[0mLGBMRegressor\u001b[0m\u001b[0;34m(\u001b[0m\u001b[0mn_estimators\u001b[0m\u001b[0;34m=\u001b[0m\u001b[0;36m100\u001b[0m\u001b[0;34m)\u001b[0m\u001b[0;34m\u001b[0m\u001b[0;34m\u001b[0m\u001b[0m\n\u001b[1;32m     11\u001b[0m     model.fit(X_train, y_train, eval_set=[(X_train, y_train), (X_valid, y_valid)], \n\u001b[0;32m---> 12\u001b[0;31m              early_stopping_rounds=30, verbose=100)\n\u001b[0m\u001b[1;32m     13\u001b[0m     \u001b[0mmodels\u001b[0m\u001b[0;34m[\u001b[0m\u001b[0mfold\u001b[0m\u001b[0;34m]\u001b[0m\u001b[0;34m=\u001b[0m\u001b[0mmodel\u001b[0m\u001b[0;34m\u001b[0m\u001b[0;34m\u001b[0m\u001b[0m\n\u001b[1;32m     14\u001b[0m \u001b[0;34m\u001b[0m\u001b[0m\n",
            "\u001b[0;32m/usr/local/lib/python3.7/dist-packages/lightgbm/sklearn.py\u001b[0m in \u001b[0;36mfit\u001b[0;34m(self, X, y, sample_weight, init_score, eval_set, eval_names, eval_sample_weight, eval_init_score, eval_metric, early_stopping_rounds, verbose, feature_name, categorical_feature, callbacks)\u001b[0m\n\u001b[1;32m    683\u001b[0m                                        \u001b[0mverbose\u001b[0m\u001b[0;34m=\u001b[0m\u001b[0mverbose\u001b[0m\u001b[0;34m,\u001b[0m \u001b[0mfeature_name\u001b[0m\u001b[0;34m=\u001b[0m\u001b[0mfeature_name\u001b[0m\u001b[0;34m,\u001b[0m\u001b[0;34m\u001b[0m\u001b[0;34m\u001b[0m\u001b[0m\n\u001b[1;32m    684\u001b[0m                                        \u001b[0mcategorical_feature\u001b[0m\u001b[0;34m=\u001b[0m\u001b[0mcategorical_feature\u001b[0m\u001b[0;34m,\u001b[0m\u001b[0;34m\u001b[0m\u001b[0;34m\u001b[0m\u001b[0m\n\u001b[0;32m--> 685\u001b[0;31m                                        callbacks=callbacks)\n\u001b[0m\u001b[1;32m    686\u001b[0m         \u001b[0;32mreturn\u001b[0m \u001b[0mself\u001b[0m\u001b[0;34m\u001b[0m\u001b[0;34m\u001b[0m\u001b[0m\n\u001b[1;32m    687\u001b[0m \u001b[0;34m\u001b[0m\u001b[0m\n",
            "\u001b[0;32m/usr/local/lib/python3.7/dist-packages/lightgbm/sklearn.py\u001b[0m in \u001b[0;36mfit\u001b[0;34m(self, X, y, sample_weight, init_score, group, eval_set, eval_names, eval_sample_weight, eval_class_weight, eval_init_score, eval_group, eval_metric, early_stopping_rounds, verbose, feature_name, categorical_feature, callbacks)\u001b[0m\n\u001b[1;32m    542\u001b[0m                               \u001b[0mverbose_eval\u001b[0m\u001b[0;34m=\u001b[0m\u001b[0mverbose\u001b[0m\u001b[0;34m,\u001b[0m \u001b[0mfeature_name\u001b[0m\u001b[0;34m=\u001b[0m\u001b[0mfeature_name\u001b[0m\u001b[0;34m,\u001b[0m\u001b[0;34m\u001b[0m\u001b[0;34m\u001b[0m\u001b[0m\n\u001b[1;32m    543\u001b[0m                               \u001b[0mcategorical_feature\u001b[0m\u001b[0;34m=\u001b[0m\u001b[0mcategorical_feature\u001b[0m\u001b[0;34m,\u001b[0m\u001b[0;34m\u001b[0m\u001b[0;34m\u001b[0m\u001b[0m\n\u001b[0;32m--> 544\u001b[0;31m                               callbacks=callbacks)\n\u001b[0m\u001b[1;32m    545\u001b[0m \u001b[0;34m\u001b[0m\u001b[0m\n\u001b[1;32m    546\u001b[0m         \u001b[0;32mif\u001b[0m \u001b[0mevals_result\u001b[0m\u001b[0;34m:\u001b[0m\u001b[0;34m\u001b[0m\u001b[0;34m\u001b[0m\u001b[0m\n",
            "\u001b[0;32m/usr/local/lib/python3.7/dist-packages/lightgbm/engine.py\u001b[0m in \u001b[0;36mtrain\u001b[0;34m(params, train_set, num_boost_round, valid_sets, valid_names, fobj, feval, init_model, feature_name, categorical_feature, early_stopping_rounds, evals_result, verbose_eval, learning_rates, keep_training_booster, callbacks)\u001b[0m\n\u001b[1;32m    195\u001b[0m     \u001b[0;31m# construct booster\u001b[0m\u001b[0;34m\u001b[0m\u001b[0;34m\u001b[0m\u001b[0;34m\u001b[0m\u001b[0m\n\u001b[1;32m    196\u001b[0m     \u001b[0;32mtry\u001b[0m\u001b[0;34m:\u001b[0m\u001b[0;34m\u001b[0m\u001b[0;34m\u001b[0m\u001b[0m\n\u001b[0;32m--> 197\u001b[0;31m         \u001b[0mbooster\u001b[0m \u001b[0;34m=\u001b[0m \u001b[0mBooster\u001b[0m\u001b[0;34m(\u001b[0m\u001b[0mparams\u001b[0m\u001b[0;34m=\u001b[0m\u001b[0mparams\u001b[0m\u001b[0;34m,\u001b[0m \u001b[0mtrain_set\u001b[0m\u001b[0;34m=\u001b[0m\u001b[0mtrain_set\u001b[0m\u001b[0;34m)\u001b[0m\u001b[0;34m\u001b[0m\u001b[0;34m\u001b[0m\u001b[0m\n\u001b[0m\u001b[1;32m    198\u001b[0m         \u001b[0;32mif\u001b[0m \u001b[0mis_valid_contain_train\u001b[0m\u001b[0;34m:\u001b[0m\u001b[0;34m\u001b[0m\u001b[0;34m\u001b[0m\u001b[0m\n\u001b[1;32m    199\u001b[0m             \u001b[0mbooster\u001b[0m\u001b[0;34m.\u001b[0m\u001b[0mset_train_data_name\u001b[0m\u001b[0;34m(\u001b[0m\u001b[0mtrain_data_name\u001b[0m\u001b[0;34m)\u001b[0m\u001b[0;34m\u001b[0m\u001b[0;34m\u001b[0m\u001b[0m\n",
            "\u001b[0;32m/usr/local/lib/python3.7/dist-packages/lightgbm/basic.py\u001b[0m in \u001b[0;36m__init__\u001b[0;34m(self, params, train_set, model_file, silent)\u001b[0m\n\u001b[1;32m   1550\u001b[0m             \u001b[0mself\u001b[0m\u001b[0;34m.\u001b[0m\u001b[0mhandle\u001b[0m \u001b[0;34m=\u001b[0m \u001b[0mctypes\u001b[0m\u001b[0;34m.\u001b[0m\u001b[0mc_void_p\u001b[0m\u001b[0;34m(\u001b[0m\u001b[0;34m)\u001b[0m\u001b[0;34m\u001b[0m\u001b[0;34m\u001b[0m\u001b[0m\n\u001b[1;32m   1551\u001b[0m             _safe_call(_LIB.LGBM_BoosterCreate(\n\u001b[0;32m-> 1552\u001b[0;31m                 \u001b[0mtrain_set\u001b[0m\u001b[0;34m.\u001b[0m\u001b[0mconstruct\u001b[0m\u001b[0;34m(\u001b[0m\u001b[0;34m)\u001b[0m\u001b[0;34m.\u001b[0m\u001b[0mhandle\u001b[0m\u001b[0;34m,\u001b[0m\u001b[0;34m\u001b[0m\u001b[0;34m\u001b[0m\u001b[0m\n\u001b[0m\u001b[1;32m   1553\u001b[0m                 \u001b[0mc_str\u001b[0m\u001b[0;34m(\u001b[0m\u001b[0mparams_str\u001b[0m\u001b[0;34m)\u001b[0m\u001b[0;34m,\u001b[0m\u001b[0;34m\u001b[0m\u001b[0;34m\u001b[0m\u001b[0m\n\u001b[1;32m   1554\u001b[0m                 ctypes.byref(self.handle)))\n",
            "\u001b[0;32m/usr/local/lib/python3.7/dist-packages/lightgbm/basic.py\u001b[0m in \u001b[0;36mconstruct\u001b[0;34m(self)\u001b[0m\n\u001b[1;32m    999\u001b[0m                                 \u001b[0minit_score\u001b[0m\u001b[0;34m=\u001b[0m\u001b[0mself\u001b[0m\u001b[0;34m.\u001b[0m\u001b[0minit_score\u001b[0m\u001b[0;34m,\u001b[0m \u001b[0mpredictor\u001b[0m\u001b[0;34m=\u001b[0m\u001b[0mself\u001b[0m\u001b[0;34m.\u001b[0m\u001b[0m_predictor\u001b[0m\u001b[0;34m,\u001b[0m\u001b[0;34m\u001b[0m\u001b[0;34m\u001b[0m\u001b[0m\n\u001b[1;32m   1000\u001b[0m                                 \u001b[0msilent\u001b[0m\u001b[0;34m=\u001b[0m\u001b[0mself\u001b[0m\u001b[0;34m.\u001b[0m\u001b[0msilent\u001b[0m\u001b[0;34m,\u001b[0m \u001b[0mfeature_name\u001b[0m\u001b[0;34m=\u001b[0m\u001b[0mself\u001b[0m\u001b[0;34m.\u001b[0m\u001b[0mfeature_name\u001b[0m\u001b[0;34m,\u001b[0m\u001b[0;34m\u001b[0m\u001b[0;34m\u001b[0m\u001b[0m\n\u001b[0;32m-> 1001\u001b[0;31m                                 categorical_feature=self.categorical_feature, params=self.params)\n\u001b[0m\u001b[1;32m   1002\u001b[0m             \u001b[0;32mif\u001b[0m \u001b[0mself\u001b[0m\u001b[0;34m.\u001b[0m\u001b[0mfree_raw_data\u001b[0m\u001b[0;34m:\u001b[0m\u001b[0;34m\u001b[0m\u001b[0;34m\u001b[0m\u001b[0m\n\u001b[1;32m   1003\u001b[0m                 \u001b[0mself\u001b[0m\u001b[0;34m.\u001b[0m\u001b[0mdata\u001b[0m \u001b[0;34m=\u001b[0m \u001b[0;32mNone\u001b[0m\u001b[0;34m\u001b[0m\u001b[0;34m\u001b[0m\u001b[0m\n",
            "\u001b[0;32m/usr/local/lib/python3.7/dist-packages/lightgbm/basic.py\u001b[0m in \u001b[0;36m_lazy_init\u001b[0;34m(self, data, label, reference, weight, group, init_score, predictor, silent, feature_name, categorical_feature, params)\u001b[0m\n\u001b[1;32m    727\u001b[0m                                                                                              \u001b[0mfeature_name\u001b[0m\u001b[0;34m,\u001b[0m\u001b[0;34m\u001b[0m\u001b[0;34m\u001b[0m\u001b[0m\n\u001b[1;32m    728\u001b[0m                                                                                              \u001b[0mcategorical_feature\u001b[0m\u001b[0;34m,\u001b[0m\u001b[0;34m\u001b[0m\u001b[0;34m\u001b[0m\u001b[0m\n\u001b[0;32m--> 729\u001b[0;31m                                                                                              self.pandas_categorical)\n\u001b[0m\u001b[1;32m    730\u001b[0m         \u001b[0mlabel\u001b[0m \u001b[0;34m=\u001b[0m \u001b[0m_label_from_pandas\u001b[0m\u001b[0;34m(\u001b[0m\u001b[0mlabel\u001b[0m\u001b[0;34m)\u001b[0m\u001b[0;34m\u001b[0m\u001b[0;34m\u001b[0m\u001b[0m\n\u001b[1;32m    731\u001b[0m         \u001b[0mself\u001b[0m\u001b[0;34m.\u001b[0m\u001b[0mdata_has_header\u001b[0m \u001b[0;34m=\u001b[0m \u001b[0;32mFalse\u001b[0m\u001b[0;34m\u001b[0m\u001b[0;34m\u001b[0m\u001b[0m\n",
            "\u001b[0;32m/usr/local/lib/python3.7/dist-packages/lightgbm/basic.py\u001b[0m in \u001b[0;36m_data_from_pandas\u001b[0;34m(data, feature_name, categorical_feature, pandas_categorical)\u001b[0m\n\u001b[1;32m    275\u001b[0m             msg = (\"DataFrame.dtypes for data must be int, float or bool.\\n\"\n\u001b[1;32m    276\u001b[0m                    \"Did not expect the data types in fields \")\n\u001b[0;32m--> 277\u001b[0;31m             \u001b[0;32mraise\u001b[0m \u001b[0mValueError\u001b[0m\u001b[0;34m(\u001b[0m\u001b[0mmsg\u001b[0m \u001b[0;34m+\u001b[0m \u001b[0;34m', '\u001b[0m\u001b[0;34m.\u001b[0m\u001b[0mjoin\u001b[0m\u001b[0;34m(\u001b[0m\u001b[0mbad_fields\u001b[0m\u001b[0;34m)\u001b[0m\u001b[0;34m)\u001b[0m\u001b[0;34m\u001b[0m\u001b[0;34m\u001b[0m\u001b[0m\n\u001b[0m\u001b[1;32m    278\u001b[0m         \u001b[0mdata\u001b[0m \u001b[0;34m=\u001b[0m \u001b[0mdata\u001b[0m\u001b[0;34m.\u001b[0m\u001b[0mvalues\u001b[0m\u001b[0;34m.\u001b[0m\u001b[0mastype\u001b[0m\u001b[0;34m(\u001b[0m\u001b[0;34m'float'\u001b[0m\u001b[0;34m)\u001b[0m\u001b[0;34m\u001b[0m\u001b[0;34m\u001b[0m\u001b[0m\n\u001b[1;32m    279\u001b[0m     \u001b[0;32melse\u001b[0m\u001b[0;34m:\u001b[0m\u001b[0;34m\u001b[0m\u001b[0;34m\u001b[0m\u001b[0m\n",
            "\u001b[0;31mValueError\u001b[0m: DataFrame.dtypes for data must be int, float or bool.\nDid not expect the data types in fields date_time, date"
          ]
        }
      ]
    }
  ]
}